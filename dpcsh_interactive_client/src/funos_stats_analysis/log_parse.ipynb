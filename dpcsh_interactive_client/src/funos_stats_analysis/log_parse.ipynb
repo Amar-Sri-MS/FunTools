{
 "cells": [
  {
   "cell_type": "markdown",
   "metadata": {},
   "source": [
    "# module init log parsing\n",
    "\n",
    "To parse module init log from time stamp based log\n",
    "\n"
   ]
  },
  {
   "cell_type": "code",
   "execution_count": 14,
   "metadata": {},
   "outputs": [],
   "source": [
    "import re\n",
    "import json\n",
    "import requests"
   ]
  },
  {
   "cell_type": "code",
   "execution_count": 16,
   "metadata": {},
   "outputs": [],
   "source": [
    "# input file\n",
    "# INPUT_FILE = \"posix-log.txt\"\n",
    "INPUT_FILE = \"uartout0.0.txt\"\n",
    "INPUT_FILE_URL = \"http://palladium-jobs.fungible.local:8080/job/4297914/raw_file/odp/uartout0.0.txt\"\n",
    "MODULE_INIT_FILE = \"modules_from_log.json\"\n",
    "NOTIF_INIT_FILE = \"notifications_from_log.json\""
   ]
  },
  {
   "cell_type": "code",
   "execution_count": null,
   "metadata": {},
   "outputs": [],
   "source": [
    "READ_URL = True\n",
    "READ_FILE = False"
   ]
  },
  {
   "cell_type": "code",
   "execution_count": 17,
   "metadata": {},
   "outputs": [],
   "source": [
    "response = requests.get(INPUT_FILE_URL)\n",
    "lines = response.text"
   ]
  },
  {
   "cell_type": "code",
   "execution_count": 3,
   "metadata": {},
   "outputs": [],
   "source": [
    "if READ_FILE:\n",
    "    # load text file\n",
    "    with open(INPUT_FILE) as f:\n",
    "        # lines = f.readlines()\n",
    "        lines = f.read()\n",
    "elif READ_URL:\n",
    "    response = requests.get(INPUT_FILE_URL)\n",
    "    lines = response.text\n",
    "else:\n",
    "    print(\"No input file or url specified\")\n",
    "    assert False\n"
   ]
  },
  {
   "cell_type": "code",
   "execution_count": 4,
   "metadata": {},
   "outputs": [],
   "source": [
    "# remove time stamp from each line\n",
    "# FROM: [1664319485.206378 0.0.0] pci_early: performing i2c/MUD initialization\n",
    "# TO  : pci_early: performing i2c/MUD initialization\n",
    "# import re\n",
    "# lines = [re.sub(r'\\[.*\\] ', '', line) for line in lines]"
   ]
  },
  {
   "cell_type": "code",
   "execution_count": 20,
   "metadata": {},
   "outputs": [],
   "source": [
    "# remove time stamp from each line\n",
    "# FROM: [1664319485.206378 0.0.0] pci_early: performing i2c/MUD initialization\n",
    "lines = re.sub(r'\\[.*\\] ', '', lines)"
   ]
  },
  {
   "cell_type": "code",
   "execution_count": 22,
   "metadata": {},
   "outputs": [],
   "source": [
    "MODULE_MARKERS = r'Time-chart data for module init = (.*?)}'\n",
    "\n",
    "NOTIF_MARKERS = r'Time-chart data for notifications = (.*?)}'"
   ]
  },
  {
   "cell_type": "code",
   "execution_count": 8,
   "metadata": {},
   "outputs": [],
   "source": [
    "# with open('submission.tex') as f: print((re.search(r'% <SCPD_SUBMISSION_TAG>_2a(.*?)% <SCPD_SUBMISSION_TAG>_2a', f.read(), re.DOTALL)).group(1))"
   ]
  },
  {
   "cell_type": "code",
   "execution_count": 23,
   "metadata": {},
   "outputs": [],
   "source": [
    "module_init = re.search(MODULE_MARKERS, lines, re.DOTALL).group(1)\n",
    "module_init += \"}\" # add back the end marker"
   ]
  },
  {
   "cell_type": "code",
   "execution_count": 24,
   "metadata": {},
   "outputs": [],
   "source": [
    "notif_init = re.search(NOTIF_MARKERS, lines, re.DOTALL).group(1)\n",
    "notif_init += \"}\" # add back the end marker"
   ]
  },
  {
   "cell_type": "code",
   "execution_count": 25,
   "metadata": {},
   "outputs": [],
   "source": [
    "module_init = json.loads(module_init)"
   ]
  },
  {
   "cell_type": "code",
   "execution_count": 26,
   "metadata": {},
   "outputs": [],
   "source": [
    "notif_init = json.loads(notif_init)"
   ]
  },
  {
   "cell_type": "code",
   "execution_count": 27,
   "metadata": {},
   "outputs": [],
   "source": [
    "# save file\n",
    "with open(MODULE_INIT_FILE, 'w') as f:\n",
    "    json.dump(module_init, f, indent=4)\n",
    "\n",
    "\n",
    "with open(NOTIF_INIT_FILE, 'w') as f:\n",
    "    json.dump(notif_init, f, indent=4)\n"
   ]
  }
 ],
 "metadata": {
  "kernelspec": {
   "display_name": "Python 3.8.12 ('pytorch_env')",
   "language": "python",
   "name": "python3"
  },
  "language_info": {
   "codemirror_mode": {
    "name": "ipython",
    "version": 3
   },
   "file_extension": ".py",
   "mimetype": "text/x-python",
   "name": "python",
   "nbconvert_exporter": "python",
   "pygments_lexer": "ipython3",
   "version": "3.8.12"
  },
  "orig_nbformat": 4,
  "vscode": {
   "interpreter": {
    "hash": "3fa8f9c45b60853bb3d615f814548b5337da45fc6ea40b493b018f80b808d764"
   }
  }
 },
 "nbformat": 4,
 "nbformat_minor": 2
}
