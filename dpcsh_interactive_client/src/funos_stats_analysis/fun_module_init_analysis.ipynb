{
 "cells": [
  {
   "cell_type": "markdown",
   "metadata": {},
   "source": [
    "# FunOS module initialization analysis"
   ]
  },
  {
   "cell_type": "markdown",
   "metadata": {},
   "source": [
    "This notebook analyze module initilzation, durations and dependencies.\n",
    "Input file is `modules.json`.\n",
    "\n",
    "**References** for the notebook:\n",
    "- [Using simple barh based implementation](https://towardsdatascience.com/gantt-charts-with-pythons-matplotlib-395b7af72d72)\n",
    "- [Barh based with hints on how to make better representation](https://medium.com/geekculture/generate-gantt-chart-in-python-9d1e1fe9103e)"
   ]
  },
  {
   "cell_type": "markdown",
   "metadata": {},
   "source": [
    "TODO:\n",
    "- check plotly one more time (just use line chart ?) or use gannt style, which requre datetime conversion"
   ]
  },
  {
   "cell_type": "code",
   "execution_count": 25,
   "metadata": {},
   "outputs": [],
   "source": [
    "# *NOTE*: run this command to clean output cell and meta data.\n",
    "\n",
    "#nb-clean clean  ./funos_stats_analysis/fun_module_init_analysis.ipynb"
   ]
  },
  {
   "cell_type": "code",
   "execution_count": 26,
   "metadata": {},
   "outputs": [],
   "source": [
    "# html gen\n",
    "# cd Projects/Fng/FunTools/dpcsh_interactive_client/src\n",
    "# ./dpcsh_interactive_client/convert_nb.py --filename ./funos_stats_analysis/fun_module_init_analysis.ipynb --execute \n",
    "# scp ./funos_stats_analysis/fun_module_init_analysis.html vnc-shared-07:/dogfood/users/insop/html/modules_init "
   ]
  },
  {
   "cell_type": "code",
   "execution_count": 27,
   "metadata": {},
   "outputs": [],
   "source": [
    "import json\n",
    "import matplotlib.pyplot as plt\n",
    "import numpy as np\n",
    "import pandas as pd\n",
    "from typing import Tuple\n",
    "import yaml\n",
    "import json\n",
    "\n",
    "%matplotlib inline\n",
    "\n",
    "import matplotlib.pyplot as plt\n",
    "plt.rcParams.update({'font.size': 22})\n",
    "\n",
    "#https://stackoverflow.com/questions/36288670/how-to-programmatically-generate-markdown-output-in-jupyter-notebooks\n",
    "from IPython.display import display, Markdown, Latex"
   ]
  },
  {
   "cell_type": "code",
   "execution_count": 28,
   "metadata": {},
   "outputs": [],
   "source": [
    "DEBUG=False"
   ]
  },
  {
   "cell_type": "code",
   "execution_count": 29,
   "metadata": {},
   "outputs": [],
   "source": [
    "def _fmt(s, show_d=True):\n",
    "    \"\"\"show decimal number with comma\"\"\"\n",
    "    if show_d:\n",
    "        return format(s, \",d\")\n",
    "    else:\n",
    "        return s"
   ]
  },
  {
   "cell_type": "code",
   "execution_count": 30,
   "metadata": {},
   "outputs": [],
   "source": [
    "def convert_to_list_of_dicts(raw_data: dict, convert_time_to_ns: bool, debug: bool) -> list:\n",
    "    \"\"\"convert the raw data (dict based format) to list of dicts\n",
    "\n",
    "    Parameters\n",
    "    ----------\n",
    "    raw_data : dict\n",
    "        raw data in dict format, module_name: [start_time, end_time]\n",
    "    \n",
    "    convert_time_to_ns : bool, optional\n",
    "        convert time to ns, by default True\n",
    "    \n",
    "    Returns\n",
    "    -------\n",
    "    fun_module_init_list : list\n",
    "        list of dicts, each dict is a module, with keys: module_name, start_time, finish_time\n",
    "    \"\"\"\n",
    "    time_unit = 0\n",
    "    if convert_time_to_ns:\n",
    "        time_unit = 1000000000\n",
    "    fun_module_init_list = []\n",
    "    for module_name, module_data in raw_data.items():\n",
    "        temp_dict = {}\n",
    "        temp_dict['module_name'] = module_name\n",
    "        temp_dict['start_time'] = time_unit * float(module_data[0])\n",
    "        temp_dict['finish_time'] = time_unit * float(module_data[1])\n",
    "        # add duration column\n",
    "        temp_dict['module_init_duration'] = temp_dict['finish_time'] - temp_dict['start_time']\n",
    "        fun_module_init_list.append(temp_dict)\n",
    "\n",
    "    if debug:\n",
    "        print(\"List created\")\n",
    "        print(fun_module_init_list[:2])\n",
    "        print(\"Time conversion unit: {}\".format(time_unit))\n",
    "        # convert list of dicts to pandas dataframe\n",
    "        # fun_module_init_df = pd.DataFrame(fun_module_init_list)\n",
    "        # fun_module_init_df.head()\n",
    "    \n",
    "    return fun_module_init_list"
   ]
  },
  {
   "cell_type": "code",
   "execution_count": 31,
   "metadata": {},
   "outputs": [],
   "source": [
    "def load_input_data(input_file: str, convert_time_to_ns: bool = True, debug: bool=False) -> pd.DataFrame:\n",
    "    \"\"\"load input data from json file and convert to pandas dataframe\n",
    "\n",
    "    Parameters\n",
    "    ----------\n",
    "    input_file : str\n",
    "        input file name\n",
    "    \n",
    "    Returns\n",
    "    -------\n",
    "\n",
    "    fun_module_init_df : pd.DataFrame\n",
    "        pandas dataframe with module_name, start_time, finish_time, module_init_duration\n",
    "\n",
    "    \"\"\"\n",
    "    with open(input_file, 'r') as f:\n",
    "        fun_module_init = json.load(f)\n",
    "    \n",
    "    if debug:\n",
    "        print(\"Number of modules: {}\".format(len(fun_module_init)))\n",
    "        print(\"fun_module_init.keys: {}\".format(fun_module_init.keys()))\n",
    "        print(\"fun_module_init['accel_telem-init']: {}\".format(fun_module_init['accel_telem-init']))\n",
    "\n",
    "    # convert to list of dicts\n",
    "    fun_module_init_list = convert_to_list_of_dicts(fun_module_init, convert_time_to_ns=convert_time_to_ns, debug=debug)\n",
    "\n",
    "    # convert to df\n",
    "    fun_module_init_df = pd.DataFrame(fun_module_init_list)\n",
    "    fun_module_init_df.set_index('module_name', inplace=True)\n",
    "\n",
    "    return fun_module_init_df\n"
   ]
  },
  {
   "cell_type": "markdown",
   "metadata": {},
   "source": [
    "## Load `modules.json` file and convert it to dataframe"
   ]
  },
  {
   "cell_type": "markdown",
   "metadata": {},
   "source": [
    "Example input:\n",
    "```\n",
    "{\n",
    "    \"accel_telem-init\": [0.024845458, 0.024987833],\n",
    "    \"adi-init\": [0.040308791, 0.040344291],\n",
    "    \"app-init\": [0.029524875, 0.029535041],\n",
    "...\n",
    "```\n",
    "\n",
    "Example output:\n",
    "```\n",
    "\tmodule_name\tstart_time\tfinish_time\n",
    "0\taccel_telem-init\t0.024845\t0.024988\n",
    "1\tadi-init\t0.040309\t0.040344\n",
    "2\tapp-init\t0.029525\t0.029535\n",
    "3\tbin_ctl_handler-init\t0.002356\t0.002492\n",
    "4\tbm-init\t0.030727\t0.030735\n",
    "```"
   ]
  },
  {
   "cell_type": "code",
   "execution_count": 32,
   "metadata": {},
   "outputs": [],
   "source": [
    "# load config, TODO use config file\n",
    "\n",
    "# INPUT_FILE = \"modules_posix.json\"\n",
    "INPUT_FILE = \"modules.json\""
   ]
  },
  {
   "cell_type": "code",
   "execution_count": 33,
   "metadata": {},
   "outputs": [
    {
     "data": {
      "text/markdown": [
       "### Checking data from `modules.json`"
      ],
      "text/plain": [
       "<IPython.core.display.Markdown object>"
      ]
     },
     "metadata": {},
     "output_type": "display_data"
    },
    {
     "data": {
      "text/html": [
       "<div>\n",
       "<style scoped>\n",
       "    .dataframe tbody tr th:only-of-type {\n",
       "        vertical-align: middle;\n",
       "    }\n",
       "\n",
       "    .dataframe tbody tr th {\n",
       "        vertical-align: top;\n",
       "    }\n",
       "\n",
       "    .dataframe thead th {\n",
       "        text-align: right;\n",
       "    }\n",
       "</style>\n",
       "<table border=\"1\" class=\"dataframe\">\n",
       "  <thead>\n",
       "    <tr style=\"text-align: right;\">\n",
       "      <th></th>\n",
       "      <th>start_time</th>\n",
       "      <th>finish_time</th>\n",
       "      <th>module_init_duration</th>\n",
       "    </tr>\n",
       "    <tr>\n",
       "      <th>module_name</th>\n",
       "      <th></th>\n",
       "      <th></th>\n",
       "      <th></th>\n",
       "    </tr>\n",
       "  </thead>\n",
       "  <tbody>\n",
       "    <tr>\n",
       "      <th>accel_telem-init</th>\n",
       "      <td>1.535963e+10</td>\n",
       "      <td>1.535971e+10</td>\n",
       "      <td>74944.0</td>\n",
       "    </tr>\n",
       "    <tr>\n",
       "      <th>adi-init</th>\n",
       "      <td>1.309754e+10</td>\n",
       "      <td>1.309756e+10</td>\n",
       "      <td>15217.0</td>\n",
       "    </tr>\n",
       "    <tr>\n",
       "      <th>bin_ctl_handler-init</th>\n",
       "      <td>3.415369e+07</td>\n",
       "      <td>3.437486e+07</td>\n",
       "      <td>221171.0</td>\n",
       "    </tr>\n",
       "    <tr>\n",
       "      <th>bm_pool_config-init</th>\n",
       "      <td>2.686806e+08</td>\n",
       "      <td>2.713919e+08</td>\n",
       "      <td>2711301.0</td>\n",
       "    </tr>\n",
       "    <tr>\n",
       "      <th>board_manager-init</th>\n",
       "      <td>3.438188e+07</td>\n",
       "      <td>2.332302e+08</td>\n",
       "      <td>198848338.0</td>\n",
       "    </tr>\n",
       "  </tbody>\n",
       "</table>\n",
       "</div>"
      ],
      "text/plain": [
       "                        start_time   finish_time  module_init_duration\n",
       "module_name                                                           \n",
       "accel_telem-init      1.535963e+10  1.535971e+10               74944.0\n",
       "adi-init              1.309754e+10  1.309756e+10               15217.0\n",
       "bin_ctl_handler-init  3.415369e+07  3.437486e+07              221171.0\n",
       "bm_pool_config-init   2.686806e+08  2.713919e+08             2711301.0\n",
       "board_manager-init    3.438188e+07  2.332302e+08           198848338.0"
      ]
     },
     "execution_count": 33,
     "metadata": {},
     "output_type": "execute_result"
    }
   ],
   "source": [
    "# MAIN CALLS\n",
    "# load input data\n",
    "\n",
    "note_str = '### Checking data from `modules.json`'\n",
    "display(Markdown(note_str))\n",
    "\n",
    "fun_module_init_df = load_input_data(INPUT_FILE, convert_time_to_ns=True, debug=False)\n",
    "fun_module_init_df.head()"
   ]
  },
  {
   "cell_type": "code",
   "execution_count": 34,
   "metadata": {},
   "outputs": [
    {
     "data": {
      "text/markdown": [
       "### Summary: time in ns"
      ],
      "text/plain": [
       "<IPython.core.display.Markdown object>"
      ]
     },
     "metadata": {},
     "output_type": "display_data"
    },
    {
     "data": {
      "text/html": [
       "<div>\n",
       "<style scoped>\n",
       "    .dataframe tbody tr th:only-of-type {\n",
       "        vertical-align: middle;\n",
       "    }\n",
       "\n",
       "    .dataframe tbody tr th {\n",
       "        vertical-align: top;\n",
       "    }\n",
       "\n",
       "    .dataframe thead th {\n",
       "        text-align: right;\n",
       "    }\n",
       "</style>\n",
       "<table border=\"1\" class=\"dataframe\">\n",
       "  <thead>\n",
       "    <tr style=\"text-align: right;\">\n",
       "      <th></th>\n",
       "      <th>start_time</th>\n",
       "      <th>finish_time</th>\n",
       "      <th>module_init_duration</th>\n",
       "    </tr>\n",
       "  </thead>\n",
       "  <tbody>\n",
       "    <tr>\n",
       "      <th>count</th>\n",
       "      <td>1.230000e+02</td>\n",
       "      <td>1.230000e+02</td>\n",
       "      <td>1.230000e+02</td>\n",
       "    </tr>\n",
       "    <tr>\n",
       "      <th>mean</th>\n",
       "      <td>1.314134e+10</td>\n",
       "      <td>1.319885e+10</td>\n",
       "      <td>5.751016e+07</td>\n",
       "    </tr>\n",
       "    <tr>\n",
       "      <th>std</th>\n",
       "      <td>5.999831e+09</td>\n",
       "      <td>6.045778e+09</td>\n",
       "      <td>5.281959e+08</td>\n",
       "    </tr>\n",
       "    <tr>\n",
       "      <th>min</th>\n",
       "      <td>2.288050e+05</td>\n",
       "      <td>4.265500e+05</td>\n",
       "      <td>1.137100e+04</td>\n",
       "    </tr>\n",
       "    <tr>\n",
       "      <th>25%</th>\n",
       "      <td>1.309743e+10</td>\n",
       "      <td>1.309755e+10</td>\n",
       "      <td>5.234400e+04</td>\n",
       "    </tr>\n",
       "    <tr>\n",
       "      <th>50%</th>\n",
       "      <td>1.536171e+10</td>\n",
       "      <td>1.536216e+10</td>\n",
       "      <td>1.977450e+05</td>\n",
       "    </tr>\n",
       "    <tr>\n",
       "      <th>75%</th>\n",
       "      <td>1.563899e+10</td>\n",
       "      <td>1.563910e+10</td>\n",
       "      <td>8.024100e+05</td>\n",
       "    </tr>\n",
       "    <tr>\n",
       "      <th>max</th>\n",
       "      <td>2.207271e+10</td>\n",
       "      <td>2.207283e+10</td>\n",
       "      <td>5.841745e+09</td>\n",
       "    </tr>\n",
       "  </tbody>\n",
       "</table>\n",
       "</div>"
      ],
      "text/plain": [
       "         start_time   finish_time  module_init_duration\n",
       "count  1.230000e+02  1.230000e+02          1.230000e+02\n",
       "mean   1.314134e+10  1.319885e+10          5.751016e+07\n",
       "std    5.999831e+09  6.045778e+09          5.281959e+08\n",
       "min    2.288050e+05  4.265500e+05          1.137100e+04\n",
       "25%    1.309743e+10  1.309755e+10          5.234400e+04\n",
       "50%    1.536171e+10  1.536216e+10          1.977450e+05\n",
       "75%    1.563899e+10  1.563910e+10          8.024100e+05\n",
       "max    2.207271e+10  2.207283e+10          5.841745e+09"
      ]
     },
     "execution_count": 34,
     "metadata": {},
     "output_type": "execute_result"
    }
   ],
   "source": [
    "note_str = '### Summary: time in ns'\n",
    "display(Markdown(note_str))\n",
    "\n",
    "fun_module_init_df.describe().round()"
   ]
  },
  {
   "cell_type": "code",
   "execution_count": 35,
   "metadata": {},
   "outputs": [
    {
     "data": {
      "text/markdown": [
       "Total number of modules: 123"
      ],
      "text/plain": [
       "<IPython.core.display.Markdown object>"
      ]
     },
     "metadata": {},
     "output_type": "display_data"
    }
   ],
   "source": [
    "note_str = \"Total number of modules: {}\".format(len(fun_module_init_df))\n",
    "display(Markdown(note_str))"
   ]
  },
  {
   "cell_type": "markdown",
   "metadata": {},
   "source": [
    "## Plot all module init"
   ]
  },
  {
   "cell_type": "code",
   "execution_count": 36,
   "metadata": {},
   "outputs": [],
   "source": [
    "import plotly.express as px\n",
    "import plotly.graph_objects as go"
   ]
  },
  {
   "cell_type": "code",
   "execution_count": 37,
   "metadata": {},
   "outputs": [],
   "source": [
    "def get_start_finish_times(df: pd.DataFrame, debug: bool = False) -> pd.DataFrame:\n",
    "    \"\"\"Utility to get start and finish times from df\"\"\"\n",
    "\n",
    "    start_min = df['start_time'].min() # first module start time\n",
    "    finish_max = df['finish_time'].max() # last module finish time\n",
    "    duration = finish_max - start_min # time between the first module start time and last module finish time\n",
    "\n",
    "    if debug:\n",
    "        print(\"start_min (start time of the first module): {}\".format(start_min))\n",
    "        print(\"finish_max: (finish time of the last module) {}\".format(finish_max))\n",
    "        # print(\"duration: (finish_max - start_min) {}\".format(finish_max - start_min))\n",
    "        # summary\n",
    "        total_module_time = df['module_init_duration'].sum()\n",
    "        print(\"Total module init time: {} ns\".format(total_module_time))\n",
    "        print(\"duration (time between the first module start time and last module finish time): {} ns\".format(finish_max - start_min))\n",
    "        print(\"'Total module init time' / 'duration' (greater than 1 is better, which means more concurrent modules init): {} \".format(((total_module_time / duration)).round(4)))\n",
    "    \n",
    "    return start_min, finish_max, duration"
   ]
  },
  {
   "cell_type": "code",
   "execution_count": 51,
   "metadata": {},
   "outputs": [],
   "source": [
    "def plot_module_time_chart(df: pd.DataFrame, small_set: int=-1, use_plt: bool=True, sort_by: str=\"start_time\", title: str='FunOS Module Init Duration', group_table: dict=None, simple_group_name: bool=True, cutoff_group_names: int=10, save_file_name: str =\"fun_module_init_chart\", disp_granualarity_ms: int=10, debug: bool=False) -> None:\n",
    "    \"\"\"Plot the module init time chart\n",
    "    Parameters\n",
    "    ----------\n",
    "    df : pd.DataFrame\n",
    "        dataframe with module init data\n",
    "    small_set : int, optional\n",
    "        number of rows to plot, by default -1 (plot all)\n",
    "    sort_by : str, optional\n",
    "        sort by column, by default \"start_time\"\n",
    "    title : str, optional\n",
    "        title of the chart, by default 'FunOS Module Init Duration'\n",
    "    group_table : dict, optional\n",
    "        group table, by default None, if not None, group the modules based on the group_table\n",
    "    simple_group_name : bool, optional\n",
    "        use simple group name, by default True\n",
    "    cutoff_group_names : int, optional\n",
    "        cutoff group names, by default 12, cut off text display for group names\n",
    "    disp_granualarity_ms: int, optional\n",
    "        X axis display granualarity, in ms time unit, by default 10\n",
    "    \n",
    "    Returns\n",
    "    -------\n",
    "    None\n",
    "    \"\"\"\n",
    "    # add max min for creating tick\n",
    "\n",
    "    df_use = df.copy()\n",
    "\n",
    "    X_disp_granualarity = disp_granualarity_ms\n",
    "    X_granualarity = 1000000\n",
    "    x_tick_str = \"ms\"\n",
    "    # if X_granualarity == 1000000:\n",
    "    #     x_tick_str = \"ms\"\n",
    "    # elif X_granualarity == 1000000000:\n",
    "    #     x_tick_str = \"s\"\n",
    "\n",
    "    df_use.sort_values(by=[sort_by], inplace=True, ascending=True)\n",
    "\n",
    "    if small_set > 0:\n",
    "        df_use = df_use[:small_set]\n",
    "\n",
    "    if save_file_name[-4:] != \".png\":\n",
    "        save_file_name = save_file_name + \".png\"\n",
    "    \n",
    "    start_min, finish_max, duration = get_start_finish_times(df_use, debug=debug)\n",
    "\n",
    "    x_ticks = np.arange(0, duration, X_disp_granualarity * X_granualarity)\n",
    "    x_tick_labels = [\"{} {}\".format(str(int(x)), x_tick_str) for x in x_ticks/X_granualarity]\n",
    "\n",
    "    figsize=(40, len(df_use))\n",
    "    \n",
    "    if debug:\n",
    "        print(\"x_ticks: {}\".format(x_ticks[:10]))\n",
    "        print(\"x_tick_labels: {}\".format(x_tick_labels[:10]))\n",
    "        print(\"figsize: {}\".format(figsize))\n",
    "\n",
    "\n",
    "    if debug:\n",
    "        display(df_use.head())\n",
    "        display(df_use.describe())\n",
    "\n",
    "    if use_plt:\n",
    "        # fig, ax = plt.subplots(1, figsize=(40, 50))\n",
    "        fig, ax = plt.subplots(1, figsize=figsize)\n",
    "        p1 = ax.barh(df_use.index, width=df_use['module_init_duration'], left=df_use['start_time'])\n",
    "\n",
    "        ax.set(xlabel='ms', ylabel='Modules')\n",
    "\n",
    "        #Invert y axis\n",
    "        plt.gca().invert_yaxis()\n",
    "\n",
    "        #customize x-ticks\n",
    "        plt.xticks(ticks=x_ticks, labels=x_tick_labels)\n",
    "\n",
    "        # title\n",
    "        if group_table:\n",
    "            title = \"{}: collapsed\".format(title)\n",
    "        plt.title(title, fontsize=20)\n",
    "\n",
    "        #rotate x-ticks\n",
    "        plt.xticks(rotation=60)\n",
    "        #add grid lines\n",
    "        plt.grid(axis='x', alpha=0.5)\n",
    "        plt.grid(axis='y', alpha=0.5)\n",
    "        # test\n",
    "\n",
    "        if group_table:\n",
    "            if simple_group_name:\n",
    "                # testing simpler way\n",
    "                y_pos = np.arange(len(group_table))\n",
    "                y_label = [\"{} & {} modules\".format(v[0], len(v)) if len(v) > 1 else v[0] for k, v in group_table.items()]\n",
    "                ax.set_yticks(y_pos, labels=y_label)\n",
    "                pass\n",
    "            else:\n",
    "                x_base = 6000000\n",
    "                for i, (k, v) in enumerate(group_table.items()):\n",
    "                    # print(\"i: {}, k: {} ({}), v: {}\".format(i, k, len(v), v))\n",
    "                    if len(v) > cutoff_group_names:\n",
    "                        v_str = \"{}...(total: {})\".format(v[:cutoff_group_names], len(v))\n",
    "                    else:\n",
    "                        v_str = \"{}\".format(v)\n",
    "                    ax.text(x_base*(i+1), i, v_str, fontsize=21, color='red')\n",
    "                    # ax.text(20000000, 1, 'Unicode: Institut für Festkörperphysik')\n",
    "\n",
    "        #save fig\n",
    "        plt.savefig(save_file_name)\n",
    "        plt.show()\n",
    "    else:\n",
    "        # use plotly\n",
    "        # plotly doesn't support 'left' argument, so need to create manualy bars\n",
    "        # https://community.plotly.com/t/broken-barh-plot/36496\n",
    "        # assert False, \"Ploty not supported yet\"\n",
    "\n",
    "        df_use.sort_values(by=[sort_by], inplace=True, ascending=False)\n",
    "\n",
    "        # fig = px.bar(df, x=\"module_init_duration\", y=df.index, orientation='h', height=1000)\n",
    "        \n",
    "\n",
    "        # fig = go.Figure(go.Bar(\n",
    "        #     x=df[\"module_init_duration\"],\n",
    "        #     y=df.index,\n",
    "        #     orientation='h'))\n",
    "\n",
    "        fig = go.Figure()\n",
    "        fig.add_trace(go.Bar(\n",
    "            y=df_use.index,\n",
    "            x=df_use[\"start_time\"],\n",
    "            name='start',\n",
    "            orientation='h',\n",
    "            # width=20,\n",
    "            marker=dict(\n",
    "                color='rgba(256, 256, 256, 0.0)',\n",
    "                line=dict(color='rgba(256, 256, 256, 0.0)', width=1)\n",
    "            )\n",
    "        ))\n",
    "\n",
    "        fig.add_trace(go.Bar(\n",
    "            y=df_use.index,\n",
    "            x=df_use[\"module_init_duration\"],\n",
    "            name='module init duration',\n",
    "            orientation='h',\n",
    "            # width=20,\n",
    "            marker=dict(\n",
    "                color='rgba(58, 71, 80, 0.6)',\n",
    "                line=dict(color='rgba(58, 71, 80, 1.0)', width=3)\n",
    "            )\n",
    "        ))\n",
    "\n",
    "        fig.update_layout(barmode='stack')\n",
    "\n",
    "\n",
    "        fig.show()\n",
    "        # fig = px.timeline(df, x_start=\"start_time\", x_end=\"finish_time\", y=df_use.index, title=title)\n",
    "        # fig.update_yaxes(autorange=\"reversed\") # otherwise tasks are listed from the bottom up\n",
    "        # fig.show()\n",
    "\n",
    "    del df_use"
   ]
  },
  {
   "cell_type": "code",
   "execution_count": 39,
   "metadata": {},
   "outputs": [],
   "source": [
    "def dump_file(df: pd.DataFrame, file_name: str, sorted_key: str = None):\n",
    "    \"\"\"Dump the dataframe to a file\n",
    "\n",
    "    Parameters\n",
    "    ----------\n",
    "    df : pd.DataFrame\n",
    "        dataframe to dump\n",
    "    file_name : str\n",
    "        file name to dump to\n",
    "    sorted_key : str, optional\n",
    "        key to sort the dataframe, by default None\n",
    "    \"\"\"\n",
    "\n",
    "    \n",
    "    # save df to json file\n",
    "    sorted_df = df.copy()\n",
    "    if sorted_key:\n",
    "        sorted_df.sort_values(by=[sorted_key], inplace=True, ascending=True)\n",
    "    \n",
    "    txt_file_name = file_name + \".txt\"\n",
    "    with open(txt_file_name, \"w\") as f:\n",
    "        f.write(sorted_df.to_string())\n",
    "    sorted_df_file_name = file_name\n",
    "    json_file_name = sorted_df_file_name + \".json\"\n",
    "    sorted_df.to_json(json_file_name)\n",
    "    csv_file_name = sorted_df_file_name + \".csv\"\n",
    "    sorted_df.to_csv(csv_file_name)\n",
    "\n",
    "    yaml_file_name = sorted_df_file_name + \".yaml\"\n",
    "    with open(yaml_file_name, \"w\") as f:\n",
    "        yaml.dump({'result': json.loads(sorted_df.to_json(orient='records'))}, f, default_flow_style=False)"
   ]
  },
  {
   "cell_type": "code",
   "execution_count": 40,
   "metadata": {},
   "outputs": [
    {
     "data": {
      "image/png": "[encoded data removed]",
      "text/plain": [
       "<Figure size 2880x8856 with 1 Axes>"
      ]
     },
     "metadata": {
      "needs_background": "light"
     },
     "output_type": "display_data"
    }
   ],
   "source": [
    "# MAIN CALLS\n",
    "# plot the events\n",
    "plot_module_time_chart(fun_module_init_df, disp_granualarity_ms=1000, debug=False)"
   ]
  },
  {
   "cell_type": "code",
   "execution_count": 41,
   "metadata": {},
   "outputs": [],
   "source": [
    "if DEBUG:\n",
    "    fun_module_init_df.loc[['forwarding-init', 'network_unit-init', 'ethernet-init']]\n",
    "    # fun_module_init_df.index\n",
    "    # fun_module_init_df.columns"
   ]
  },
  {
   "cell_type": "code",
   "execution_count": 42,
   "metadata": {},
   "outputs": [],
   "source": [
    "# MAIN CALLS\n",
    "\n",
    "sorted_df_file_name = \"fun_module_init_df_sorted\"\n",
    "dump_file(fun_module_init_df, sorted_df_file_name, \"start_time\")"
   ]
  },
  {
   "cell_type": "markdown",
   "metadata": {},
   "source": [
    "## Collapsing short activities"
   ]
  },
  {
   "cell_type": "code",
   "execution_count": 43,
   "metadata": {},
   "outputs": [],
   "source": [
    "def get_duration_threshold(df: pd.DataFrame, threshold: float=0.10) -> float:\n",
    "    \"\"\"Get the threshold value from the dataframe\n",
    "    Parameters\n",
    "    ----------\n",
    "    df : pd.DataFrame\n",
    "        dataframe with module init data\n",
    "    threshold : float, optional\n",
    "        threshold value, by default 0.10\n",
    "    Returns\n",
    "    -------\n",
    "    float\n",
    "        threshold value\n",
    "    \"\"\"\n",
    "    max_duration = df['module_init_duration'].max()\n",
    "\n",
    "    return float(int(max_duration * threshold))\n"
   ]
  },
  {
   "cell_type": "code",
   "execution_count": 44,
   "metadata": {},
   "outputs": [],
   "source": [
    "def get_collapsed_df(df_in:pd.DataFrame, threshold: float, debug: bool = False) -> Tuple[pd.DataFrame, dict]:\n",
    "    \"\"\"Collpased df using the threshold\n",
    "\n",
    "    Parameters\n",
    "    ----------\n",
    "    df : pd.DataFrame\n",
    "        dataframe with module init data\n",
    "    threshold : float\n",
    "        threshold value to collapse, fraction to the largest duration\n",
    "        ex> 0.10 means collapse all the modules with duration less than 10% of the largest duration\n",
    "\n",
    "    Returns\n",
    "    -------\n",
    "    pd.DataFrame\n",
    "        collapsed dataframe\n",
    "    dict\n",
    "        group table, key is the group name, value is the list of modules in the group\n",
    "    \"\"\"\n",
    "\n",
    "    df = df_in.copy()\n",
    "    df.sort_values(by=['start_time'], inplace=True, ascending=True)\n",
    "\n",
    "    # df_collapsed['module_init_duration'] = df_collapsed['module_init_duration'].apply(lambda x: x if x > threshold else 0)\n",
    "    # df_collapsed = df_collapsed[df_collapsed['module_init_duration'] > 0]\n",
    "    new_events = []\n",
    "    n_event = 0\n",
    "    num_included = 0\n",
    "    cur_duration = 0 # current start to the finish of the last event\n",
    "    cur_start = 0\n",
    "    cur_finish = 0\n",
    "    last = len(df)\n",
    "    group_table = {}\n",
    "    for i in range(len(df)):\n",
    "        name, start, finish, duration = df.index[i], df.iloc[i].start_time, df.iloc[i].finish_time, df.iloc[i].module_init_duration\n",
    "        if debug:\n",
    "            print(name, start, finish, duration)\n",
    "\n",
    "        if cur_duration == 0:\n",
    "            num_included = 0\n",
    "            cur_duration = duration\n",
    "            cur_start = start\n",
    "            cur_finish = finish\n",
    "            group_modules = []\n",
    "        \n",
    "        cur_finish = max(cur_finish, finish)\n",
    "        cur_duration = cur_finish - cur_start\n",
    "        # print(\"cur_start, cur_finish, cur_duration: {}, {}\".format(cur_start, cur_finish, cur_duration))\n",
    "\n",
    "        # peek the next check if next module passes the thresholds\n",
    "        next_module_pass_threshold = False\n",
    "        if i < last - 1:\n",
    "            next_name, next_start, next_finish, next_duration = df.index[i+1], df.iloc[i+1].start_time, df.iloc[i+1].finish_time, df.iloc[i+1].module_init_duration\n",
    "            next_finish = max(cur_finish, next_finish)\n",
    "            # print(\"next_finish {}, next_finish - cur_start {}\".format(next_finish, next_finish - cur_start))\n",
    "            # if next duration is more than threshold and there is more than one collapsed, then stop collapsing the current modules\n",
    "            # if next_finish - cur_start > threshold and num_included > 0:\n",
    "            if next_finish - cur_start > threshold:\n",
    "                next_module_pass_threshold = True\n",
    "                group_modules.append(name)\n",
    "\n",
    "        \n",
    "        # if cur_duration + duration > threshold:\n",
    "        if cur_duration > threshold or next_module_pass_threshold:\n",
    "            # peek the next one and keep adding until the threshold is reached\n",
    "            # create a new onew\n",
    "            group_name = \"group_{}\".format(n_event)\n",
    "            new_d = {\"module_name\" : group_name, \"start_time\" : cur_start, \"finish_time\" : cur_finish, \"module_init_duration\" : cur_duration}\n",
    "            if debug:\n",
    "                print(\"includes {}, added: {}\".format(num_included, new_d))\n",
    "            new_events.append(new_d)\n",
    "            cur_duration = 0\n",
    "            n_event += 1\n",
    "            group_table[group_name] = group_modules if num_included > 0 else [name]\n",
    "            # group_modules = []\n",
    "        else:\n",
    "            group_modules.append(name)\n",
    "            num_included += 1\n",
    "                \n",
    "    if cur_duration != 0:\n",
    "        group_name = \"group_{}\".format(n_event)\n",
    "        new_d = {\"module_name\" : group_name, \"start_time\" : cur_start, \"finish_time\" : cur_finish, \"module_init_duration\" : cur_duration}\n",
    "        if debug:\n",
    "            print(\"added: {}\".format(new_d))\n",
    "        new_events.append(new_d)\n",
    "        group_table[group_name] = group_modules\n",
    "\n",
    "    df_collapsed = pd.DataFrame(new_events)\n",
    "    df_collapsed.set_index('module_name', inplace=True)\n",
    "    df_collapsed.head()\n",
    "    \n",
    "    return df_collapsed, group_table"
   ]
  },
  {
   "cell_type": "code",
   "execution_count": 45,
   "metadata": {},
   "outputs": [],
   "source": [
    "def print_group_table(group_table: dict, threshold: float, save_file_name: str = None):\n",
    "    \"\"\"Print the group table\n",
    "\n",
    "    Parameters\n",
    "    ----------\n",
    "    group_table : dict\n",
    "        group table, key is the group name, value is the list of modules in the group\n",
    "    threshold : float\n",
    "        threshold (nsec) value to collapse, fraction to the largest duration\n",
    "    save_file_name : str, optional\n",
    "        file to save the group table, by default None\n",
    "    \"\"\"\n",
    "    output  = \"Collapsed module group report (threshold time of {} ns):\\n\".format(threshold)\n",
    "    output += \"========================\\n\"\n",
    "    for key, value in group_table.items():\n",
    "        output += (\"{}({}): {}\\n\".format(key, len(value), value))\n",
    "        # print(\"{}({}): {}\".format(key, len(value), value))\n",
    "\n",
    "    print(output)\n",
    "\n",
    "    if save_file_name:\n",
    "        if save_file_name[:-4] != \".txt\":\n",
    "            save_file_name += \".txt\"\n",
    "        with open(save_file_name, \"w\") as f:\n",
    "            f.write(output)\n",
    "    \n",
    "    # for k, v in group_table.items():\n",
    "    #     print(\"{}:\".format(k))\n",
    "    #     for m in v:\n",
    "    #         print(\"  {}\".format(m))"
   ]
  },
  {
   "cell_type": "code",
   "execution_count": 46,
   "metadata": {},
   "outputs": [
    {
     "data": {
      "text/markdown": [
       "Collapse module init time lower than threshold (58,417,448 ns)"
      ],
      "text/plain": [
       "<IPython.core.display.Markdown object>"
      ]
     },
     "metadata": {},
     "output_type": "display_data"
    },
    {
     "data": {
      "image/png": "[encoded data removed]",
      "text/plain": [
       "<Figure size 2880x1224 with 1 Axes>"
      ]
     },
     "metadata": {
      "needs_background": "light"
     },
     "output_type": "display_data"
    },
    {
     "name": "stdout",
     "output_type": "stream",
     "text": [
      "Collapsed module group report (threshold time of 58417448.0 ns):\n",
      "========================\n",
      "group_0(9): ['i2c-init', 'dma_utils-init', 'hw_hu_cfg-init', 'epcq-init', 'hw_sbp-init', 'io_expander-init', 'fpc-init', 'i2c_bus_arbiter-init', 'bin_ctl_handler-init']\n",
      "group_1(1): ['board_manager-init']\n",
      "group_2(3): ['dpc_cmd_handler-init', 'hw_emmc-init', 'host_unit-init']\n",
      "group_3(4): ['hw_hu-init', 'bm_pool_config-init', 'mem_region-init', 'refbuf-init']\n",
      "group_4(2): ['ncc-init', 'hbmdump-init']\n",
      "group_5(23): ['trace_offload-init', 'sw_hu-init', 'fun_malloc-init', 'stats-init', 'hu_funos-init', 'issu-init', 'syslog-init', 'funtop-init', 'halt_signal-init', 'network_cfg-init', 'vrt-init', 'lambda-init', 'libfuncrypto-init', 'wu_utils-init', 'port_config-init', 'ovs-init', 'adi-init', 'platform_watchdog-init', 'ebpf-init', 'forwarding-init', 'ethernet-init', 'network_unit-init', 'port-init']\n",
      "group_6(2): ['port_hw-init', 'charsink_net-init']\n",
      "group_7(3): ['sandbox-init', 'l2_cache_stats-init', 'telemetry-init']\n",
      "group_8(19): ['vp_sample-init', 'lookup_engine-init', 'tls_telem-init', 'flow-init', 'accel_telem-init', 'slot_mgr-init', 'storage_vp_pool_mgr-init', 'fun_mbuf-init', 'tcp-init', 'pm_dfa-init', 'erasure-init', 'clonefilter-init', 'pm-init', 'volume_manager-init', 'nss-init', 'zipfilter-init', 'cryptofilter-init', 'temp_sensor-init', 'epnvme-init']\n",
      "group_9(1): ['funvisor-init']\n",
      "group_10(33): ['device_interface-init', 'hw_smbus-init', 'ecvol-init', 'repvol-init', 'concat-init', 'snapshot-init', 'lvs-init', 'nullvol-init', 'part_vol-init', 'part_vg-init', 'dedupfilter-init', 'mctp_transport-init', 'zip_overlay-init', 'tmp421_emulation-init', 'ikv-init', 'rdma_cm-init', 'fs_retimer-init', 'pattern_match-init', 'fw_upgrade-init', 'rdsock_fun_tcp-init', 'rdsock_fun_fcp-init', 'hw_hsu_perst-init', 'stripevol-init', 'fabricst_tr-init', 'emmcvol-init', 'nvhbm_driver-init', 'tcp_pcievswitch_memcpy-init', 'fabrics_host-init', 'jpeg_comp-init', 'pm_commander-init', 'status_monitor-init', 'mkv-init', 'nvmem-init']\n",
      "group_11(1): ['pci_mgr-init']\n",
      "group_12(11): ['compute_task-init', 'kv-init', 'rdma_test_utils-init', 'tcp_pkt_gen-init', 'nvmem_vol-init', 'large_ikv-init', 'kvmap-init', 'fabricsh_tcp-init', 'fabricsh_rdma-init', 'rdsvol-init', 'fabricsh_rds-init']\n",
      "group_13(1): ['rcnvme-init']\n",
      "group_14(1): ['nvmevol-init']\n",
      "group_15(1): ['extent_store-init']\n",
      "group_16(8): ['container-init', 'crunch-init', 'ccos-init', 'dpc_nvme-init', 'testflow-init', 'task_manager-init', 'task_copy-init', 'task_relocate-init']\n",
      "\n"
     ]
    }
   ],
   "source": [
    "# MAIN CALLS\n",
    "threshold = get_duration_threshold(fun_module_init_df, threshold=0.01)\n",
    "note_str = \"Collapse module init time lower than threshold ({} ns)\".format(_fmt(int(threshold), True))\n",
    "display(Markdown(note_str))\n",
    "\n",
    "fun_module_init_df_collapsed, group_table = get_collapsed_df(fun_module_init_df, threshold, debug=False)\n",
    "save_file_name = \"fun_module_init_df_collapsed\"\n",
    "plot_module_time_chart(fun_module_init_df_collapsed, disp_granualarity_ms=1000, debug=False, group_table=group_table, save_file_name=save_file_name)\n",
    "\n",
    "print_group_table(group_table, threshold=threshold, save_file_name=save_file_name)"
   ]
  },
  {
   "cell_type": "code",
   "execution_count": 47,
   "metadata": {},
   "outputs": [
    {
     "ename": "SyntaxError",
     "evalue": "invalid syntax (1116318007.py, line 1)",
     "output_type": "error",
     "traceback": [
      "\u001b[0;36m  Input \u001b[0;32mIn [47]\u001b[0;36m\u001b[0m\n\u001b[0;31m    stop here\u001b[0m\n\u001b[0m         ^\u001b[0m\n\u001b[0;31mSyntaxError\u001b[0m\u001b[0;31m:\u001b[0m invalid syntax\n"
     ]
    }
   ],
   "source": [
    "stop here\n"
   ]
  },
  {
   "cell_type": "code",
   "execution_count": 52,
   "metadata": {},
   "outputs": [
    {
     "data": {
      "application/vnd.plotly.v1+json": {
       "config": {
        "plotlyServerURL": "https://plot.ly"
       },
       "data": [
        {
         "marker": {
          "color": "rgba(256, 256, 256, 0.0)",
          "line": {
           "color": "rgba(256, 256, 256, 0.0)",
           "width": 1
          }
         },
         "name": "start",
         "orientation": "h",
         "type": "bar",
         "x": [
          22072710542,
          22072597464,
          22072283553,
          22072273266,
          22072271135,
          22072128718,
          22053001944,
          22052939695,
          21614796432,
          21614794257,
          15773005544,
          15641374022,
          15640804950,
          15640803767,
          15640570270,
          15640555840,
          15640301597,
          15639958838,
          15639702652,
          15639561264,
          15639373051,
          15639123952,
          15639100065,
          15639084197,
          15639082832,
          15639077573,
          15639048289,
          15639039867,
          15639039364,
          15638998975,
          15638986300,
          15638985802,
          15638969127,
          15638968059,
          15638891678,
          15638861122,
          15638756816,
          15638753936,
          15638751816,
          15638750609,
          15638742499,
          15638729062,
          15638728487,
          15638721071,
          15638719145,
          15638673069,
          15638671419,
          15638669726,
          15638668251,
          15638666577,
          15638666115,
          15638665760,
          15638657502,
          15638656629,
          15638612634,
          15638610549,
          15375225730,
          15375167539,
          15365379955,
          15361949935,
          15361949098,
          15361706568,
          15361301966,
          15360789147,
          15360510933,
          15360510109,
          15359996031,
          15359762617,
          15359669434,
          15359668580,
          15359652012,
          15359631649,
          15359631294,
          15359587473,
          15359583270,
          15359548947,
          13355310259,
          13355188583,
          13355022165,
          13193295191,
          13136984685,
          13135003513,
          13108575019,
          13108534173,
          13103661538,
          13097600737,
          13097558302,
          13097542445,
          13097528910,
          13097442600,
          13097434716,
          13097434145,
          13097427898,
          13097421108,
          13097414946,
          13097414611,
          13097413563,
          13097412899,
          13097403634,
          13097174331,
          13097146741,
          13079972404,
          13079958671,
          13079876610,
          372594538,
          372072951,
          272573510,
          271597695,
          268680622,
          233258349,
          34542153,
          34491926,
          34390561,
          34381878,
          34153694,
          34074564,
          32147152,
          32116404,
          32004962.999999996,
          31991880,
          31870721.999999996,
          31741081.999999996,
          228805
         ],
         "y": [
          "task_relocate-init",
          "task_copy-init",
          "task_manager-init",
          "testflow-init",
          "dpc_nvme-init",
          "ccos-init",
          "crunch-init",
          "container-init",
          "extent_store-init",
          "nvmevol-init",
          "rcnvme-init",
          "fabricsh_rds-init",
          "rdsvol-init",
          "fabricsh_rdma-init",
          "fabricsh_tcp-init",
          "kvmap-init",
          "large_ikv-init",
          "nvmem_vol-init",
          "tcp_pkt_gen-init",
          "rdma_test_utils-init",
          "kv-init",
          "compute_task-init",
          "pci_mgr-init",
          "nvmem-init",
          "mkv-init",
          "status_monitor-init",
          "pm_commander-init",
          "jpeg_comp-init",
          "fabrics_host-init",
          "tcp_pcievswitch_memcpy-init",
          "nvhbm_driver-init",
          "emmcvol-init",
          "fabricst_tr-init",
          "stripevol-init",
          "hw_hsu_perst-init",
          "rdsock_fun_fcp-init",
          "rdsock_fun_tcp-init",
          "fw_upgrade-init",
          "pattern_match-init",
          "fs_retimer-init",
          "rdma_cm-init",
          "ikv-init",
          "tmp421_emulation-init",
          "zip_overlay-init",
          "mctp_transport-init",
          "dedupfilter-init",
          "part_vg-init",
          "part_vol-init",
          "nullvol-init",
          "lvs-init",
          "snapshot-init",
          "concat-init",
          "repvol-init",
          "ecvol-init",
          "hw_smbus-init",
          "device_interface-init",
          "funvisor-init",
          "epnvme-init",
          "temp_sensor-init",
          "cryptofilter-init",
          "zipfilter-init",
          "nss-init",
          "volume_manager-init",
          "pm-init",
          "clonefilter-init",
          "erasure-init",
          "pm_dfa-init",
          "tcp-init",
          "fun_mbuf-init",
          "storage_vp_pool_mgr-init",
          "slot_mgr-init",
          "accel_telem-init",
          "flow-init",
          "tls_telem-init",
          "lookup_engine-init",
          "vp_sample-init",
          "telemetry-init",
          "l2_cache_stats-init",
          "sandbox-init",
          "charsink_net-init",
          "port_hw-init",
          "port-init",
          "network_unit-init",
          "ethernet-init",
          "forwarding-init",
          "ebpf-init",
          "platform_watchdog-init",
          "adi-init",
          "ovs-init",
          "port_config-init",
          "wu_utils-init",
          "libfuncrypto-init",
          "lambda-init",
          "vrt-init",
          "network_cfg-init",
          "halt_signal-init",
          "funtop-init",
          "syslog-init",
          "issu-init",
          "hu_funos-init",
          "stats-init",
          "fun_malloc-init",
          "sw_hu-init",
          "trace_offload-init",
          "hbmdump-init",
          "ncc-init",
          "refbuf-init",
          "mem_region-init",
          "bm_pool_config-init",
          "hw_hu-init",
          "host_unit-init",
          "hw_emmc-init",
          "dpc_cmd_handler-init",
          "board_manager-init",
          "bin_ctl_handler-init",
          "i2c_bus_arbiter-init",
          "fpc-init",
          "io_expander-init",
          "hw_sbp-init",
          "epcq-init",
          "hw_hu_cfg-init",
          "dma_utils-init",
          "i2c-init"
         ]
        },
        {
         "marker": {
          "color": "rgba(58, 71, 80, 0.6)",
          "line": {
           "color": "rgba(58, 71, 80, 1.0)",
           "width": 3
          }
         },
         "name": "module init duration",
         "orientation": "h",
         "type": "bar",
         "x": [
          121019,
          232410,
          296523,
          12918,
          312067,
          19862,
          50204,
          14943,
          438109418,
          208727,
          5841744827,
          24331,
          862629,
          23586,
          235038,
          825228,
          504141,
          597869,
          240031,
          382689,
          213040,
          205471,
          133672249,
          858900,
          143848,
          148474,
          13067,
          167448,
          1517722,
          75216,
          60736,
          60704,
          103139,
          69207,
          104779,
          260369,
          323447,
          798161,
          110810,
          111565,
          806659,
          15758,
          13573,
          11371,
          343442,
          36555,
          48055,
          349670,
          350513,
          351474,
          55566,
          42296,
          61304,
          53347,
          36485,
          355686,
          254430715,
          49211,
          204484,
          19213,
          209566,
          13427215,
          631446,
          550996,
          219059,
          278660,
          516409,
          20163,
          460088,
          1607834,
          5694419,
          74944,
          108415,
          32459,
          17740,
          40226,
          214657,
          17431,
          155055,
          91934,
          25776337,
          1947962,
          26311779,
          26829,
          4842642,
          6043580,
          6143087,
          15217,
          27064,
          23137,
          6196250,
          167197,
          122876,
          111015,
          134622,
          134560,
          129238,
          117315,
          137750,
          15261,
          13698,
          17149365,
          17162653,
          13459,
          81029,
          503270,
          863899,
          24730,
          2711301,
          35363499,
          902417,
          6552294,
          90044,
          198848338,
          221171,
          91105,
          1998429,
          2038201,
          2384976.0000000037,
          17708.999999996275,
          2204319.0000000037,
          51340.000000003725,
          197745
         ],
         "y": [
          "task_relocate-init",
          "task_copy-init",
          "task_manager-init",
          "testflow-init",
          "dpc_nvme-init",
          "ccos-init",
          "crunch-init",
          "container-init",
          "extent_store-init",
          "nvmevol-init",
          "rcnvme-init",
          "fabricsh_rds-init",
          "rdsvol-init",
          "fabricsh_rdma-init",
          "fabricsh_tcp-init",
          "kvmap-init",
          "large_ikv-init",
          "nvmem_vol-init",
          "tcp_pkt_gen-init",
          "rdma_test_utils-init",
          "kv-init",
          "compute_task-init",
          "pci_mgr-init",
          "nvmem-init",
          "mkv-init",
          "status_monitor-init",
          "pm_commander-init",
          "jpeg_comp-init",
          "fabrics_host-init",
          "tcp_pcievswitch_memcpy-init",
          "nvhbm_driver-init",
          "emmcvol-init",
          "fabricst_tr-init",
          "stripevol-init",
          "hw_hsu_perst-init",
          "rdsock_fun_fcp-init",
          "rdsock_fun_tcp-init",
          "fw_upgrade-init",
          "pattern_match-init",
          "fs_retimer-init",
          "rdma_cm-init",
          "ikv-init",
          "tmp421_emulation-init",
          "zip_overlay-init",
          "mctp_transport-init",
          "dedupfilter-init",
          "part_vg-init",
          "part_vol-init",
          "nullvol-init",
          "lvs-init",
          "snapshot-init",
          "concat-init",
          "repvol-init",
          "ecvol-init",
          "hw_smbus-init",
          "device_interface-init",
          "funvisor-init",
          "epnvme-init",
          "temp_sensor-init",
          "cryptofilter-init",
          "zipfilter-init",
          "nss-init",
          "volume_manager-init",
          "pm-init",
          "clonefilter-init",
          "erasure-init",
          "pm_dfa-init",
          "tcp-init",
          "fun_mbuf-init",
          "storage_vp_pool_mgr-init",
          "slot_mgr-init",
          "accel_telem-init",
          "flow-init",
          "tls_telem-init",
          "lookup_engine-init",
          "vp_sample-init",
          "telemetry-init",
          "l2_cache_stats-init",
          "sandbox-init",
          "charsink_net-init",
          "port_hw-init",
          "port-init",
          "network_unit-init",
          "ethernet-init",
          "forwarding-init",
          "ebpf-init",
          "platform_watchdog-init",
          "adi-init",
          "ovs-init",
          "port_config-init",
          "wu_utils-init",
          "libfuncrypto-init",
          "lambda-init",
          "vrt-init",
          "network_cfg-init",
          "halt_signal-init",
          "funtop-init",
          "syslog-init",
          "issu-init",
          "hu_funos-init",
          "stats-init",
          "fun_malloc-init",
          "sw_hu-init",
          "trace_offload-init",
          "hbmdump-init",
          "ncc-init",
          "refbuf-init",
          "mem_region-init",
          "bm_pool_config-init",
          "hw_hu-init",
          "host_unit-init",
          "hw_emmc-init",
          "dpc_cmd_handler-init",
          "board_manager-init",
          "bin_ctl_handler-init",
          "i2c_bus_arbiter-init",
          "fpc-init",
          "io_expander-init",
          "hw_sbp-init",
          "epcq-init",
          "hw_hu_cfg-init",
          "dma_utils-init",
          "i2c-init"
         ]
        }
       ],
       "layout": {
        "barmode": "stack",
        "template": {
         "data": {
          "bar": [
           {
            "error_x": {
             "color": "#2a3f5f"
            },
            "error_y": {
             "color": "#2a3f5f"
            },
            "marker": {
             "line": {
              "color": "#E5ECF6",
              "width": 0.5
             },
             "pattern": {
              "fillmode": "overlay",
              "size": 10,
              "solidity": 0.2
             }
            },
            "type": "bar"
           }
          ],
          "barpolar": [
           {
            "marker": {
             "line": {
              "color": "#E5ECF6",
              "width": 0.5
             },
             "pattern": {
              "fillmode": "overlay",
              "size": 10,
              "solidity": 0.2
             }
            },
            "type": "barpolar"
           }
          ],
          "carpet": [
           {
            "aaxis": {
             "endlinecolor": "#2a3f5f",
             "gridcolor": "white",
             "linecolor": "white",
             "minorgridcolor": "white",
             "startlinecolor": "#2a3f5f"
            },
            "baxis": {
             "endlinecolor": "#2a3f5f",
             "gridcolor": "white",
             "linecolor": "white",
             "minorgridcolor": "white",
             "startlinecolor": "#2a3f5f"
            },
            "type": "carpet"
           }
          ],
          "choropleth": [
           {
            "colorbar": {
             "outlinewidth": 0,
             "ticks": ""
            },
            "type": "choropleth"
           }
          ],
          "contour": [
           {
            "colorbar": {
             "outlinewidth": 0,
             "ticks": ""
            },
            "colorscale": [
             [
              0,
              "#0d0887"
             ],
             [
              0.1111111111111111,
              "#46039f"
             ],
             [
              0.2222222222222222,
              "#7201a8"
             ],
             [
              0.3333333333333333,
              "#9c179e"
             ],
             [
              0.4444444444444444,
              "#bd3786"
             ],
             [
              0.5555555555555556,
              "#d8576b"
             ],
             [
              0.6666666666666666,
              "#ed7953"
             ],
             [
              0.7777777777777778,
              "#fb9f3a"
             ],
             [
              0.8888888888888888,
              "#fdca26"
             ],
             [
              1,
              "#f0f921"
             ]
            ],
            "type": "contour"
           }
          ],
          "contourcarpet": [
           {
            "colorbar": {
             "outlinewidth": 0,
             "ticks": ""
            },
            "type": "contourcarpet"
           }
          ],
          "heatmap": [
           {
            "colorbar": {
             "outlinewidth": 0,
             "ticks": ""
            },
            "colorscale": [
             [
              0,
              "#0d0887"
             ],
             [
              0.1111111111111111,
              "#46039f"
             ],
             [
              0.2222222222222222,
              "#7201a8"
             ],
             [
              0.3333333333333333,
              "#9c179e"
             ],
             [
              0.4444444444444444,
              "#bd3786"
             ],
             [
              0.5555555555555556,
              "#d8576b"
             ],
             [
              0.6666666666666666,
              "#ed7953"
             ],
             [
              0.7777777777777778,
              "#fb9f3a"
             ],
             [
              0.8888888888888888,
              "#fdca26"
             ],
             [
              1,
              "#f0f921"
             ]
            ],
            "type": "heatmap"
           }
          ],
          "heatmapgl": [
           {
            "colorbar": {
             "outlinewidth": 0,
             "ticks": ""
            },
            "colorscale": [
             [
              0,
              "#0d0887"
             ],
             [
              0.1111111111111111,
              "#46039f"
             ],
             [
              0.2222222222222222,
              "#7201a8"
             ],
             [
              0.3333333333333333,
              "#9c179e"
             ],
             [
              0.4444444444444444,
              "#bd3786"
             ],
             [
              0.5555555555555556,
              "#d8576b"
             ],
             [
              0.6666666666666666,
              "#ed7953"
             ],
             [
              0.7777777777777778,
              "#fb9f3a"
             ],
             [
              0.8888888888888888,
              "#fdca26"
             ],
             [
              1,
              "#f0f921"
             ]
            ],
            "type": "heatmapgl"
           }
          ],
          "histogram": [
           {
            "marker": {
             "pattern": {
              "fillmode": "overlay",
              "size": 10,
              "solidity": 0.2
             }
            },
            "type": "histogram"
           }
          ],
          "histogram2d": [
           {
            "colorbar": {
             "outlinewidth": 0,
             "ticks": ""
            },
            "colorscale": [
             [
              0,
              "#0d0887"
             ],
             [
              0.1111111111111111,
              "#46039f"
             ],
             [
              0.2222222222222222,
              "#7201a8"
             ],
             [
              0.3333333333333333,
              "#9c179e"
             ],
             [
              0.4444444444444444,
              "#bd3786"
             ],
             [
              0.5555555555555556,
              "#d8576b"
             ],
             [
              0.6666666666666666,
              "#ed7953"
             ],
             [
              0.7777777777777778,
              "#fb9f3a"
             ],
             [
              0.8888888888888888,
              "#fdca26"
             ],
             [
              1,
              "#f0f921"
             ]
            ],
            "type": "histogram2d"
           }
          ],
          "histogram2dcontour": [
           {
            "colorbar": {
             "outlinewidth": 0,
             "ticks": ""
            },
            "colorscale": [
             [
              0,
              "#0d0887"
             ],
             [
              0.1111111111111111,
              "#46039f"
             ],
             [
              0.2222222222222222,
              "#7201a8"
             ],
             [
              0.3333333333333333,
              "#9c179e"
             ],
             [
              0.4444444444444444,
              "#bd3786"
             ],
             [
              0.5555555555555556,
              "#d8576b"
             ],
             [
              0.6666666666666666,
              "#ed7953"
             ],
             [
              0.7777777777777778,
              "#fb9f3a"
             ],
             [
              0.8888888888888888,
              "#fdca26"
             ],
             [
              1,
              "#f0f921"
             ]
            ],
            "type": "histogram2dcontour"
           }
          ],
          "mesh3d": [
           {
            "colorbar": {
             "outlinewidth": 0,
             "ticks": ""
            },
            "type": "mesh3d"
           }
          ],
          "parcoords": [
           {
            "line": {
             "colorbar": {
              "outlinewidth": 0,
              "ticks": ""
             }
            },
            "type": "parcoords"
           }
          ],
          "pie": [
           {
            "automargin": true,
            "type": "pie"
           }
          ],
          "scatter": [
           {
            "marker": {
             "colorbar": {
              "outlinewidth": 0,
              "ticks": ""
             }
            },
            "type": "scatter"
           }
          ],
          "scatter3d": [
           {
            "line": {
             "colorbar": {
              "outlinewidth": 0,
              "ticks": ""
             }
            },
            "marker": {
             "colorbar": {
              "outlinewidth": 0,
              "ticks": ""
             }
            },
            "type": "scatter3d"
           }
          ],
          "scattercarpet": [
           {
            "marker": {
             "colorbar": {
              "outlinewidth": 0,
              "ticks": ""
             }
            },
            "type": "scattercarpet"
           }
          ],
          "scattergeo": [
           {
            "marker": {
             "colorbar": {
              "outlinewidth": 0,
              "ticks": ""
             }
            },
            "type": "scattergeo"
           }
          ],
          "scattergl": [
           {
            "marker": {
             "colorbar": {
              "outlinewidth": 0,
              "ticks": ""
             }
            },
            "type": "scattergl"
           }
          ],
          "scattermapbox": [
           {
            "marker": {
             "colorbar": {
              "outlinewidth": 0,
              "ticks": ""
             }
            },
            "type": "scattermapbox"
           }
          ],
          "scatterpolar": [
           {
            "marker": {
             "colorbar": {
              "outlinewidth": 0,
              "ticks": ""
             }
            },
            "type": "scatterpolar"
           }
          ],
          "scatterpolargl": [
           {
            "marker": {
             "colorbar": {
              "outlinewidth": 0,
              "ticks": ""
             }
            },
            "type": "scatterpolargl"
           }
          ],
          "scatterternary": [
           {
            "marker": {
             "colorbar": {
              "outlinewidth": 0,
              "ticks": ""
             }
            },
            "type": "scatterternary"
           }
          ],
          "surface": [
           {
            "colorbar": {
             "outlinewidth": 0,
             "ticks": ""
            },
            "colorscale": [
             [
              0,
              "#0d0887"
             ],
             [
              0.1111111111111111,
              "#46039f"
             ],
             [
              0.2222222222222222,
              "#7201a8"
             ],
             [
              0.3333333333333333,
              "#9c179e"
             ],
             [
              0.4444444444444444,
              "#bd3786"
             ],
             [
              0.5555555555555556,
              "#d8576b"
             ],
             [
              0.6666666666666666,
              "#ed7953"
             ],
             [
              0.7777777777777778,
              "#fb9f3a"
             ],
             [
              0.8888888888888888,
              "#fdca26"
             ],
             [
              1,
              "#f0f921"
             ]
            ],
            "type": "surface"
           }
          ],
          "table": [
           {
            "cells": {
             "fill": {
              "color": "#EBF0F8"
             },
             "line": {
              "color": "white"
             }
            },
            "header": {
             "fill": {
              "color": "#C8D4E3"
             },
             "line": {
              "color": "white"
             }
            },
            "type": "table"
           }
          ]
         },
         "layout": {
          "annotationdefaults": {
           "arrowcolor": "#2a3f5f",
           "arrowhead": 0,
           "arrowwidth": 1
          },
          "autotypenumbers": "strict",
          "coloraxis": {
           "colorbar": {
            "outlinewidth": 0,
            "ticks": ""
           }
          },
          "colorscale": {
           "diverging": [
            [
             0,
             "#8e0152"
            ],
            [
             0.1,
             "#c51b7d"
            ],
            [
             0.2,
             "#de77ae"
            ],
            [
             0.3,
             "#f1b6da"
            ],
            [
             0.4,
             "#fde0ef"
            ],
            [
             0.5,
             "#f7f7f7"
            ],
            [
             0.6,
             "#e6f5d0"
            ],
            [
             0.7,
             "#b8e186"
            ],
            [
             0.8,
             "#7fbc41"
            ],
            [
             0.9,
             "#4d9221"
            ],
            [
             1,
             "#276419"
            ]
           ],
           "sequential": [
            [
             0,
             "#0d0887"
            ],
            [
             0.1111111111111111,
             "#46039f"
            ],
            [
             0.2222222222222222,
             "#7201a8"
            ],
            [
             0.3333333333333333,
             "#9c179e"
            ],
            [
             0.4444444444444444,
             "#bd3786"
            ],
            [
             0.5555555555555556,
             "#d8576b"
            ],
            [
             0.6666666666666666,
             "#ed7953"
            ],
            [
             0.7777777777777778,
             "#fb9f3a"
            ],
            [
             0.8888888888888888,
             "#fdca26"
            ],
            [
             1,
             "#f0f921"
            ]
           ],
           "sequentialminus": [
            [
             0,
             "#0d0887"
            ],
            [
             0.1111111111111111,
             "#46039f"
            ],
            [
             0.2222222222222222,
             "#7201a8"
            ],
            [
             0.3333333333333333,
             "#9c179e"
            ],
            [
             0.4444444444444444,
             "#bd3786"
            ],
            [
             0.5555555555555556,
             "#d8576b"
            ],
            [
             0.6666666666666666,
             "#ed7953"
            ],
            [
             0.7777777777777778,
             "#fb9f3a"
            ],
            [
             0.8888888888888888,
             "#fdca26"
            ],
            [
             1,
             "#f0f921"
            ]
           ]
          },
          "colorway": [
           "#636efa",
           "#EF553B",
           "#00cc96",
           "#ab63fa",
           "#FFA15A",
           "#19d3f3",
           "#FF6692",
           "#B6E880",
           "#FF97FF",
           "#FECB52"
          ],
          "font": {
           "color": "#2a3f5f"
          },
          "geo": {
           "bgcolor": "white",
           "lakecolor": "white",
           "landcolor": "#E5ECF6",
           "showlakes": true,
           "showland": true,
           "subunitcolor": "white"
          },
          "hoverlabel": {
           "align": "left"
          },
          "hovermode": "closest",
          "mapbox": {
           "style": "light"
          },
          "paper_bgcolor": "white",
          "plot_bgcolor": "#E5ECF6",
          "polar": {
           "angularaxis": {
            "gridcolor": "white",
            "linecolor": "white",
            "ticks": ""
           },
           "bgcolor": "#E5ECF6",
           "radialaxis": {
            "gridcolor": "white",
            "linecolor": "white",
            "ticks": ""
           }
          },
          "scene": {
           "xaxis": {
            "backgroundcolor": "#E5ECF6",
            "gridcolor": "white",
            "gridwidth": 2,
            "linecolor": "white",
            "showbackground": true,
            "ticks": "",
            "zerolinecolor": "white"
           },
           "yaxis": {
            "backgroundcolor": "#E5ECF6",
            "gridcolor": "white",
            "gridwidth": 2,
            "linecolor": "white",
            "showbackground": true,
            "ticks": "",
            "zerolinecolor": "white"
           },
           "zaxis": {
            "backgroundcolor": "#E5ECF6",
            "gridcolor": "white",
            "gridwidth": 2,
            "linecolor": "white",
            "showbackground": true,
            "ticks": "",
            "zerolinecolor": "white"
           }
          },
          "shapedefaults": {
           "line": {
            "color": "#2a3f5f"
           }
          },
          "ternary": {
           "aaxis": {
            "gridcolor": "white",
            "linecolor": "white",
            "ticks": ""
           },
           "baxis": {
            "gridcolor": "white",
            "linecolor": "white",
            "ticks": ""
           },
           "bgcolor": "#E5ECF6",
           "caxis": {
            "gridcolor": "white",
            "linecolor": "white",
            "ticks": ""
           }
          },
          "title": {
           "x": 0.05
          },
          "xaxis": {
           "automargin": true,
           "gridcolor": "white",
           "linecolor": "white",
           "ticks": "",
           "title": {
            "standoff": 15
           },
           "zerolinecolor": "white",
           "zerolinewidth": 2
          },
          "yaxis": {
           "automargin": true,
           "gridcolor": "white",
           "linecolor": "white",
           "ticks": "",
           "title": {
            "standoff": 15
           },
           "zerolinecolor": "white",
           "zerolinewidth": 2
          }
         }
        }
       }
      }
     },
     "metadata": {},
     "output_type": "display_data"
    }
   ],
   "source": [
    "# debugging\n",
    "plot_module_time_chart(fun_module_init_df, use_plt=False, disp_granualarity_ms=1000, debug=False)"
   ]
  },
  {
   "cell_type": "code",
   "execution_count": 53,
   "metadata": {},
   "outputs": [
    {
     "data": {
      "application/vnd.plotly.v1+json": {
       "config": {
        "plotlyServerURL": "https://plot.ly"
       },
       "data": [
        {
         "marker": {
          "color": "rgba(256, 256, 256, 0.0)",
          "line": {
           "color": "rgba(256, 256, 256, 0.0)",
           "width": 1
          }
         },
         "name": "start",
         "orientation": "h",
         "type": "bar",
         "x": [
          22052939695,
          21614796432,
          21614794257,
          15773005544,
          15639123952,
          15639100065,
          15638610549,
          15375225730,
          15359548947,
          13355022165,
          13136984685,
          13079876610,
          372072951,
          233258349,
          34390561,
          34381878,
          228805
         ],
         "y": [
          "group_16",
          "group_15",
          "group_14",
          "group_13",
          "group_12",
          "group_11",
          "group_10",
          "group_9",
          "group_8",
          "group_7",
          "group_6",
          "group_5",
          "group_4",
          "group_3",
          "group_2",
          "group_1",
          "group_0"
         ]
        },
        {
         "marker": {
          "color": "rgba(58, 71, 80, 0.6)",
          "line": {
           "color": "rgba(58, 71, 80, 1.0)",
           "width": 3
          }
         },
         "name": "module init duration",
         "orientation": "h",
         "type": "bar",
         "x": [
          19891866,
          438109418,
          208727,
          5841744827,
          2543627,
          133672249,
          1946537,
          254430715,
          15667803,
          502751,
          56402440,
          57074865,
          602616,
          40179060,
          6653659,
          198848338,
          34161134
         ],
         "y": [
          "group_16",
          "group_15",
          "group_14",
          "group_13",
          "group_12",
          "group_11",
          "group_10",
          "group_9",
          "group_8",
          "group_7",
          "group_6",
          "group_5",
          "group_4",
          "group_3",
          "group_2",
          "group_1",
          "group_0"
         ]
        }
       ],
       "layout": {
        "barmode": "stack",
        "template": {
         "data": {
          "bar": [
           {
            "error_x": {
             "color": "#2a3f5f"
            },
            "error_y": {
             "color": "#2a3f5f"
            },
            "marker": {
             "line": {
              "color": "#E5ECF6",
              "width": 0.5
             },
             "pattern": {
              "fillmode": "overlay",
              "size": 10,
              "solidity": 0.2
             }
            },
            "type": "bar"
           }
          ],
          "barpolar": [
           {
            "marker": {
             "line": {
              "color": "#E5ECF6",
              "width": 0.5
             },
             "pattern": {
              "fillmode": "overlay",
              "size": 10,
              "solidity": 0.2
             }
            },
            "type": "barpolar"
           }
          ],
          "carpet": [
           {
            "aaxis": {
             "endlinecolor": "#2a3f5f",
             "gridcolor": "white",
             "linecolor": "white",
             "minorgridcolor": "white",
             "startlinecolor": "#2a3f5f"
            },
            "baxis": {
             "endlinecolor": "#2a3f5f",
             "gridcolor": "white",
             "linecolor": "white",
             "minorgridcolor": "white",
             "startlinecolor": "#2a3f5f"
            },
            "type": "carpet"
           }
          ],
          "choropleth": [
           {
            "colorbar": {
             "outlinewidth": 0,
             "ticks": ""
            },
            "type": "choropleth"
           }
          ],
          "contour": [
           {
            "colorbar": {
             "outlinewidth": 0,
             "ticks": ""
            },
            "colorscale": [
             [
              0,
              "#0d0887"
             ],
             [
              0.1111111111111111,
              "#46039f"
             ],
             [
              0.2222222222222222,
              "#7201a8"
             ],
             [
              0.3333333333333333,
              "#9c179e"
             ],
             [
              0.4444444444444444,
              "#bd3786"
             ],
             [
              0.5555555555555556,
              "#d8576b"
             ],
             [
              0.6666666666666666,
              "#ed7953"
             ],
             [
              0.7777777777777778,
              "#fb9f3a"
             ],
             [
              0.8888888888888888,
              "#fdca26"
             ],
             [
              1,
              "#f0f921"
             ]
            ],
            "type": "contour"
           }
          ],
          "contourcarpet": [
           {
            "colorbar": {
             "outlinewidth": 0,
             "ticks": ""
            },
            "type": "contourcarpet"
           }
          ],
          "heatmap": [
           {
            "colorbar": {
             "outlinewidth": 0,
             "ticks": ""
            },
            "colorscale": [
             [
              0,
              "#0d0887"
             ],
             [
              0.1111111111111111,
              "#46039f"
             ],
             [
              0.2222222222222222,
              "#7201a8"
             ],
             [
              0.3333333333333333,
              "#9c179e"
             ],
             [
              0.4444444444444444,
              "#bd3786"
             ],
             [
              0.5555555555555556,
              "#d8576b"
             ],
             [
              0.6666666666666666,
              "#ed7953"
             ],
             [
              0.7777777777777778,
              "#fb9f3a"
             ],
             [
              0.8888888888888888,
              "#fdca26"
             ],
             [
              1,
              "#f0f921"
             ]
            ],
            "type": "heatmap"
           }
          ],
          "heatmapgl": [
           {
            "colorbar": {
             "outlinewidth": 0,
             "ticks": ""
            },
            "colorscale": [
             [
              0,
              "#0d0887"
             ],
             [
              0.1111111111111111,
              "#46039f"
             ],
             [
              0.2222222222222222,
              "#7201a8"
             ],
             [
              0.3333333333333333,
              "#9c179e"
             ],
             [
              0.4444444444444444,
              "#bd3786"
             ],
             [
              0.5555555555555556,
              "#d8576b"
             ],
             [
              0.6666666666666666,
              "#ed7953"
             ],
             [
              0.7777777777777778,
              "#fb9f3a"
             ],
             [
              0.8888888888888888,
              "#fdca26"
             ],
             [
              1,
              "#f0f921"
             ]
            ],
            "type": "heatmapgl"
           }
          ],
          "histogram": [
           {
            "marker": {
             "pattern": {
              "fillmode": "overlay",
              "size": 10,
              "solidity": 0.2
             }
            },
            "type": "histogram"
           }
          ],
          "histogram2d": [
           {
            "colorbar": {
             "outlinewidth": 0,
             "ticks": ""
            },
            "colorscale": [
             [
              0,
              "#0d0887"
             ],
             [
              0.1111111111111111,
              "#46039f"
             ],
             [
              0.2222222222222222,
              "#7201a8"
             ],
             [
              0.3333333333333333,
              "#9c179e"
             ],
             [
              0.4444444444444444,
              "#bd3786"
             ],
             [
              0.5555555555555556,
              "#d8576b"
             ],
             [
              0.6666666666666666,
              "#ed7953"
             ],
             [
              0.7777777777777778,
              "#fb9f3a"
             ],
             [
              0.8888888888888888,
              "#fdca26"
             ],
             [
              1,
              "#f0f921"
             ]
            ],
            "type": "histogram2d"
           }
          ],
          "histogram2dcontour": [
           {
            "colorbar": {
             "outlinewidth": 0,
             "ticks": ""
            },
            "colorscale": [
             [
              0,
              "#0d0887"
             ],
             [
              0.1111111111111111,
              "#46039f"
             ],
             [
              0.2222222222222222,
              "#7201a8"
             ],
             [
              0.3333333333333333,
              "#9c179e"
             ],
             [
              0.4444444444444444,
              "#bd3786"
             ],
             [
              0.5555555555555556,
              "#d8576b"
             ],
             [
              0.6666666666666666,
              "#ed7953"
             ],
             [
              0.7777777777777778,
              "#fb9f3a"
             ],
             [
              0.8888888888888888,
              "#fdca26"
             ],
             [
              1,
              "#f0f921"
             ]
            ],
            "type": "histogram2dcontour"
           }
          ],
          "mesh3d": [
           {
            "colorbar": {
             "outlinewidth": 0,
             "ticks": ""
            },
            "type": "mesh3d"
           }
          ],
          "parcoords": [
           {
            "line": {
             "colorbar": {
              "outlinewidth": 0,
              "ticks": ""
             }
            },
            "type": "parcoords"
           }
          ],
          "pie": [
           {
            "automargin": true,
            "type": "pie"
           }
          ],
          "scatter": [
           {
            "marker": {
             "colorbar": {
              "outlinewidth": 0,
              "ticks": ""
             }
            },
            "type": "scatter"
           }
          ],
          "scatter3d": [
           {
            "line": {
             "colorbar": {
              "outlinewidth": 0,
              "ticks": ""
             }
            },
            "marker": {
             "colorbar": {
              "outlinewidth": 0,
              "ticks": ""
             }
            },
            "type": "scatter3d"
           }
          ],
          "scattercarpet": [
           {
            "marker": {
             "colorbar": {
              "outlinewidth": 0,
              "ticks": ""
             }
            },
            "type": "scattercarpet"
           }
          ],
          "scattergeo": [
           {
            "marker": {
             "colorbar": {
              "outlinewidth": 0,
              "ticks": ""
             }
            },
            "type": "scattergeo"
           }
          ],
          "scattergl": [
           {
            "marker": {
             "colorbar": {
              "outlinewidth": 0,
              "ticks": ""
             }
            },
            "type": "scattergl"
           }
          ],
          "scattermapbox": [
           {
            "marker": {
             "colorbar": {
              "outlinewidth": 0,
              "ticks": ""
             }
            },
            "type": "scattermapbox"
           }
          ],
          "scatterpolar": [
           {
            "marker": {
             "colorbar": {
              "outlinewidth": 0,
              "ticks": ""
             }
            },
            "type": "scatterpolar"
           }
          ],
          "scatterpolargl": [
           {
            "marker": {
             "colorbar": {
              "outlinewidth": 0,
              "ticks": ""
             }
            },
            "type": "scatterpolargl"
           }
          ],
          "scatterternary": [
           {
            "marker": {
             "colorbar": {
              "outlinewidth": 0,
              "ticks": ""
             }
            },
            "type": "scatterternary"
           }
          ],
          "surface": [
           {
            "colorbar": {
             "outlinewidth": 0,
             "ticks": ""
            },
            "colorscale": [
             [
              0,
              "#0d0887"
             ],
             [
              0.1111111111111111,
              "#46039f"
             ],
             [
              0.2222222222222222,
              "#7201a8"
             ],
             [
              0.3333333333333333,
              "#9c179e"
             ],
             [
              0.4444444444444444,
              "#bd3786"
             ],
             [
              0.5555555555555556,
              "#d8576b"
             ],
             [
              0.6666666666666666,
              "#ed7953"
             ],
             [
              0.7777777777777778,
              "#fb9f3a"
             ],
             [
              0.8888888888888888,
              "#fdca26"
             ],
             [
              1,
              "#f0f921"
             ]
            ],
            "type": "surface"
           }
          ],
          "table": [
           {
            "cells": {
             "fill": {
              "color": "#EBF0F8"
             },
             "line": {
              "color": "white"
             }
            },
            "header": {
             "fill": {
              "color": "#C8D4E3"
             },
             "line": {
              "color": "white"
             }
            },
            "type": "table"
           }
          ]
         },
         "layout": {
          "annotationdefaults": {
           "arrowcolor": "#2a3f5f",
           "arrowhead": 0,
           "arrowwidth": 1
          },
          "autotypenumbers": "strict",
          "coloraxis": {
           "colorbar": {
            "outlinewidth": 0,
            "ticks": ""
           }
          },
          "colorscale": {
           "diverging": [
            [
             0,
             "#8e0152"
            ],
            [
             0.1,
             "#c51b7d"
            ],
            [
             0.2,
             "#de77ae"
            ],
            [
             0.3,
             "#f1b6da"
            ],
            [
             0.4,
             "#fde0ef"
            ],
            [
             0.5,
             "#f7f7f7"
            ],
            [
             0.6,
             "#e6f5d0"
            ],
            [
             0.7,
             "#b8e186"
            ],
            [
             0.8,
             "#7fbc41"
            ],
            [
             0.9,
             "#4d9221"
            ],
            [
             1,
             "#276419"
            ]
           ],
           "sequential": [
            [
             0,
             "#0d0887"
            ],
            [
             0.1111111111111111,
             "#46039f"
            ],
            [
             0.2222222222222222,
             "#7201a8"
            ],
            [
             0.3333333333333333,
             "#9c179e"
            ],
            [
             0.4444444444444444,
             "#bd3786"
            ],
            [
             0.5555555555555556,
             "#d8576b"
            ],
            [
             0.6666666666666666,
             "#ed7953"
            ],
            [
             0.7777777777777778,
             "#fb9f3a"
            ],
            [
             0.8888888888888888,
             "#fdca26"
            ],
            [
             1,
             "#f0f921"
            ]
           ],
           "sequentialminus": [
            [
             0,
             "#0d0887"
            ],
            [
             0.1111111111111111,
             "#46039f"
            ],
            [
             0.2222222222222222,
             "#7201a8"
            ],
            [
             0.3333333333333333,
             "#9c179e"
            ],
            [
             0.4444444444444444,
             "#bd3786"
            ],
            [
             0.5555555555555556,
             "#d8576b"
            ],
            [
             0.6666666666666666,
             "#ed7953"
            ],
            [
             0.7777777777777778,
             "#fb9f3a"
            ],
            [
             0.8888888888888888,
             "#fdca26"
            ],
            [
             1,
             "#f0f921"
            ]
           ]
          },
          "colorway": [
           "#636efa",
           "#EF553B",
           "#00cc96",
           "#ab63fa",
           "#FFA15A",
           "#19d3f3",
           "#FF6692",
           "#B6E880",
           "#FF97FF",
           "#FECB52"
          ],
          "font": {
           "color": "#2a3f5f"
          },
          "geo": {
           "bgcolor": "white",
           "lakecolor": "white",
           "landcolor": "#E5ECF6",
           "showlakes": true,
           "showland": true,
           "subunitcolor": "white"
          },
          "hoverlabel": {
           "align": "left"
          },
          "hovermode": "closest",
          "mapbox": {
           "style": "light"
          },
          "paper_bgcolor": "white",
          "plot_bgcolor": "#E5ECF6",
          "polar": {
           "angularaxis": {
            "gridcolor": "white",
            "linecolor": "white",
            "ticks": ""
           },
           "bgcolor": "#E5ECF6",
           "radialaxis": {
            "gridcolor": "white",
            "linecolor": "white",
            "ticks": ""
           }
          },
          "scene": {
           "xaxis": {
            "backgroundcolor": "#E5ECF6",
            "gridcolor": "white",
            "gridwidth": 2,
            "linecolor": "white",
            "showbackground": true,
            "ticks": "",
            "zerolinecolor": "white"
           },
           "yaxis": {
            "backgroundcolor": "#E5ECF6",
            "gridcolor": "white",
            "gridwidth": 2,
            "linecolor": "white",
            "showbackground": true,
            "ticks": "",
            "zerolinecolor": "white"
           },
           "zaxis": {
            "backgroundcolor": "#E5ECF6",
            "gridcolor": "white",
            "gridwidth": 2,
            "linecolor": "white",
            "showbackground": true,
            "ticks": "",
            "zerolinecolor": "white"
           }
          },
          "shapedefaults": {
           "line": {
            "color": "#2a3f5f"
           }
          },
          "ternary": {
           "aaxis": {
            "gridcolor": "white",
            "linecolor": "white",
            "ticks": ""
           },
           "baxis": {
            "gridcolor": "white",
            "linecolor": "white",
            "ticks": ""
           },
           "bgcolor": "#E5ECF6",
           "caxis": {
            "gridcolor": "white",
            "linecolor": "white",
            "ticks": ""
           }
          },
          "title": {
           "x": 0.05
          },
          "xaxis": {
           "automargin": true,
           "gridcolor": "white",
           "linecolor": "white",
           "ticks": "",
           "title": {
            "standoff": 15
           },
           "zerolinecolor": "white",
           "zerolinewidth": 2
          },
          "yaxis": {
           "automargin": true,
           "gridcolor": "white",
           "linecolor": "white",
           "ticks": "",
           "title": {
            "standoff": 15
           },
           "zerolinecolor": "white",
           "zerolinewidth": 2
          }
         }
        }
       }
      }
     },
     "metadata": {},
     "output_type": "display_data"
    }
   ],
   "source": [
    "# debugging\n",
    "plot_module_time_chart(fun_module_init_df_collapsed, use_plt=False, disp_granualarity_ms=1000, debug=False, group_table=group_table, save_file_name=save_file_name)"
   ]
  },
  {
   "cell_type": "code",
   "execution_count": 58,
   "metadata": {},
   "outputs": [
    {
     "data": {
      "application/vnd.plotly.v1+json": {
       "config": {
        "plotlyServerURL": "https://plot.ly"
       },
       "data": [],
       "layout": {
        "height": 500,
        "shapes": [
         {
          "fillcolor": "orange",
          "line": {
           "color": "orange"
          },
          "type": "rect",
          "x0": 10,
          "x1": 60,
          "y0": 20,
          "y1": 29
         },
         {
          "fillcolor": "green",
          "line": {
           "color": "green"
          },
          "type": "rect",
          "x0": 100,
          "x1": 120,
          "y0": 20,
          "y1": 29
         },
         {
          "fillcolor": "red",
          "line": {
           "color": "red"
          },
          "type": "rect",
          "x0": 130,
          "x1": 140,
          "y0": 20,
          "y1": 29
         }
        ],
        "template": {
         "data": {
          "bar": [
           {
            "error_x": {
             "color": "#2a3f5f"
            },
            "error_y": {
             "color": "#2a3f5f"
            },
            "marker": {
             "line": {
              "color": "#E5ECF6",
              "width": 0.5
             },
             "pattern": {
              "fillmode": "overlay",
              "size": 10,
              "solidity": 0.2
             }
            },
            "type": "bar"
           }
          ],
          "barpolar": [
           {
            "marker": {
             "line": {
              "color": "#E5ECF6",
              "width": 0.5
             },
             "pattern": {
              "fillmode": "overlay",
              "size": 10,
              "solidity": 0.2
             }
            },
            "type": "barpolar"
           }
          ],
          "carpet": [
           {
            "aaxis": {
             "endlinecolor": "#2a3f5f",
             "gridcolor": "white",
             "linecolor": "white",
             "minorgridcolor": "white",
             "startlinecolor": "#2a3f5f"
            },
            "baxis": {
             "endlinecolor": "#2a3f5f",
             "gridcolor": "white",
             "linecolor": "white",
             "minorgridcolor": "white",
             "startlinecolor": "#2a3f5f"
            },
            "type": "carpet"
           }
          ],
          "choropleth": [
           {
            "colorbar": {
             "outlinewidth": 0,
             "ticks": ""
            },
            "type": "choropleth"
           }
          ],
          "contour": [
           {
            "colorbar": {
             "outlinewidth": 0,
             "ticks": ""
            },
            "colorscale": [
             [
              0,
              "#0d0887"
             ],
             [
              0.1111111111111111,
              "#46039f"
             ],
             [
              0.2222222222222222,
              "#7201a8"
             ],
             [
              0.3333333333333333,
              "#9c179e"
             ],
             [
              0.4444444444444444,
              "#bd3786"
             ],
             [
              0.5555555555555556,
              "#d8576b"
             ],
             [
              0.6666666666666666,
              "#ed7953"
             ],
             [
              0.7777777777777778,
              "#fb9f3a"
             ],
             [
              0.8888888888888888,
              "#fdca26"
             ],
             [
              1,
              "#f0f921"
             ]
            ],
            "type": "contour"
           }
          ],
          "contourcarpet": [
           {
            "colorbar": {
             "outlinewidth": 0,
             "ticks": ""
            },
            "type": "contourcarpet"
           }
          ],
          "heatmap": [
           {
            "colorbar": {
             "outlinewidth": 0,
             "ticks": ""
            },
            "colorscale": [
             [
              0,
              "#0d0887"
             ],
             [
              0.1111111111111111,
              "#46039f"
             ],
             [
              0.2222222222222222,
              "#7201a8"
             ],
             [
              0.3333333333333333,
              "#9c179e"
             ],
             [
              0.4444444444444444,
              "#bd3786"
             ],
             [
              0.5555555555555556,
              "#d8576b"
             ],
             [
              0.6666666666666666,
              "#ed7953"
             ],
             [
              0.7777777777777778,
              "#fb9f3a"
             ],
             [
              0.8888888888888888,
              "#fdca26"
             ],
             [
              1,
              "#f0f921"
             ]
            ],
            "type": "heatmap"
           }
          ],
          "heatmapgl": [
           {
            "colorbar": {
             "outlinewidth": 0,
             "ticks": ""
            },
            "colorscale": [
             [
              0,
              "#0d0887"
             ],
             [
              0.1111111111111111,
              "#46039f"
             ],
             [
              0.2222222222222222,
              "#7201a8"
             ],
             [
              0.3333333333333333,
              "#9c179e"
             ],
             [
              0.4444444444444444,
              "#bd3786"
             ],
             [
              0.5555555555555556,
              "#d8576b"
             ],
             [
              0.6666666666666666,
              "#ed7953"
             ],
             [
              0.7777777777777778,
              "#fb9f3a"
             ],
             [
              0.8888888888888888,
              "#fdca26"
             ],
             [
              1,
              "#f0f921"
             ]
            ],
            "type": "heatmapgl"
           }
          ],
          "histogram": [
           {
            "marker": {
             "pattern": {
              "fillmode": "overlay",
              "size": 10,
              "solidity": 0.2
             }
            },
            "type": "histogram"
           }
          ],
          "histogram2d": [
           {
            "colorbar": {
             "outlinewidth": 0,
             "ticks": ""
            },
            "colorscale": [
             [
              0,
              "#0d0887"
             ],
             [
              0.1111111111111111,
              "#46039f"
             ],
             [
              0.2222222222222222,
              "#7201a8"
             ],
             [
              0.3333333333333333,
              "#9c179e"
             ],
             [
              0.4444444444444444,
              "#bd3786"
             ],
             [
              0.5555555555555556,
              "#d8576b"
             ],
             [
              0.6666666666666666,
              "#ed7953"
             ],
             [
              0.7777777777777778,
              "#fb9f3a"
             ],
             [
              0.8888888888888888,
              "#fdca26"
             ],
             [
              1,
              "#f0f921"
             ]
            ],
            "type": "histogram2d"
           }
          ],
          "histogram2dcontour": [
           {
            "colorbar": {
             "outlinewidth": 0,
             "ticks": ""
            },
            "colorscale": [
             [
              0,
              "#0d0887"
             ],
             [
              0.1111111111111111,
              "#46039f"
             ],
             [
              0.2222222222222222,
              "#7201a8"
             ],
             [
              0.3333333333333333,
              "#9c179e"
             ],
             [
              0.4444444444444444,
              "#bd3786"
             ],
             [
              0.5555555555555556,
              "#d8576b"
             ],
             [
              0.6666666666666666,
              "#ed7953"
             ],
             [
              0.7777777777777778,
              "#fb9f3a"
             ],
             [
              0.8888888888888888,
              "#fdca26"
             ],
             [
              1,
              "#f0f921"
             ]
            ],
            "type": "histogram2dcontour"
           }
          ],
          "mesh3d": [
           {
            "colorbar": {
             "outlinewidth": 0,
             "ticks": ""
            },
            "type": "mesh3d"
           }
          ],
          "parcoords": [
           {
            "line": {
             "colorbar": {
              "outlinewidth": 0,
              "ticks": ""
             }
            },
            "type": "parcoords"
           }
          ],
          "pie": [
           {
            "automargin": true,
            "type": "pie"
           }
          ],
          "scatter": [
           {
            "marker": {
             "colorbar": {
              "outlinewidth": 0,
              "ticks": ""
             }
            },
            "type": "scatter"
           }
          ],
          "scatter3d": [
           {
            "line": {
             "colorbar": {
              "outlinewidth": 0,
              "ticks": ""
             }
            },
            "marker": {
             "colorbar": {
              "outlinewidth": 0,
              "ticks": ""
             }
            },
            "type": "scatter3d"
           }
          ],
          "scattercarpet": [
           {
            "marker": {
             "colorbar": {
              "outlinewidth": 0,
              "ticks": ""
             }
            },
            "type": "scattercarpet"
           }
          ],
          "scattergeo": [
           {
            "marker": {
             "colorbar": {
              "outlinewidth": 0,
              "ticks": ""
             }
            },
            "type": "scattergeo"
           }
          ],
          "scattergl": [
           {
            "marker": {
             "colorbar": {
              "outlinewidth": 0,
              "ticks": ""
             }
            },
            "type": "scattergl"
           }
          ],
          "scattermapbox": [
           {
            "marker": {
             "colorbar": {
              "outlinewidth": 0,
              "ticks": ""
             }
            },
            "type": "scattermapbox"
           }
          ],
          "scatterpolar": [
           {
            "marker": {
             "colorbar": {
              "outlinewidth": 0,
              "ticks": ""
             }
            },
            "type": "scatterpolar"
           }
          ],
          "scatterpolargl": [
           {
            "marker": {
             "colorbar": {
              "outlinewidth": 0,
              "ticks": ""
             }
            },
            "type": "scatterpolargl"
           }
          ],
          "scatterternary": [
           {
            "marker": {
             "colorbar": {
              "outlinewidth": 0,
              "ticks": ""
             }
            },
            "type": "scatterternary"
           }
          ],
          "surface": [
           {
            "colorbar": {
             "outlinewidth": 0,
             "ticks": ""
            },
            "colorscale": [
             [
              0,
              "#0d0887"
             ],
             [
              0.1111111111111111,
              "#46039f"
             ],
             [
              0.2222222222222222,
              "#7201a8"
             ],
             [
              0.3333333333333333,
              "#9c179e"
             ],
             [
              0.4444444444444444,
              "#bd3786"
             ],
             [
              0.5555555555555556,
              "#d8576b"
             ],
             [
              0.6666666666666666,
              "#ed7953"
             ],
             [
              0.7777777777777778,
              "#fb9f3a"
             ],
             [
              0.8888888888888888,
              "#fdca26"
             ],
             [
              1,
              "#f0f921"
             ]
            ],
            "type": "surface"
           }
          ],
          "table": [
           {
            "cells": {
             "fill": {
              "color": "#EBF0F8"
             },
             "line": {
              "color": "white"
             }
            },
            "header": {
             "fill": {
              "color": "#C8D4E3"
             },
             "line": {
              "color": "white"
             }
            },
            "type": "table"
           }
          ]
         },
         "layout": {
          "annotationdefaults": {
           "arrowcolor": "#2a3f5f",
           "arrowhead": 0,
           "arrowwidth": 1
          },
          "autotypenumbers": "strict",
          "coloraxis": {
           "colorbar": {
            "outlinewidth": 0,
            "ticks": ""
           }
          },
          "colorscale": {
           "diverging": [
            [
             0,
             "#8e0152"
            ],
            [
             0.1,
             "#c51b7d"
            ],
            [
             0.2,
             "#de77ae"
            ],
            [
             0.3,
             "#f1b6da"
            ],
            [
             0.4,
             "#fde0ef"
            ],
            [
             0.5,
             "#f7f7f7"
            ],
            [
             0.6,
             "#e6f5d0"
            ],
            [
             0.7,
             "#b8e186"
            ],
            [
             0.8,
             "#7fbc41"
            ],
            [
             0.9,
             "#4d9221"
            ],
            [
             1,
             "#276419"
            ]
           ],
           "sequential": [
            [
             0,
             "#0d0887"
            ],
            [
             0.1111111111111111,
             "#46039f"
            ],
            [
             0.2222222222222222,
             "#7201a8"
            ],
            [
             0.3333333333333333,
             "#9c179e"
            ],
            [
             0.4444444444444444,
             "#bd3786"
            ],
            [
             0.5555555555555556,
             "#d8576b"
            ],
            [
             0.6666666666666666,
             "#ed7953"
            ],
            [
             0.7777777777777778,
             "#fb9f3a"
            ],
            [
             0.8888888888888888,
             "#fdca26"
            ],
            [
             1,
             "#f0f921"
            ]
           ],
           "sequentialminus": [
            [
             0,
             "#0d0887"
            ],
            [
             0.1111111111111111,
             "#46039f"
            ],
            [
             0.2222222222222222,
             "#7201a8"
            ],
            [
             0.3333333333333333,
             "#9c179e"
            ],
            [
             0.4444444444444444,
             "#bd3786"
            ],
            [
             0.5555555555555556,
             "#d8576b"
            ],
            [
             0.6666666666666666,
             "#ed7953"
            ],
            [
             0.7777777777777778,
             "#fb9f3a"
            ],
            [
             0.8888888888888888,
             "#fdca26"
            ],
            [
             1,
             "#f0f921"
            ]
           ]
          },
          "colorway": [
           "#636efa",
           "#EF553B",
           "#00cc96",
           "#ab63fa",
           "#FFA15A",
           "#19d3f3",
           "#FF6692",
           "#B6E880",
           "#FF97FF",
           "#FECB52"
          ],
          "font": {
           "color": "#2a3f5f"
          },
          "geo": {
           "bgcolor": "white",
           "lakecolor": "white",
           "landcolor": "#E5ECF6",
           "showlakes": true,
           "showland": true,
           "subunitcolor": "white"
          },
          "hoverlabel": {
           "align": "left"
          },
          "hovermode": "closest",
          "mapbox": {
           "style": "light"
          },
          "paper_bgcolor": "white",
          "plot_bgcolor": "#E5ECF6",
          "polar": {
           "angularaxis": {
            "gridcolor": "white",
            "linecolor": "white",
            "ticks": ""
           },
           "bgcolor": "#E5ECF6",
           "radialaxis": {
            "gridcolor": "white",
            "linecolor": "white",
            "ticks": ""
           }
          },
          "scene": {
           "xaxis": {
            "backgroundcolor": "#E5ECF6",
            "gridcolor": "white",
            "gridwidth": 2,
            "linecolor": "white",
            "showbackground": true,
            "ticks": "",
            "zerolinecolor": "white"
           },
           "yaxis": {
            "backgroundcolor": "#E5ECF6",
            "gridcolor": "white",
            "gridwidth": 2,
            "linecolor": "white",
            "showbackground": true,
            "ticks": "",
            "zerolinecolor": "white"
           },
           "zaxis": {
            "backgroundcolor": "#E5ECF6",
            "gridcolor": "white",
            "gridwidth": 2,
            "linecolor": "white",
            "showbackground": true,
            "ticks": "",
            "zerolinecolor": "white"
           }
          },
          "shapedefaults": {
           "line": {
            "color": "#2a3f5f"
           }
          },
          "ternary": {
           "aaxis": {
            "gridcolor": "white",
            "linecolor": "white",
            "ticks": ""
           },
           "baxis": {
            "gridcolor": "white",
            "linecolor": "white",
            "ticks": ""
           },
           "bgcolor": "#E5ECF6",
           "caxis": {
            "gridcolor": "white",
            "linecolor": "white",
            "ticks": ""
           }
          },
          "title": {
           "x": 0.05
          },
          "xaxis": {
           "automargin": true,
           "gridcolor": "white",
           "linecolor": "white",
           "ticks": "",
           "title": {
            "standoff": 15
           },
           "zerolinecolor": "white",
           "zerolinewidth": 2
          },
          "yaxis": {
           "automargin": true,
           "gridcolor": "white",
           "linecolor": "white",
           "ticks": "",
           "title": {
            "standoff": 15
           },
           "zerolinecolor": "white",
           "zerolinewidth": 2
          }
         }
        },
        "width": 600,
        "xaxis": {
         "range": [
          0,
          150
         ]
        },
        "yaxis": {
         "range": [
          0,
          40
         ]
        }
       }
      }
     },
     "metadata": {},
     "output_type": "display_data"
    }
   ],
   "source": [
    "# from https://community.plotly.com/t/broken-barh-plot/36496/2\n",
    "\n",
    "def broken_bars(xstart, xwidth, ystart, yh, colors):\n",
    "    #xstart - list of x-start coord for each bar\n",
    "    #xwidth = list of bar widths\n",
    "    #ystart - number y-start coord for each bar\n",
    "    #yh - number- height of eah bar\n",
    "    #colors = list of bar colors\n",
    "    \n",
    "    if len(xstart) != len(xwidth) or  len(xstart) != len(colors):\n",
    "        raise ValueError('xstart, xwidth and colors must have the same length')\n",
    "    shapes = []    \n",
    "    for k in range(len(xstart)):\n",
    "        shapes.append(dict(type=\"rect\",\n",
    "                           x0=xstart[k],\n",
    "                           y0=ystart,\n",
    "                           x1=xstart[k] + xwidth[k],\n",
    "                           y1=ystart+yh,\n",
    "                           fillcolor=colors[k],\n",
    "                           line_color=colors[k]))\n",
    "    return shapes    \n",
    "\n",
    "\n",
    "fig = go.Figure()\n",
    "fig.update_layout(width=600, height=500,\n",
    "                  xaxis_range = [0, 150],\n",
    "                  yaxis_range = [0, 40],\n",
    "                  shapes=broken_bars([10, 100, 130 ], [50, 20, 10], 20, 9, \n",
    "                                     colors=['orange', 'green', 'red' ]))\n",
    "fig.show()"
   ]
  },
  {
   "cell_type": "code",
   "execution_count": 59,
   "metadata": {},
   "outputs": [
    {
     "data": {
      "application/vnd.plotly.v1+json": {
       "config": {
        "plotlyServerURL": "https://plot.ly"
       },
       "data": [
        {
         "fill": "toself",
         "fillcolor": "orange",
         "line": {
          "color": "orange"
         },
         "mode": "lines",
         "name": "bar0",
         "type": "scatter",
         "x": [
          10,
          60,
          60,
          10
         ],
         "y": [
          20,
          20,
          29,
          29
         ]
        },
        {
         "fill": "toself",
         "fillcolor": "green",
         "line": {
          "color": "green"
         },
         "mode": "lines",
         "name": "bar1",
         "type": "scatter",
         "x": [
          100,
          120,
          120,
          100
         ],
         "y": [
          20,
          20,
          29,
          29
         ]
        },
        {
         "fill": "toself",
         "fillcolor": "red",
         "line": {
          "color": "red"
         },
         "mode": "lines",
         "name": "bar2",
         "type": "scatter",
         "x": [
          130,
          140,
          140,
          130
         ],
         "y": [
          20,
          20,
          29,
          29
         ]
        }
       ],
       "layout": {
        "height": 500,
        "template": {
         "data": {
          "bar": [
           {
            "error_x": {
             "color": "#2a3f5f"
            },
            "error_y": {
             "color": "#2a3f5f"
            },
            "marker": {
             "line": {
              "color": "#E5ECF6",
              "width": 0.5
             },
             "pattern": {
              "fillmode": "overlay",
              "size": 10,
              "solidity": 0.2
             }
            },
            "type": "bar"
           }
          ],
          "barpolar": [
           {
            "marker": {
             "line": {
              "color": "#E5ECF6",
              "width": 0.5
             },
             "pattern": {
              "fillmode": "overlay",
              "size": 10,
              "solidity": 0.2
             }
            },
            "type": "barpolar"
           }
          ],
          "carpet": [
           {
            "aaxis": {
             "endlinecolor": "#2a3f5f",
             "gridcolor": "white",
             "linecolor": "white",
             "minorgridcolor": "white",
             "startlinecolor": "#2a3f5f"
            },
            "baxis": {
             "endlinecolor": "#2a3f5f",
             "gridcolor": "white",
             "linecolor": "white",
             "minorgridcolor": "white",
             "startlinecolor": "#2a3f5f"
            },
            "type": "carpet"
           }
          ],
          "choropleth": [
           {
            "colorbar": {
             "outlinewidth": 0,
             "ticks": ""
            },
            "type": "choropleth"
           }
          ],
          "contour": [
           {
            "colorbar": {
             "outlinewidth": 0,
             "ticks": ""
            },
            "colorscale": [
             [
              0,
              "#0d0887"
             ],
             [
              0.1111111111111111,
              "#46039f"
             ],
             [
              0.2222222222222222,
              "#7201a8"
             ],
             [
              0.3333333333333333,
              "#9c179e"
             ],
             [
              0.4444444444444444,
              "#bd3786"
             ],
             [
              0.5555555555555556,
              "#d8576b"
             ],
             [
              0.6666666666666666,
              "#ed7953"
             ],
             [
              0.7777777777777778,
              "#fb9f3a"
             ],
             [
              0.8888888888888888,
              "#fdca26"
             ],
             [
              1,
              "#f0f921"
             ]
            ],
            "type": "contour"
           }
          ],
          "contourcarpet": [
           {
            "colorbar": {
             "outlinewidth": 0,
             "ticks": ""
            },
            "type": "contourcarpet"
           }
          ],
          "heatmap": [
           {
            "colorbar": {
             "outlinewidth": 0,
             "ticks": ""
            },
            "colorscale": [
             [
              0,
              "#0d0887"
             ],
             [
              0.1111111111111111,
              "#46039f"
             ],
             [
              0.2222222222222222,
              "#7201a8"
             ],
             [
              0.3333333333333333,
              "#9c179e"
             ],
             [
              0.4444444444444444,
              "#bd3786"
             ],
             [
              0.5555555555555556,
              "#d8576b"
             ],
             [
              0.6666666666666666,
              "#ed7953"
             ],
             [
              0.7777777777777778,
              "#fb9f3a"
             ],
             [
              0.8888888888888888,
              "#fdca26"
             ],
             [
              1,
              "#f0f921"
             ]
            ],
            "type": "heatmap"
           }
          ],
          "heatmapgl": [
           {
            "colorbar": {
             "outlinewidth": 0,
             "ticks": ""
            },
            "colorscale": [
             [
              0,
              "#0d0887"
             ],
             [
              0.1111111111111111,
              "#46039f"
             ],
             [
              0.2222222222222222,
              "#7201a8"
             ],
             [
              0.3333333333333333,
              "#9c179e"
             ],
             [
              0.4444444444444444,
              "#bd3786"
             ],
             [
              0.5555555555555556,
              "#d8576b"
             ],
             [
              0.6666666666666666,
              "#ed7953"
             ],
             [
              0.7777777777777778,
              "#fb9f3a"
             ],
             [
              0.8888888888888888,
              "#fdca26"
             ],
             [
              1,
              "#f0f921"
             ]
            ],
            "type": "heatmapgl"
           }
          ],
          "histogram": [
           {
            "marker": {
             "pattern": {
              "fillmode": "overlay",
              "size": 10,
              "solidity": 0.2
             }
            },
            "type": "histogram"
           }
          ],
          "histogram2d": [
           {
            "colorbar": {
             "outlinewidth": 0,
             "ticks": ""
            },
            "colorscale": [
             [
              0,
              "#0d0887"
             ],
             [
              0.1111111111111111,
              "#46039f"
             ],
             [
              0.2222222222222222,
              "#7201a8"
             ],
             [
              0.3333333333333333,
              "#9c179e"
             ],
             [
              0.4444444444444444,
              "#bd3786"
             ],
             [
              0.5555555555555556,
              "#d8576b"
             ],
             [
              0.6666666666666666,
              "#ed7953"
             ],
             [
              0.7777777777777778,
              "#fb9f3a"
             ],
             [
              0.8888888888888888,
              "#fdca26"
             ],
             [
              1,
              "#f0f921"
             ]
            ],
            "type": "histogram2d"
           }
          ],
          "histogram2dcontour": [
           {
            "colorbar": {
             "outlinewidth": 0,
             "ticks": ""
            },
            "colorscale": [
             [
              0,
              "#0d0887"
             ],
             [
              0.1111111111111111,
              "#46039f"
             ],
             [
              0.2222222222222222,
              "#7201a8"
             ],
             [
              0.3333333333333333,
              "#9c179e"
             ],
             [
              0.4444444444444444,
              "#bd3786"
             ],
             [
              0.5555555555555556,
              "#d8576b"
             ],
             [
              0.6666666666666666,
              "#ed7953"
             ],
             [
              0.7777777777777778,
              "#fb9f3a"
             ],
             [
              0.8888888888888888,
              "#fdca26"
             ],
             [
              1,
              "#f0f921"
             ]
            ],
            "type": "histogram2dcontour"
           }
          ],
          "mesh3d": [
           {
            "colorbar": {
             "outlinewidth": 0,
             "ticks": ""
            },
            "type": "mesh3d"
           }
          ],
          "parcoords": [
           {
            "line": {
             "colorbar": {
              "outlinewidth": 0,
              "ticks": ""
             }
            },
            "type": "parcoords"
           }
          ],
          "pie": [
           {
            "automargin": true,
            "type": "pie"
           }
          ],
          "scatter": [
           {
            "marker": {
             "colorbar": {
              "outlinewidth": 0,
              "ticks": ""
             }
            },
            "type": "scatter"
           }
          ],
          "scatter3d": [
           {
            "line": {
             "colorbar": {
              "outlinewidth": 0,
              "ticks": ""
             }
            },
            "marker": {
             "colorbar": {
              "outlinewidth": 0,
              "ticks": ""
             }
            },
            "type": "scatter3d"
           }
          ],
          "scattercarpet": [
           {
            "marker": {
             "colorbar": {
              "outlinewidth": 0,
              "ticks": ""
             }
            },
            "type": "scattercarpet"
           }
          ],
          "scattergeo": [
           {
            "marker": {
             "colorbar": {
              "outlinewidth": 0,
              "ticks": ""
             }
            },
            "type": "scattergeo"
           }
          ],
          "scattergl": [
           {
            "marker": {
             "colorbar": {
              "outlinewidth": 0,
              "ticks": ""
             }
            },
            "type": "scattergl"
           }
          ],
          "scattermapbox": [
           {
            "marker": {
             "colorbar": {
              "outlinewidth": 0,
              "ticks": ""
             }
            },
            "type": "scattermapbox"
           }
          ],
          "scatterpolar": [
           {
            "marker": {
             "colorbar": {
              "outlinewidth": 0,
              "ticks": ""
             }
            },
            "type": "scatterpolar"
           }
          ],
          "scatterpolargl": [
           {
            "marker": {
             "colorbar": {
              "outlinewidth": 0,
              "ticks": ""
             }
            },
            "type": "scatterpolargl"
           }
          ],
          "scatterternary": [
           {
            "marker": {
             "colorbar": {
              "outlinewidth": 0,
              "ticks": ""
             }
            },
            "type": "scatterternary"
           }
          ],
          "surface": [
           {
            "colorbar": {
             "outlinewidth": 0,
             "ticks": ""
            },
            "colorscale": [
             [
              0,
              "#0d0887"
             ],
             [
              0.1111111111111111,
              "#46039f"
             ],
             [
              0.2222222222222222,
              "#7201a8"
             ],
             [
              0.3333333333333333,
              "#9c179e"
             ],
             [
              0.4444444444444444,
              "#bd3786"
             ],
             [
              0.5555555555555556,
              "#d8576b"
             ],
             [
              0.6666666666666666,
              "#ed7953"
             ],
             [
              0.7777777777777778,
              "#fb9f3a"
             ],
             [
              0.8888888888888888,
              "#fdca26"
             ],
             [
              1,
              "#f0f921"
             ]
            ],
            "type": "surface"
           }
          ],
          "table": [
           {
            "cells": {
             "fill": {
              "color": "#EBF0F8"
             },
             "line": {
              "color": "white"
             }
            },
            "header": {
             "fill": {
              "color": "#C8D4E3"
             },
             "line": {
              "color": "white"
             }
            },
            "type": "table"
           }
          ]
         },
         "layout": {
          "annotationdefaults": {
           "arrowcolor": "#2a3f5f",
           "arrowhead": 0,
           "arrowwidth": 1
          },
          "autotypenumbers": "strict",
          "coloraxis": {
           "colorbar": {
            "outlinewidth": 0,
            "ticks": ""
           }
          },
          "colorscale": {
           "diverging": [
            [
             0,
             "#8e0152"
            ],
            [
             0.1,
             "#c51b7d"
            ],
            [
             0.2,
             "#de77ae"
            ],
            [
             0.3,
             "#f1b6da"
            ],
            [
             0.4,
             "#fde0ef"
            ],
            [
             0.5,
             "#f7f7f7"
            ],
            [
             0.6,
             "#e6f5d0"
            ],
            [
             0.7,
             "#b8e186"
            ],
            [
             0.8,
             "#7fbc41"
            ],
            [
             0.9,
             "#4d9221"
            ],
            [
             1,
             "#276419"
            ]
           ],
           "sequential": [
            [
             0,
             "#0d0887"
            ],
            [
             0.1111111111111111,
             "#46039f"
            ],
            [
             0.2222222222222222,
             "#7201a8"
            ],
            [
             0.3333333333333333,
             "#9c179e"
            ],
            [
             0.4444444444444444,
             "#bd3786"
            ],
            [
             0.5555555555555556,
             "#d8576b"
            ],
            [
             0.6666666666666666,
             "#ed7953"
            ],
            [
             0.7777777777777778,
             "#fb9f3a"
            ],
            [
             0.8888888888888888,
             "#fdca26"
            ],
            [
             1,
             "#f0f921"
            ]
           ],
           "sequentialminus": [
            [
             0,
             "#0d0887"
            ],
            [
             0.1111111111111111,
             "#46039f"
            ],
            [
             0.2222222222222222,
             "#7201a8"
            ],
            [
             0.3333333333333333,
             "#9c179e"
            ],
            [
             0.4444444444444444,
             "#bd3786"
            ],
            [
             0.5555555555555556,
             "#d8576b"
            ],
            [
             0.6666666666666666,
             "#ed7953"
            ],
            [
             0.7777777777777778,
             "#fb9f3a"
            ],
            [
             0.8888888888888888,
             "#fdca26"
            ],
            [
             1,
             "#f0f921"
            ]
           ]
          },
          "colorway": [
           "#636efa",
           "#EF553B",
           "#00cc96",
           "#ab63fa",
           "#FFA15A",
           "#19d3f3",
           "#FF6692",
           "#B6E880",
           "#FF97FF",
           "#FECB52"
          ],
          "font": {
           "color": "#2a3f5f"
          },
          "geo": {
           "bgcolor": "white",
           "lakecolor": "white",
           "landcolor": "#E5ECF6",
           "showlakes": true,
           "showland": true,
           "subunitcolor": "white"
          },
          "hoverlabel": {
           "align": "left"
          },
          "hovermode": "closest",
          "mapbox": {
           "style": "light"
          },
          "paper_bgcolor": "white",
          "plot_bgcolor": "#E5ECF6",
          "polar": {
           "angularaxis": {
            "gridcolor": "white",
            "linecolor": "white",
            "ticks": ""
           },
           "bgcolor": "#E5ECF6",
           "radialaxis": {
            "gridcolor": "white",
            "linecolor": "white",
            "ticks": ""
           }
          },
          "scene": {
           "xaxis": {
            "backgroundcolor": "#E5ECF6",
            "gridcolor": "white",
            "gridwidth": 2,
            "linecolor": "white",
            "showbackground": true,
            "ticks": "",
            "zerolinecolor": "white"
           },
           "yaxis": {
            "backgroundcolor": "#E5ECF6",
            "gridcolor": "white",
            "gridwidth": 2,
            "linecolor": "white",
            "showbackground": true,
            "ticks": "",
            "zerolinecolor": "white"
           },
           "zaxis": {
            "backgroundcolor": "#E5ECF6",
            "gridcolor": "white",
            "gridwidth": 2,
            "linecolor": "white",
            "showbackground": true,
            "ticks": "",
            "zerolinecolor": "white"
           }
          },
          "shapedefaults": {
           "line": {
            "color": "#2a3f5f"
           }
          },
          "ternary": {
           "aaxis": {
            "gridcolor": "white",
            "linecolor": "white",
            "ticks": ""
           },
           "baxis": {
            "gridcolor": "white",
            "linecolor": "white",
            "ticks": ""
           },
           "bgcolor": "#E5ECF6",
           "caxis": {
            "gridcolor": "white",
            "linecolor": "white",
            "ticks": ""
           }
          },
          "title": {
           "x": 0.05
          },
          "xaxis": {
           "automargin": true,
           "gridcolor": "white",
           "linecolor": "white",
           "ticks": "",
           "title": {
            "standoff": 15
           },
           "zerolinecolor": "white",
           "zerolinewidth": 2
          },
          "yaxis": {
           "automargin": true,
           "gridcolor": "white",
           "linecolor": "white",
           "ticks": "",
           "title": {
            "standoff": 15
           },
           "zerolinecolor": "white",
           "zerolinewidth": 2
          }
         }
        },
        "width": 600,
        "xaxis": {
         "range": [
          0,
          150
         ]
        },
        "yaxis": {
         "range": [
          0,
          40
         ]
        }
       }
      }
     },
     "metadata": {},
     "output_type": "display_data"
    }
   ],
   "source": [
    "def broken_bars2(xstart, xwidth, ystart, yh, colors):\n",
    "    #the same tests as above\n",
    "    data =[]\n",
    "    for k in range(len(xstart)):\n",
    "        data.append(go.Scatter(x = [xstart[k], xstart[k]+xwidth[k],xstart[k]+xwidth[k], xstart[k]],\n",
    "                               y = [ystart]*2+[ystart+yh]*2, fill='toself', fillcolor=colors[k], mode='lines',\n",
    "                               line_color=colors[k], name=f'bar{k}'))\n",
    "                    \n",
    "    return data\n",
    "fig = go.Figure(data= broken_bars2([10, 100, 130 ], [50, 20, 10], 20, 9, \n",
    "                                     colors=['orange', 'green', 'red' ]))\n",
    "fig.update_layout(width=600, height=500,\n",
    "                  xaxis_range = [0, 150],\n",
    "                  yaxis_range = [0, 40]);\n",
    "fig.show()"
   ]
  },
  {
   "cell_type": "code",
   "execution_count": null,
   "metadata": {},
   "outputs": [],
   "source": []
  },
  {
   "cell_type": "code",
   "execution_count": null,
   "metadata": {},
   "outputs": [],
   "source": [
    "# save df to json file\n",
    "sorted_df = fun_module_init_df.copy()\n",
    "sorted_df.sort_values(by=['start_time'], inplace=True, ascending=True)\n",
    "sorted_df_file_name = \"fun_module_init_df_sorted\"\n",
    "json_file_name = sorted_df_file_name + \".json\"\n",
    "sorted_df.to_json(json_file_name)\n",
    "csv_file_name = sorted_df_file_name + \".csv\"\n",
    "sorted_df.to_csv(csv_file_name)\n",
    "\n",
    "yaml_file_name = sorted_df_file_name + \".yaml\"\n",
    "with open(yaml_file_name, \"w\") as f:\n",
    "    yaml.dump({'result': json.loads(sorted_df.to_json(orient='records'))}, f, default_flow_style=False)\n"
   ]
  },
  {
   "cell_type": "code",
   "execution_count": null,
   "metadata": {},
   "outputs": [],
   "source": [
    "# do sanity check\n",
    "print(\"len of fun_module_init_df: {}\".format(len(fun_module_init_df)))"
   ]
  },
  {
   "cell_type": "code",
   "execution_count": null,
   "metadata": {},
   "outputs": [],
   "source": [
    "count = 0\n",
    "for k,v in group_table.items():\n",
    "    count += len(v)\n",
    "print(\"len of group_table: {}\".format(count))"
   ]
  },
  {
   "cell_type": "code",
   "execution_count": null,
   "metadata": {},
   "outputs": [],
   "source": [
    "test_df = fun_module_init_df.copy()"
   ]
  },
  {
   "cell_type": "code",
   "execution_count": null,
   "metadata": {},
   "outputs": [],
   "source": [
    "test_df.sort_values(by=['start_time'], inplace=True, ascending=True)"
   ]
  },
  {
   "cell_type": "code",
   "execution_count": null,
   "metadata": {},
   "outputs": [],
   "source": [
    "test_df.head(30).round()"
   ]
  },
  {
   "cell_type": "code",
   "execution_count": null,
   "metadata": {},
   "outputs": [],
   "source": [
    "test_df.loc[['funvisor-init']].round()"
   ]
  },
  {
   "cell_type": "code",
   "execution_count": null,
   "metadata": {},
   "outputs": [],
   "source": [
    "test_df.round().tail(30)"
   ]
  },
  {
   "cell_type": "code",
   "execution_count": null,
   "metadata": {},
   "outputs": [],
   "source": []
  },
  {
   "cell_type": "code",
   "execution_count": null,
   "metadata": {},
   "outputs": [],
   "source": []
  },
  {
   "cell_type": "code",
   "execution_count": null,
   "metadata": {},
   "outputs": [],
   "source": [
    "small_df = fun_module_init_df.copy()"
   ]
  },
  {
   "cell_type": "code",
   "execution_count": null,
   "metadata": {},
   "outputs": [],
   "source": [
    "small_df.sort_values(by=['start_time'], inplace=True, ascending=True)"
   ]
  },
  {
   "cell_type": "code",
   "execution_count": null,
   "metadata": {},
   "outputs": [],
   "source": [
    "small_df.head()"
   ]
  },
  {
   "cell_type": "code",
   "execution_count": null,
   "metadata": {},
   "outputs": [],
   "source": [
    "# t = small_df[:42]\n",
    "t = small_df\n",
    "display(t)"
   ]
  },
  {
   "cell_type": "code",
   "execution_count": null,
   "metadata": {},
   "outputs": [],
   "source": [
    "plot_module_time_chart(t, debug=False)"
   ]
  },
  {
   "cell_type": "code",
   "execution_count": null,
   "metadata": {},
   "outputs": [],
   "source": [
    "threshold"
   ]
  },
  {
   "cell_type": "code",
   "execution_count": null,
   "metadata": {},
   "outputs": [],
   "source": [
    "new_events = []\n",
    "n_event = 0\n",
    "num_included = 0\n",
    "cur_duration = 0 # current start to the finish of the last event\n",
    "cur_start = 0\n",
    "cur_finish = 0\n",
    "last = len(t)\n",
    "group_table = {}\n",
    "for i in range(len(t)):\n",
    "    name, start, finish, duration = t.index[i], t.iloc[i].start_time, t.iloc[i].finish_time, t.iloc[i].module_init_duration\n",
    "    print(name, start, finish, duration)\n",
    "\n",
    "    if cur_duration == 0:\n",
    "        num_included = 0\n",
    "        cur_duration = duration\n",
    "        cur_start = start\n",
    "        cur_finish = finish\n",
    "        group_modules = [name]\n",
    "    \n",
    "    cur_finish = max(cur_finish, finish)\n",
    "    cur_duration = cur_finish - cur_start\n",
    "    # print(\"cur_start, cur_finish, cur_duration: {}, {}\".format(cur_start, cur_finish, cur_duration))\n",
    "\n",
    "    # peek the next check if next module passes the thresholds\n",
    "    next_module_pass_threshold = False\n",
    "    if i < last - 1:\n",
    "        next_name, next_start, next_finish, next_duration = t.index[i+1], t.iloc[i+1].start_time, t.iloc[i+1].finish_time, t.iloc[i+1].module_init_duration\n",
    "        next_finish = max(cur_finish, next_finish)\n",
    "        # print(\"next_finish {}, next_finish - cur_start {}\".format(next_finish, next_finish - cur_start))\n",
    "        # if next duration is more than threshold and there is more than one collapsed, then stop collapsing the current modules\n",
    "        if next_finish - cur_start > threshold and num_included > 0:\n",
    "            next_module_pass_threshold = True\n",
    "    \n",
    "    # if cur_duration + duration > threshold:\n",
    "    if cur_duration > threshold or next_module_pass_threshold:\n",
    "        # peek the next one and keep adding until the threshold is reached\n",
    "        # create a new onew\n",
    "        group_name = \"group_{}\".format(n_event)\n",
    "        new_d = {\"module_name\" : group_name, \"start_time\" : cur_start, \"finish_time\" : cur_finish, \"module_init_duration\" : cur_duration}\n",
    "        print(\"includes {}, added: {}\".format(num_included, new_d))\n",
    "        new_events.append(new_d)\n",
    "        cur_duration = 0\n",
    "        n_event += 1\n",
    "        group_table[group_name] = group_modules if num_included > 0 else [name]\n",
    "        group_modules = []\n",
    "    else:\n",
    "        group_modules.append(name)\n",
    "        num_included += 1\n",
    "        pass\n",
    "            \n",
    "if cur_duration != 0:\n",
    "    group_name = \"group_{}\".format(n_event)\n",
    "    new_d = {\"module_name\" : group_name, \"start_time\" : cur_start, \"finish_time\" : cur_finish, \"module_init_duration\" : cur_duration}\n",
    "    print(\"added: {}\".format(new_d))\n",
    "    new_events.append(new_d)\n",
    "    group_table[group_name] = group_modules\n",
    "\n",
    "new_events"
   ]
  },
  {
   "cell_type": "code",
   "execution_count": null,
   "metadata": {},
   "outputs": [],
   "source": [
    "t_str = group_table['group_6']\n",
    "t_str1 = ','.join(t_str)\n",
    "t_str1"
   ]
  },
  {
   "cell_type": "code",
   "execution_count": null,
   "metadata": {},
   "outputs": [],
   "source": [
    "group_table_str = []\n",
    "for k, v in group_table.items():\n",
    "    dict = {}\n",
    "    dict[\"group_name\"] = k\n",
    "    dict[\"modules\"] = ','.join(v)\n",
    "    group_table_str.append(dict)\n",
    "\n",
    "# display(group_table_str)\n",
    "for d in group_table_str:\n",
    "    print(\"{}: {}\".format(d[\"group_name\"], d[\"modules\"]))\n",
    "\n",
    "for k, v in group_table.items():\n",
    "    print(\"{}:\".format(k))\n",
    "    for m in v:\n",
    "        print(\"  {}\".format(m))\n",
    "    # print(\"{}: {}\".format(d[\"group_name\"], d[\"modules\"]))\n",
    "\n",
    "# group_table_str_df = pd.DataFrame(group_table_str)\n",
    "# group_table_str_df"
   ]
  },
  {
   "cell_type": "code",
   "execution_count": null,
   "metadata": {},
   "outputs": [],
   "source": [
    "display(group_table)\n",
    "# group_table_df = pd.DataFrame.from_dict(group_table, orient='index')\n",
    "# display(group_table_df)\n"
   ]
  },
  {
   "cell_type": "code",
   "execution_count": null,
   "metadata": {},
   "outputs": [],
   "source": [
    "new_df = pd.DataFrame(new_events)\n",
    "new_df.set_index('module_name', inplace=True)\n",
    "new_df.head()"
   ]
  },
  {
   "cell_type": "code",
   "execution_count": null,
   "metadata": {},
   "outputs": [],
   "source": [
    "plot_module_time_chart(new_df, debug=False)"
   ]
  },
  {
   "cell_type": "code",
   "execution_count": null,
   "metadata": {},
   "outputs": [],
   "source": [
    "15228333.0 - 15216708.0"
   ]
  },
  {
   "cell_type": "code",
   "execution_count": null,
   "metadata": {},
   "outputs": [],
   "source": [
    "15257625.0-15228333.0"
   ]
  },
  {
   "cell_type": "code",
   "execution_count": null,
   "metadata": {},
   "outputs": [],
   "source": [
    "t1 = small_df[-42:]\n",
    "display(t1)"
   ]
  },
  {
   "cell_type": "code",
   "execution_count": null,
   "metadata": {},
   "outputs": [],
   "source": [
    "plot_module_time_chart(t1, small_set=-1, debug=False)"
   ]
  }
 ],
 "metadata": {
  "kernelspec": {
   "display_name": "Python 3.8.12 ('pytorch_env')",
   "language": "python",
   "name": "python3"
  },
  "language_info": {
   "codemirror_mode": {
    "name": "ipython",
    "version": 3
   },
   "file_extension": ".py",
   "mimetype": "text/x-python",
   "name": "python",
   "nbconvert_exporter": "python",
   "pygments_lexer": "ipython3",
   "version": "3.8.12"
  },
  "vscode": {
   "interpreter": {
    "hash": "3fa8f9c45b60853bb3d615f814548b5337da45fc6ea40b493b018f80b808d764"
   }
  }
 },
 "nbformat": 4,
 "nbformat_minor": 2
}
