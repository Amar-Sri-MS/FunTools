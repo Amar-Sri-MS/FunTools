{
 "cells": [
  {
   "cell_type": "markdown",
   "metadata": {},
   "source": [
    "# FunOS Malloc report\n",
    "\n",
    "This notebook summarizes mcache metrics."
   ]
  },
  {
   "cell_type": "code",
   "execution_count": null,
   "metadata": {},
   "outputs": [],
   "source": [
    "# *NOTE*: run this command to clean output cell and meta data.\n",
    "\n",
    "#nb-clean clean  ./funos_stats_analysis/malloc_report.ipynb   "
   ]
  },
  {
   "cell_type": "code",
   "execution_count": null,
   "metadata": {},
   "outputs": [],
   "source": [
    "%matplotlib inline\n",
    "import numpy as np\n",
    "import pandas as pd\n",
    "import matplotlib.pyplot as plt\n",
    "from matplotlib.pyplot import figure\n",
    "import matplotlib.ticker as mticker\n",
    "from plotly.subplots import make_subplots\n",
    "\n",
    "import plotly.graph_objects as go\n",
    "import plotly.express as px\n",
    "\n",
    "plt.rcParams['figure.figsize'] = [15, 25]\n",
    "\n",
    "#https://stackoverflow.com/questions/36288670/how-to-programmatically-generate-markdown-output-in-jupyter-notebooks\n",
    "from IPython.display import display, Markdown, Latex"
   ]
  },
  {
   "cell_type": "code",
   "execution_count": null,
   "metadata": {},
   "outputs": [],
   "source": [
    "# df_dir = \".\"\n",
    "df_dir = \"../outputs/2022-07-27/15-40-56/\"\n",
    "# df_dir = \"\"\n",
    "# df_filename_pattern = \"{}malloc_caches_slot_stats_slot_{}.pkl\"\n",
    "df_filename_pattern = \"malloc_caches_slot_stats_slot_{}.pkl\""
   ]
  },
  {
   "cell_type": "code",
   "execution_count": null,
   "metadata": {},
   "outputs": [],
   "source": [
    "slots = [s for s in range(6,16)]\n",
    "slot_idx = [i for i in range(len(slots))]"
   ]
  },
  {
   "cell_type": "code",
   "execution_count": null,
   "metadata": {},
   "outputs": [],
   "source": [
    "# df_filenames = [df_filename_pattern.format(df_dir, s) for s in slots]\n",
    "df_filenames = [df_filename_pattern.format(s) for s in slots]"
   ]
  },
  {
   "cell_type": "code",
   "execution_count": null,
   "metadata": {},
   "outputs": [],
   "source": [
    "dfs = [pd.read_pickle(df_filename) for df_filename  in df_filenames]"
   ]
  },
  {
   "cell_type": "code",
   "execution_count": null,
   "metadata": {},
   "outputs": [],
   "source": [
    "def plot_vp_index(df, col, title):\n",
    "    plt.title(title)\n",
    "    plt.scatter(df.index, df[col])\n",
    "    plt.xticks(rotation = 70)\n",
    "    plt.grid()\n",
    "    plt.show()"
   ]
  },
  {
   "cell_type": "code",
   "execution_count": null,
   "metadata": {},
   "outputs": [],
   "source": [
    "def plot_vp_index_all_slots(dfs, col, title, height=30):\n",
    "    note_str = '## y axis: **{}**'.format(title)\n",
    "    display(Markdown(note_str))\n",
    "    note_str = \"## x axis: **cluster,core number (`cluster.core`)**\"\n",
    "    display(Markdown(note_str))\n",
    "\n",
    "    # use short notation for cluster.core for x-axis\n",
    "    short_vp_names = [\"{}.{}\".format(vp.split('_')[1], vp.split('_')[2]) for vp in dfs[0].index]\n",
    "\n",
    "    # prepare subplot\n",
    "    fig, axs = plt.subplots(len(slots),1)\n",
    "    fig.set_figheight(height)\n",
    "\n",
    "    for i, s in zip(slot_idx, slots):\n",
    "        df = dfs[i]\n",
    "        if col == \"Avail\":\n",
    "            max_val = df['Max'][0]\n",
    "            # axs[i].plot(df.index, df['Max'], 'r', label='Max')\n",
    "            axs[i].axhline(y=max_val, color='r', linestyle='-') #, label=\"Max(limit)\")\n",
    "            axs[i].scatter(df.index, df[col], label=col)\n",
    "            axs[i].plot(df.index, df['Avail(avg)'], color='y', label=\"Avail(avg)\")\n",
    "            axs[i].errorbar(df.index, df['Avail(avg)'], yerr=df['Avail(std)'], color='y', fmt=\".\") #, label=\"Avail(std)\")\n",
    "            # axs[i].axhline(y=df[col].mean(), color='y', linestyle='-', label=\"Avail(Mean)\")\n",
    "            # axs[i].errorbar(df.index, df[col], yerr=df[col].std(), fmt=\"-\", label=\"Avail(std)\")\n",
    "\n",
    "            axs[i].plot(df.index, df['Avail(max)'], 'g', label='Avail(max)')\n",
    "            # 'Avail(min) is reset to max, so if == max, then not yet updated so set to itself\n",
    "            avail_min = np.where(df['Avail(min)'] != df['Max'], df['Avail(min)'], df[col])\n",
    "            # avail_min = df['Avail(min)']\n",
    "            axs[i].plot(df.index, avail_min, 'b', label='Avail(min)')\n",
    "            axs[i].plot(df.index, df['Repl_th_val'], '.', label='Repl_th_val')\n",
    "            axs[i].set_ylim([0, max_val*1.05])\n",
    "            if i == 0: print(\"Red line: max\")\n",
    "        elif col in ['Hit']:\n",
    "            if i == 0:\n",
    "                note_str = \"*NOTE*: {}, y axis is $\\log$ scale.\".format(col)\n",
    "                display(Markdown(note_str))\n",
    "            axs[i].scatter(df.index, df[col], label=\"Hit (log)\")\n",
    "            axs[i].set_yscale('log')\n",
    "        else:\n",
    "            axs[i].scatter(df.index, df[col], label=col)\n",
    "        # axs[i].scatter(df.index, df_1[col])\n",
    "        axs[i].set_ylabel(\"Slot: {}\".format(s))\n",
    "        axs[i].grid()\n",
    "        axs[i].legend()\n",
    "        ticks_loc = axs[i].get_xticks()\n",
    "        axs[i].xaxis.set_major_locator(mticker.FixedLocator(ticks_loc))\n",
    "        axs[i].set_xticklabels(short_vp_names, rotation=70)\n",
    "        axs[i].set_xlabel('cluster.core')\n",
    "    \n",
    "    plt.show()"
   ]
  },
  {
   "cell_type": "markdown",
   "metadata": {},
   "source": [
    "## Malloc stats for all slots"
   ]
  },
  {
   "cell_type": "code",
   "execution_count": null,
   "metadata": {},
   "outputs": [],
   "source": [
    "print(\"Column list: {}\".format(dfs[0].columns))"
   ]
  },
  {
   "cell_type": "code",
   "execution_count": null,
   "metadata": {},
   "outputs": [],
   "source": [
    "black_list = ['Avail Bytes', 'Avail(max)', 'Avail(min)', 'Max repl. time (nsec)', 'MIN repl. miss inter dur. (nsec)',\n",
    "       'MIN alloc inter dur. (nsec)', 'Max', 'val_func']\n",
    "print(\"Will plot except these columns: {}\".format(black_list))"
   ]
  },
  {
   "cell_type": "code",
   "execution_count": null,
   "metadata": {},
   "outputs": [],
   "source": [
    "for col in dfs[0].columns:\n",
    "    if col not in black_list: \n",
    "        plot_vp_index_all_slots(dfs, col, col)"
   ]
  },
  {
   "cell_type": "markdown",
   "metadata": {},
   "source": [
    "## Value function visualization"
   ]
  },
  {
   "cell_type": "code",
   "execution_count": null,
   "metadata": {},
   "outputs": [],
   "source": [
    "# t1 = dfs[0]['val_func'][0]"
   ]
  },
  {
   "cell_type": "code",
   "execution_count": null,
   "metadata": {},
   "outputs": [],
   "source": [
    "# type(t1)"
   ]
  },
  {
   "cell_type": "code",
   "execution_count": null,
   "metadata": {},
   "outputs": [],
   "source": [
    "def _get_values_for_meshplot(Q):\n",
    "    x = np.linspace(0, 7, 8).astype(int)\n",
    "    y = np.linspace(0, 7, 8).astype(int)\n",
    "    xlabel = \"State1, avail\"\n",
    "    ylabel = \"State2, avail_diff offset by 4\"\n",
    "\n",
    "    def f(x, y):\n",
    "        div = 1\n",
    "        return np.argmax(Q[x // div, y // div, :], axis=2)\n",
    "\n",
    "    return x, y, xlabel, ylabel, f"
   ]
  },
  {
   "cell_type": "code",
   "execution_count": null,
   "metadata": {},
   "outputs": [],
   "source": [
    "def _plot_Q_matplot(\n",
    "    Q, title\n",
    "):\n",
    "\n",
    "    # st = config[\"agent\"].get(\"state_type\", \"REQ_CUR\")\n",
    "    x, y, xlabel, ylabel, f = _get_values_for_meshplot(Q)\n",
    "\n",
    "    X, Y = np.meshgrid(x, y)\n",
    "    Z = f(X, Y)\n",
    "\n",
    "    fig = plt.figure()\n",
    "    ax = plt.axes(projection=\"3d\")\n",
    "    # map the data to rgba values from a colormap\n",
    "    ax.plot_surface(X, Y, Z, rstride=1, cstride=1, cmap=\"viridis\", edgecolor=\"none\",antialiased=True)\n",
    "    ax.set(\n",
    "        xlabel=xlabel, ylabel=ylabel, zlabel=\"Action\", title=\"Tabular Q values: {}\".format(title)\n",
    "    )\n",
    "\n",
    "    plt.tight_layout()\n",
    "\n",
    "    plt.show()\n",
    "\n"
   ]
  },
  {
   "cell_type": "code",
   "execution_count": null,
   "metadata": {},
   "outputs": [],
   "source": [
    "def _plot_Q_plotly(\n",
    "    Q, title\n",
    "):\n",
    "\n",
    "    x, y, xlabel, ylabel, f = _get_values_for_meshplot(Q)\n",
    "\n",
    "    X, Y = np.meshgrid(x, y)\n",
    "    Z = f(X, Y)\n",
    "\n",
    "    # https://plotly.com/python/3d-surface-plots/\n",
    "    fig = go.Figure(data=[go.Surface(z=Z, x=X, y=Y)])\n",
    "    # fig = go.Figure(data=[go.Surface(z=Z)])\n",
    "    fig.update_traces(\n",
    "        contours_z=dict(\n",
    "            show=True, usecolormap=True, highlightcolor=\"limegreen\", project_z=True\n",
    "        )\n",
    "    )\n",
    "\n",
    "    # max_x = (\n",
    "    #     config[\"agent\"][\"max_request_mem\"] - config[\"agent\"][\"min_request_mem\"] + 1\n",
    "    # )\n",
    "    # offset_x = -config[\"agent\"][\"min_request_mem\"]\n",
    "\n",
    "\n",
    "    # max_z = config[\"agent\"][\"action_max_mem\"] - config[\"agent\"][\"action_min_mem\"] + 1\n",
    "    # offset_z = -config[\"agent\"][\"action_min_mem\"]\n",
    "    # max_y = config[\"agent\"][\"max_cached_mem\"] + 1\n",
    "    # skip = 2\n",
    "\n",
    "    # x_val = [i for i in range(0, max_x, skip)]\n",
    "    # if st == \"REQ_CUR\":\n",
    "    #     x_tick = [v - offset_x for v in x_val]\n",
    "    # elif st == \"CUR_PREV\" or st == \"CUR_PREV_QUANTIZED\":\n",
    "    #     x_tick = x_val\n",
    "\n",
    "    y_val = [i for i in range(0, 8)]\n",
    "    z_val = [i for i in range(0, 2)]\n",
    "    # z_tick = [v - offset_z for v in z_val]\n",
    "\n",
    "    zlabel = \"Action\"\n",
    "    title = \"Tabular Q values: {}\".format(title)\n",
    "    fig.update_layout(\n",
    "        title=title,\n",
    "        scene=dict(\n",
    "            xaxis_title=xlabel,\n",
    "            yaxis_title=ylabel,\n",
    "            zaxis_title=zlabel,\n",
    "            # xaxis=dict(ticktext=x_tick, tickvals=x_val),\n",
    "            # xaxis=dict(ticktext=x_val, tickvals=x_val),\n",
    "            # yaxis=dict(ticktext=y_val, tickvals=y_val),\n",
    "            # zaxis=dict(ticktext=z_tick, tickvals=z_val),\n",
    "        ),\n",
    "        scene_aspectmode=\"cube\",\n",
    "    )\n",
    "\n",
    "    fig.show()"
   ]
  },
  {
   "cell_type": "code",
   "execution_count": null,
   "metadata": {},
   "outputs": [],
   "source": [
    "# dfs[0].index[0]"
   ]
  },
  {
   "cell_type": "code",
   "execution_count": null,
   "metadata": {},
   "outputs": [],
   "source": [
    "# slot = 0\n",
    "# for slot in range(10):\n",
    "for slot in range(1):\n",
    "    for i in range(len(dfs[0])):\n",
    "        df_i = dfs[slot]['val_func'][i]\n",
    "        # _plot_Q_matplot(df_i, \"slot {}, vp {}\".format(slot, dfs[slot].index[i]))\n",
    "        _plot_Q_plotly(df_i, \"slot {}, vp {}\".format(slot, dfs[slot].index[i]))"
   ]
  },
  {
   "cell_type": "code",
   "execution_count": null,
   "metadata": {},
   "outputs": [],
   "source": [
    "# _plot_Q_matplot(t1)"
   ]
  }
 ],
 "metadata": {
  "interpreter": {
   "hash": "3fa8f9c45b60853bb3d615f814548b5337da45fc6ea40b493b018f80b808d764"
  },
  "kernelspec": {
   "display_name": "Python 3.8.12 ('pytorch_env')",
   "language": "python",
   "name": "python3"
  },
  "language_info": {
   "codemirror_mode": {
    "name": "ipython",
    "version": 3
   },
   "file_extension": ".py",
   "mimetype": "text/x-python",
   "name": "python",
   "nbconvert_exporter": "python",
   "pygments_lexer": "ipython3"
  }
 },
 "nbformat": 4,
 "nbformat_minor": 2
}
