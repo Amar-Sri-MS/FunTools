{
 "cells": [
  {
   "cell_type": "markdown",
   "metadata": {},
   "source": [
    "# module init log parsing\n",
    "\n",
    "To parse module init log from time stamp based log\n",
    "\n"
   ]
  },
  {
   "cell_type": "code",
   "execution_count": 1,
   "metadata": {},
   "outputs": [],
   "source": [
    "import re\n",
    "import json\n",
    "import requests\n",
    "import os\n",
    "import errno\n",
    "\n",
    "import logging\n",
    "\n",
    "# A logger for this file\n",
    "logger = logging.getLogger(__name__)"
   ]
  },
  {
   "cell_type": "code",
   "execution_count": 2,
   "metadata": {},
   "outputs": [],
   "source": [
    "def _extract_module_init_data(file_name_url: str, logger=logger, working_dir: str=\"./\", module_init_file: str=\"modules.json\", notif_init_file: str=\"notifications.json\"):\n",
    "\n",
    "    \"\"\"load module init data\n",
    "    either from file or raw log from url\n",
    "    extract data and save json file to the working_dir\n",
    "\n",
    "    Parameters\n",
    "    ----------\n",
    "    file_name_url : str\n",
    "        file name or url, if it url, then it is expected to starts with 'http'\n",
    "    logger : logger\n",
    "        logger\n",
    "    working_dir : str, optional\n",
    "        working directory, by default \"./\"\n",
    "    module_init_file: str, optional\n",
    "        module init file name, by default \"modules.json\", full path for saved file will be working_dir/module_init_file\n",
    "    notif_init_file: str, optional\n",
    "        notification init file name, by default \"notifications.json\", full path for saved file will be working_dir/notif_init_file\n",
    "\n",
    "    Returns\n",
    "    -------\n",
    "    module_init_file_name: str\n",
    "        full path of the saved module init file\n",
    "    notif_init_file_name: str\n",
    "        full path of the saved notification init file\n",
    "\n",
    "    Raises\n",
    "    ------\n",
    "    FileNotFoundError\n",
    "        if file_name_url is not a file or url\n",
    "    requests.exceptions*\n",
    "        if file_name_url is url and it is not accessible\n",
    "    \"\"\"\n",
    "\n",
    "    read_url = True if file_name_url.startswith(\"http\") else False\n",
    "    if read_url:\n",
    "        try:\n",
    "            response = requests.get(file_name_url)\n",
    "            lines = response.text\n",
    "        except requests.exceptions.HTTPError as ex:\n",
    "            logger.error(\"Http error: {}\".format(ex))\n",
    "            raise ex\n",
    "        except requests.exceptions.ConnectionError as ex:\n",
    "            logger.error(\"Error Connecting: {}\".format(ex))\n",
    "            raise ex\n",
    "        except requests.exceptions.Timeout as ex:\n",
    "            logger.error(\"Timeout Error: {}\".format(ex))\n",
    "            raise ex\n",
    "        except requests.exceptions.RequestException as ex:\n",
    "            logger.error(\"Exception {}\".format(ex))\n",
    "            raise ex\n",
    "    else:\n",
    "        try:\n",
    "            with open(file_name_url) as f:\n",
    "                lines = f.read()\n",
    "        except FileNotFoundError as ex:\n",
    "            logger.error(\"File not found: {}\".format(file_name_url))\n",
    "            raise ex\n",
    "\n",
    "    # remove time stamp from each line\n",
    "    # FROM: [1664319485.206378 0.0.0] pci_early: performing i2c/MUD initialization\n",
    "    lines = re.sub(r'\\[.*\\] ', '', lines)\n",
    "\n",
    "    MODULE_MARKERS = r'Time-chart data for module init = (.*?)}'\n",
    "    NOTIF_MARKERS = r'Time-chart data for notifications = (.*?)}'\n",
    "\n",
    "    module_init = re.search(MODULE_MARKERS, lines, re.DOTALL).group(1)\n",
    "    module_init += \"}\" # add back the end marker\n",
    "\n",
    "    notif_init = re.search(NOTIF_MARKERS, lines, re.DOTALL).group(1)\n",
    "    notif_init += \"}\" # add back the end marker\n",
    "\n",
    "    module_init = json.loads(module_init)\n",
    "    notif_init = json.loads(notif_init)\n",
    "\n",
    "    # check if the working_dir exists\n",
    "    if not os.path.exists(working_dir):\n",
    "        os.makedirs(working_dir)\n",
    "    \n",
    "    modules_init_file_name = os.path.join(working_dir, module_init_file)\n",
    "    notificaiotns_init_file_name = os.path.join(working_dir, notif_init_file)\n",
    "\n",
    "    # save files\n",
    "    with open(modules_init_file_name, 'w') as f:\n",
    "        json.dump(module_init, f, indent=4)\n",
    "\n",
    "\n",
    "    with open(notificaiotns_init_file_name, 'w') as f:\n",
    "        json.dump(notif_init, f, indent=4)\n",
    "    \n",
    "    logger.debug(\"Module init file saved to {}\".format(modules_init_file_name))\n",
    "    logger.debug(\"Notifications init file saved to {}\".format(notificaiotns_init_file_name))\n",
    "\n",
    "    return modules_init_file_name, notificaiotns_init_file_name \n"
   ]
  },
  {
   "cell_type": "code",
   "execution_count": 3,
   "metadata": {},
   "outputs": [],
   "source": [
    "# Main call\n",
    "INPUT_FILE_URL = \"http://palladium-jobs.fungible.local:8080/job/4297914/raw_file/odp/uartout0.0.txt\"\n",
    "\n",
    "module_init, notif_init = _extract_module_init_data(INPUT_FILE_URL, logger=logger)"
   ]
  },
  {
   "cell_type": "code",
   "execution_count": 4,
   "metadata": {},
   "outputs": [
    {
     "ename": "NameError",
     "evalue": "name 'stop' is not defined",
     "output_type": "error",
     "traceback": [
      "\u001b[0;31m---------------------------------------------------------------------------\u001b[0m",
      "\u001b[0;31mNameError\u001b[0m                                 Traceback (most recent call last)",
      "\u001b[1;32m/Users/insop/Projects/Fng/FunTools/dpcsh_interactive_client/src/dpcsh_interactive_client/log_parse.ipynb Cell 5\u001b[0m in \u001b[0;36m<module>\u001b[0;34m\u001b[0m\n\u001b[0;32m----> <a href='vscode-notebook-cell:/Users/insop/Projects/Fng/FunTools/dpcsh_interactive_client/src/dpcsh_interactive_client/log_parse.ipynb#X24sZmlsZQ%3D%3D?line=0'>1</a>\u001b[0m stop\n",
      "\u001b[0;31mNameError\u001b[0m: name 'stop' is not defined"
     ]
    }
   ],
   "source": [
    "stop"
   ]
  },
  {
   "cell_type": "code",
   "execution_count": null,
   "metadata": {},
   "outputs": [],
   "source": [
    "# input file\n",
    "# INPUT_FILE = \"posix-log.txt\"\n",
    "INPUT_FILE = \"uartout0.0.txt\"\n",
    "INPUT_FILE_URL = \"http://palladium-jobs.fungible.local:8080/job/4297914/raw_file/odp/uartout0.0.txt\"\n",
    "MODULE_INIT_FILE = \"modules_from_log.json\"\n",
    "NOTIF_INIT_FILE = \"notifications_from_log.json\""
   ]
  },
  {
   "cell_type": "code",
   "execution_count": null,
   "metadata": {},
   "outputs": [],
   "source": [
    "READ_URL = True\n",
    "READ_FILE = False"
   ]
  },
  {
   "cell_type": "code",
   "execution_count": null,
   "metadata": {},
   "outputs": [],
   "source": [
    "response = requests.get(INPUT_FILE_URL)\n",
    "lines = response.text"
   ]
  },
  {
   "cell_type": "code",
   "execution_count": null,
   "metadata": {},
   "outputs": [],
   "source": [
    "if READ_FILE:\n",
    "    # load text file\n",
    "    with open(INPUT_FILE) as f:\n",
    "        # lines = f.readlines()\n",
    "        lines = f.read()\n",
    "elif READ_URL:\n",
    "    response = requests.get(INPUT_FILE_URL)\n",
    "    lines = response.text\n",
    "else:\n",
    "    print(\"No input file or url specified\")\n",
    "    assert False\n"
   ]
  },
  {
   "cell_type": "code",
   "execution_count": null,
   "metadata": {},
   "outputs": [],
   "source": [
    "# remove time stamp from each line\n",
    "# FROM: [1664319485.206378 0.0.0] pci_early: performing i2c/MUD initialization\n",
    "# TO  : pci_early: performing i2c/MUD initialization\n",
    "# import re\n",
    "# lines = [re.sub(r'\\[.*\\] ', '', line) for line in lines]"
   ]
  },
  {
   "cell_type": "code",
   "execution_count": null,
   "metadata": {},
   "outputs": [],
   "source": [
    "# remove time stamp from each line\n",
    "# FROM: [1664319485.206378 0.0.0] pci_early: performing i2c/MUD initialization\n",
    "lines = re.sub(r'\\[.*\\] ', '', lines)"
   ]
  },
  {
   "cell_type": "code",
   "execution_count": null,
   "metadata": {},
   "outputs": [],
   "source": [
    "MODULE_MARKERS = r'Time-chart data for module init = (.*?)}'\n",
    "\n",
    "NOTIF_MARKERS = r'Time-chart data for notifications = (.*?)}'"
   ]
  },
  {
   "cell_type": "code",
   "execution_count": null,
   "metadata": {},
   "outputs": [],
   "source": [
    "# with open('submission.tex') as f: print((re.search(r'% <SCPD_SUBMISSION_TAG>_2a(.*?)% <SCPD_SUBMISSION_TAG>_2a', f.read(), re.DOTALL)).group(1))"
   ]
  },
  {
   "cell_type": "code",
   "execution_count": null,
   "metadata": {},
   "outputs": [],
   "source": [
    "module_init = re.search(MODULE_MARKERS, lines, re.DOTALL).group(1)\n",
    "module_init += \"}\" # add back the end marker"
   ]
  },
  {
   "cell_type": "code",
   "execution_count": null,
   "metadata": {},
   "outputs": [],
   "source": [
    "notif_init = re.search(NOTIF_MARKERS, lines, re.DOTALL).group(1)\n",
    "notif_init += \"}\" # add back the end marker"
   ]
  },
  {
   "cell_type": "code",
   "execution_count": null,
   "metadata": {},
   "outputs": [],
   "source": [
    "module_init = json.loads(module_init)"
   ]
  },
  {
   "cell_type": "code",
   "execution_count": null,
   "metadata": {},
   "outputs": [],
   "source": [
    "notif_init = json.loads(notif_init)"
   ]
  },
  {
   "cell_type": "code",
   "execution_count": null,
   "metadata": {},
   "outputs": [],
   "source": [
    "# save file\n",
    "with open(MODULE_INIT_FILE, 'w') as f:\n",
    "    json.dump(module_init, f, indent=4)\n",
    "\n",
    "\n",
    "with open(NOTIF_INIT_FILE, 'w') as f:\n",
    "    json.dump(notif_init, f, indent=4)\n"
   ]
  }
 ],
 "metadata": {
  "kernelspec": {
   "display_name": "Python 3.8.12 ('pytorch_env')",
   "language": "python",
   "name": "python3"
  },
  "language_info": {
   "codemirror_mode": {
    "name": "ipython",
    "version": 3
   },
   "file_extension": ".py",
   "mimetype": "text/x-python",
   "name": "python",
   "nbconvert_exporter": "python",
   "pygments_lexer": "ipython3",
   "version": "3.8.12"
  },
  "orig_nbformat": 4,
  "vscode": {
   "interpreter": {
    "hash": "3fa8f9c45b60853bb3d615f814548b5337da45fc6ea40b493b018f80b808d764"
   }
  }
 },
 "nbformat": 4,
 "nbformat_minor": 2
}
