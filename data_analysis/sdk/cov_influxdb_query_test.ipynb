{
 "cells": [
  {
   "attachments": {},
   "cell_type": "markdown",
   "metadata": {},
   "source": [
    "# Influxdb query test"
   ]
  },
  {
   "cell_type": "code",
   "execution_count": null,
   "metadata": {},
   "outputs": [],
   "source": [
    "from influxdb import InfluxDBClient  # type: ignore"
   ]
  },
  {
   "cell_type": "code",
   "execution_count": null,
   "metadata": {},
   "outputs": [],
   "source": [
    "influx_config = dict(host='fun-mongo-02', port=8086, database='code_coverage')"
   ]
  },
  {
   "cell_type": "code",
   "execution_count": null,
   "metadata": {},
   "outputs": [],
   "source": [
    "def get_influx_client():\n",
    "    \"\"\"Returns influx client object\"\"\"\n",
    "    influx_host = influx_config['host']\n",
    "    influx_port = influx_config['port']\n",
    "    influx_database = influx_config['database']\n",
    "    influx_client = InfluxDBClient(influx_host, influx_port, influx_database)  # type: ignore\n",
    "    return influx_client"
   ]
  },
  {
   "cell_type": "code",
   "execution_count": null,
   "metadata": {},
   "outputs": [],
   "source": [
    "influx_client = get_influx_client()\n",
    "influx_client.switch_database(influx_config['database'])"
   ]
  },
  {
   "cell_type": "code",
   "execution_count": null,
   "metadata": {},
   "outputs": [],
   "source": [
    "# query = 'select * from base;'\n",
    "query = 'select value from line_percent where module=$module  ORDER BY DESC LIMIT 1;'\n",
    "# query = 'select value from function_percent where module=$module  ORDER BY DESC LIMIT 1;'\n",
    "# query = 'select value from function_percent where module=$module;'\n",
    "bind_params = {'module': 'nucleus'}\n",
    "# bind_params = {'module': 'sdk'}"
   ]
  },
  {
   "cell_type": "code",
   "execution_count": null,
   "metadata": {},
   "outputs": [],
   "source": [
    "# q = influx_client.query('select * from \"code_coverage\".\"autogen\".\"coverage\"')\n",
    "# q = influx_client.query('select * from \"code_coverage\"')\n",
    "results = influx_client.query(query, bind_params=bind_params)\n",
    "# influx_client.query(query)"
   ]
  },
  {
   "cell_type": "code",
   "execution_count": null,
   "metadata": {},
   "outputs": [],
   "source": [
    "results.raw"
   ]
  },
  {
   "cell_type": "code",
   "execution_count": null,
   "metadata": {},
   "outputs": [],
   "source": [
    "tmp = results.raw"
   ]
  },
  {
   "cell_type": "code",
   "execution_count": null,
   "metadata": {},
   "outputs": [],
   "source": [
    "tmp['series'][0]['values'][0][1]"
   ]
  },
  {
   "cell_type": "code",
   "execution_count": null,
   "metadata": {},
   "outputs": [],
   "source": [
    "for i, r in enumerate(results):\n",
    "    print(i, r)"
   ]
  },
  {
   "cell_type": "code",
   "execution_count": null,
   "metadata": {},
   "outputs": [],
   "source": [
    "# for measurement in results.get_points(measurement='value'):\n",
    "for measurement in results.get_points():\n",
    "    print(measurement)\n",
    "    # print(measurement[\"value\"])"
   ]
  },
  {
   "cell_type": "code",
   "execution_count": null,
   "metadata": {},
   "outputs": [],
   "source": [
    "q"
   ]
  },
  {
   "cell_type": "code",
   "execution_count": null,
   "metadata": {},
   "outputs": [],
   "source": []
  }
 ],
 "metadata": {
  "kernelspec": {
   "display_name": "pytorch_env",
   "language": "python",
   "name": "python3"
  },
  "language_info": {
   "codemirror_mode": {
    "name": "ipython",
    "version": 3
   },
   "file_extension": ".py",
   "mimetype": "text/x-python",
   "name": "python",
   "nbconvert_exporter": "python",
   "pygments_lexer": "ipython3"
  },
  "vscode": {
   "interpreter": {
    "hash": "3fa8f9c45b60853bb3d615f814548b5337da45fc6ea40b493b018f80b808d764"
   }
  }
 },
 "nbformat": 4,
 "nbformat_minor": 2
}
