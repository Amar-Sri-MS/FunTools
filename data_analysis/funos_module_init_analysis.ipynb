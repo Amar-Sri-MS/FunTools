{
 "cells": [
  {
   "cell_type": "markdown",
   "metadata": {},
   "source": [
    "# FunOS module init analysis "
   ]
  },
  {
   "cell_type": "code",
   "execution_count": null,
   "metadata": {},
   "outputs": [],
   "source": [
    "\n",
    "# This is a notebook that generates a chart of module init time. \n",
    "# This notebook shows the module init time chart.\n",
    "\n",
    "# Input:\n",
    "#     - raw log file: load through config file\n",
    "\n",
    "# Config file:\n",
    "#    - config file: `funos_module_init_analysis_config.yml` in the same directory as this notebook\n"
   ]
  },
  {
   "cell_type": "code",
   "execution_count": null,
   "metadata": {},
   "outputs": [],
   "source": [
    "# *NOTE*: run this command to clean output cell and meta data.\n",
    "# $ nb-clean clean ./funos_module_init_analysis.ipynb "
   ]
  },
  {
   "cell_type": "code",
   "execution_count": null,
   "metadata": {},
   "outputs": [],
   "source": [
    "import json\n",
    "import matplotlib.pyplot as plt\n",
    "import numpy as np\n",
    "import pandas as pd\n",
    "from typing import Tuple\n",
    "import yaml\n",
    "import json\n",
    "import os\n",
    "import logging\n",
    "\n",
    "%matplotlib inline\n",
    "\n",
    "import matplotlib.pyplot as plt\n",
    "plt.rcParams.update({'font.size': 22})\n",
    "\n",
    "#https://stackoverflow.com/questions/36288670/how-to-programmatically-generate-markdown-output-in-jupyter-notebooks\n",
    "from IPython.display import display, Markdown, Latex"
   ]
  },
  {
   "cell_type": "code",
   "execution_count": null,
   "metadata": {},
   "outputs": [],
   "source": [
    "try:\n",
    "    from funos_module_init_time import *\n",
    "    from funos_module_init_time import process_module_notif_init_data\n",
    "    from funos_module_init_time_plot import plot_module_time_chart\n",
    "except ImportError as e:\n",
    "    print(\"Import error: {}\".format(e))\n",
    "    print(\"Set this first:\")\n",
    "    print(\"$ export PYTHONPATH=$WORKSPACE/FunTools/data_analysis:$PYTHONPATH\")\n",
    "    assert(False)"
   ]
  },
  {
   "cell_type": "markdown",
   "metadata": {},
   "source": [
    "## Load config"
   ]
  },
  {
   "cell_type": "code",
   "execution_count": null,
   "metadata": {},
   "outputs": [],
   "source": [
    "# load config file: funos_module_init_analysis_config.yml\n",
    "# - config file can be found from either using env var or from the current directory\n",
    "\n",
    "current_path = os.getcwd()\n",
    "\n",
    "if \"FUNOS_MODULE_INIT_ANALYSIS_CONFIG_FILE\" in os.environ:\n",
    "    config_file_name = os.environ[\"FUNOS_MODULE_INIT_ANALYSIS_CONFIG_FILE\"]\n",
    "    print(\"Using env[FUNOS_MODULE_INIT_ANALYSIS_CONFIG_FILE] config file: {}\".format(config_file_name))\n",
    "else:\n",
    "    config_file = \"funos_module_init_analysis_config.yml\"\n",
    "    config_file_name = os.path.join(current_path, config_file)\n",
    "\n",
    "print(\"current working directory is: \"+current_path)\n",
    "print(\"config file \" + config_file_name)\n",
    "\n",
    "try:\n",
    "    with open (config_file_name, 'r') as c_file:\n",
    "        config = yaml.safe_load(c_file)\n",
    "except Exception as e:\n",
    "    print('Error reading the config file at {} : {}'.format(config_file_name, e))"
   ]
  },
  {
   "cell_type": "code",
   "execution_count": null,
   "metadata": {},
   "outputs": [],
   "source": [
    "# setup the config variables\n",
    "input_file_url = config[\"file_names\"][\"input_file_url\"]\n",
    "out_dir = config[\"out_dir\"]"
   ]
  },
  {
   "cell_type": "code",
   "execution_count": null,
   "metadata": {},
   "outputs": [],
   "source": [
    "def printmd(string):  ###\n",
    "    display(Markdown(string))  ###"
   ]
  },
  {
   "cell_type": "markdown",
   "metadata": {},
   "source": [
    "## Notebook summary"
   ]
  },
  {
   "cell_type": "code",
   "execution_count": null,
   "metadata": {},
   "outputs": [],
   "source": [
    "\n",
    "note_str = \"This page summarizes the FunOS modules init time line.\\n\\n\"\n",
    "printmd(note_str)\n"
   ]
  },
  {
   "cell_type": "markdown",
   "metadata": {},
   "source": [
    "## Module and notif init file loading"
   ]
  },
  {
   "cell_type": "code",
   "execution_count": null,
   "metadata": {},
   "outputs": [],
   "source": [
    "# A logger for this file\n",
    "logger = logging.getLogger(__name__)\n"
   ]
  },
  {
   "cell_type": "code",
   "execution_count": null,
   "metadata": {},
   "outputs": [],
   "source": [
    "# load config file\n",
    "current_path = os.getcwd()\n",
    "note_str = \"current directory is: {}\\n\\n\".format(current_path)\n",
    "printmd(note_str)\n",
    "\n",
    "note_str = \"INPUT_FILE_URL: [{}]({})\\n\\n\".format(input_file_url, input_file_url)\n",
    "printmd(note_str)\n",
    "\n",
    "fun_module_notif_init_df, fun_module_init_df, result = process_module_notif_init_data(\n",
    "    file_name_url=input_file_url, logger=logger, working_dir=out_dir\n",
    ")\n",
    "\n",
    "note_str = \"### Module init time summary\\n\\n\"\n",
    "printmd(note_str)\n",
    "\n",
    "# tmp_df = pd.DataFrame(result, index=[0])\n",
    "tmp_df = pd.DataFrame(result, index=[\"µsec\"])\n",
    "pd.options.display.float_format = '{:,.0f}'.format\n",
    "# convert to µsec\n",
    "num_cols = [\"longest_duration_ns\", \"longest_gap_ns\", \"total_module_init_time_only_ns\", \"time_at_first_kernel_log_ns\", \"total_duration_ns\"]\n",
    "for col in num_cols: tmp_df[col] /= 1000 # convert to µsec\n",
    "# it is already convered in µsec\n",
    "time_at_first_kernel_log_us = tmp_df[\"time_at_first_kernel_log_ns\"][0]\n",
    "\n",
    "tmp_df.rename(\n",
    "    columns={\n",
    "        \"longest_duration_ns\": \"longest_duration (µsec)\",\n",
    "        \"longest_gap_ns\": \"longest_gap (µsec)\",\n",
    "        \"total_module_init_time_only_ns\": \"total_module_init_time_only (µsec)\",\n",
    "        \"time_at_first_kernel_log_ns\": \"kernel boot time (µsec)\",\n",
    "        \"total_duration_ns\": \"total_duration (including kernel boot time)(µsec)\",\n",
    "    },\n",
    "    inplace=True,\n",
    ")\n",
    "display(tmp_df.T.round())\n",
    "\n",
    "top_list = 10\n",
    "note_str = f\"### Top {top_list} module init durations (in µsec)\\n\\n\"\n",
    "printmd(note_str)\n",
    "\n",
    "# sort by module init time\n",
    "fun_module_init_df.sort_values(by=['module_init_duration'], ascending=False, inplace=True)\n",
    "# convert to µsec\n",
    "fun_module_init_df_tmp = fun_module_init_df.copy()\n",
    "fun_module_init_df_tmp[\"module_init_duration\"] /= 1000\n",
    "fun_module_init_df_tmp.rename(\n",
    "    columns={\n",
    "        \"module_init_duration\": \"module_init_duration (µsec)\",\n",
    "    },\n",
    "    inplace=True,\n",
    ")\n",
    "# display module_init_duration only\n",
    "display(fun_module_init_df_tmp.head(top_list)[['module_init_duration (µsec)']].round(1))\n",
    "\n",
    "del tmp_df\n",
    "del fun_module_init_df_tmp"
   ]
  },
  {
   "cell_type": "markdown",
   "metadata": {},
   "source": [
    "## Plot all modules and notif init"
   ]
  },
  {
   "cell_type": "code",
   "execution_count": null,
   "metadata": {},
   "outputs": [],
   "source": [
    "# MAIN CALLS\n",
    "# plot the events\n",
    "\n",
    "note_str = \"The following chart shows the modules and notification init durations and timelines.\\n\\n\"\n",
    "printmd(note_str)\n",
    "\n",
    "threshold_collapse = get_duration_threshold(fun_module_notif_init_df, threshold=0.01)\n",
    "\n",
    "note_str = \"**NOTE**: the following time chart does not incude kernel boot time ({} sec)\\n\\n\".format(time_at_first_kernel_log_us/1000000)\n",
    "\n",
    "printmd(note_str)\n",
    "\n",
    "note_str = \"**NOTE**: When the duration is less than a threshold ({} ns), the module duration is depicted as the threshold duration so that it can be seen in the chart.\\n\\n\".format(int(threshold_collapse))\n",
    "\n",
    "# printmd(note_str)\n",
    "\n",
    "save_file_name = os.path.join(out_dir, \"fun_module_notif_init_chart.png\")\n",
    "plot_module_time_chart(fun_module_notif_init_df,save_file_name=save_file_name, disp_granualarity_ms=1000, min_duration=threshold_collapse, debug=False,logger=logger)"
   ]
  },
  {
   "cell_type": "markdown",
   "metadata": {},
   "source": [
    "## Collapsed Plot all modules and notif init"
   ]
  },
  {
   "cell_type": "code",
   "execution_count": null,
   "metadata": {},
   "outputs": [],
   "source": [
    "# MAIN CALLS\n",
    "# plot the events\n",
    "\n",
    "note_str = \"To visualize it better, modules are near each other and shorter than the threshold are collapsed together in the following chart\\n\\n\"\n",
    "printmd(note_str)\n",
    "\n",
    "fun_module_notif_init_df_collapsed, group_table_module_notif = get_collapsed_df(fun_module_notif_init_df, threshold_collapse, debug=False)\n",
    "\n",
    "save_file_name = os.path.join(out_dir, \"fun_module_notif_init_df_collapsed.png\")\n",
    "\n",
    "plot_module_time_chart(fun_module_notif_init_df_collapsed, save_file_name=save_file_name, disp_granualarity_ms=1000, debug=False, group_table=group_table_module_notif, min_duration=threshold_collapse, logger=logger)\n",
    "\n",
    "output = print_group_table(group_table_module_notif, threshold=threshold_collapse, save_file_name=save_file_name, out_dir=out_dir)\n",
    "\n",
    "note_str = \"#### Collapsed group description:\\n\\n\"\n",
    "printmd(note_str)\n",
    "\n",
    "note_str = \"- Notificaitons are in bold\\n\\n\"\n",
    "printmd(note_str)\n",
    "\n",
    "note_str = \"- `group_number(number of modules in this group): [modules in this group]`\\n\\n\\n\\n\"\n",
    "printmd(note_str)\n",
    "\n",
    "# replace \\n with \\n\\n to display in markdown\n",
    "note_str = output.replace(\"\\n\", \"\\n\\n\")\n",
    "printmd(note_str)"
   ]
  }
 ],
 "metadata": {
  "kernelspec": {
   "display_name": "Python 3.8.12 ('pytorch_env')",
   "language": "python",
   "name": "python3"
  },
  "language_info": {
   "codemirror_mode": {
    "name": "ipython",
    "version": 3
   },
   "file_extension": ".py",
   "mimetype": "text/x-python",
   "name": "python",
   "nbconvert_exporter": "python",
   "pygments_lexer": "ipython3",
   "version": "3.8.12 | packaged by conda-forge | (default, Jan 30 2022, 23:13:55) \n[Clang 11.1.0 ]"
  },
  "vscode": {
   "interpreter": {
    "hash": "3fa8f9c45b60853bb3d615f814548b5337da45fc6ea40b493b018f80b808d764"
   }
  }
 },
 "nbformat": 4,
 "nbformat_minor": 2
}
