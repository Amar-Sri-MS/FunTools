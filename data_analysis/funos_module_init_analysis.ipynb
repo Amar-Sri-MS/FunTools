{
 "cells": [
  {
   "cell_type": "markdown",
   "metadata": {},
   "source": [
    "# FunOS module init analysis "
   ]
  },
  {
   "cell_type": "code",
   "execution_count": null,
   "metadata": {},
   "outputs": [],
   "source": [
    "\n",
    "# This is a notebook that generates a chart of module init time. \n",
    "# This notebook shows the module init time chart.\n",
    "\n",
    "# Input:\n",
    "#     - raw log file: load through config file\n",
    "\n",
    "# Config file:\n",
    "#    - config file: `funos_module_init_analysis_config.yml` in the same directory as this notebook\n"
   ]
  },
  {
   "cell_type": "code",
   "execution_count": null,
   "metadata": {},
   "outputs": [],
   "source": [
    "# *NOTE*: run this command to clean output cell and meta data.\n",
    "# $ nb-clean clean ./funos_module_init_analysis.ipynb "
   ]
  },
  {
   "cell_type": "code",
   "execution_count": null,
   "metadata": {},
   "outputs": [],
   "source": [
    "import json\n",
    "import matplotlib.pyplot as plt\n",
    "import numpy as np\n",
    "import pandas as pd\n",
    "from typing import Tuple\n",
    "import yaml\n",
    "import json\n",
    "import os\n",
    "import logging\n",
    "\n",
    "%matplotlib inline\n",
    "\n",
    "import matplotlib.pyplot as plt\n",
    "plt.rcParams.update({'font.size': 22})\n",
    "\n",
    "#https://stackoverflow.com/questions/36288670/how-to-programmatically-generate-markdown-output-in-jupyter-notebooks\n",
    "from IPython.display import display, Markdown, Latex"
   ]
  },
  {
   "cell_type": "code",
   "execution_count": null,
   "metadata": {},
   "outputs": [],
   "source": [
    "try:\n",
    "    from funos_module_init_time import *\n",
    "    from funos_module_init_time_plot import plot_module_time_chart\n",
    "except ImportError:\n",
    "    print(\"Import error\")"
   ]
  },
  {
   "cell_type": "markdown",
   "metadata": {},
   "source": [
    "## Load config"
   ]
  },
  {
   "cell_type": "code",
   "execution_count": null,
   "metadata": {},
   "outputs": [],
   "source": [
    "# load config file\n",
    "current_path = os.getcwd()\n",
    "print(\"current directory is: \"+current_path)\n",
    "\n",
    "config_file = \"funos_module_init_analysis_config.yml\"\n",
    "path_to_yaml = os.path.join(current_path, config_file)\n",
    "print(\"path_to_config_file \"+path_to_yaml)\n",
    "try:\n",
    "    with open (path_to_yaml, 'r') as c_file:\n",
    "        config = yaml.safe_load(c_file)\n",
    "except Exception as e:\n",
    "    print('Error reading the config file at {} : {}'.format(path_to_yaml, e))"
   ]
  },
  {
   "cell_type": "code",
   "execution_count": null,
   "metadata": {},
   "outputs": [],
   "source": [
    "# setup the config variables\n",
    "input_file_url = config[\"file_names\"][\"input_file_url\"]"
   ]
  },
  {
   "cell_type": "markdown",
   "metadata": {},
   "source": [
    "## Notebook summary"
   ]
  },
  {
   "cell_type": "code",
   "execution_count": null,
   "metadata": {},
   "outputs": [],
   "source": [
    "\n",
    "note_str = \"This page summarizes the FunOS modules init time line.\\n\\n\"\n",
    "display(Markdown(note_str))\n"
   ]
  },
  {
   "cell_type": "markdown",
   "metadata": {},
   "source": [
    "## Module and notif init file loading"
   ]
  },
  {
   "cell_type": "code",
   "execution_count": null,
   "metadata": {},
   "outputs": [],
   "source": [
    "# A logger for this file\n",
    "logger = logging.getLogger(__name__)\n"
   ]
  },
  {
   "cell_type": "code",
   "execution_count": null,
   "metadata": {},
   "outputs": [],
   "source": [
    "# load config file\n",
    "current_path = os.getcwd()\n",
    "note_str = \"current directory is: {}\\n\\n\".format(current_path)\n",
    "display(Markdown(note_str))\n",
    "\n",
    "note_str = \"INPUT_FILE_URL: [{}]({})\\n\\n\".format(input_file_url, input_file_url)\n",
    "display(Markdown(note_str))\n",
    "\n",
    "fun_module_notif_init_df, result = process_module_notif_init_data(\n",
    "    file_name_url=input_file_url, logger=logger, working_dir=current_path\n",
    ")\n",
    "\n",
    "note_str = \"### Module init time summary\\n\\n\"\n",
    "display(Markdown(note_str))\n",
    "\n",
    "tmp_df = pd.DataFrame(result, index=[0])\n",
    "display(tmp_df.round())\n",
    "del tmp_df"
   ]
  },
  {
   "cell_type": "markdown",
   "metadata": {},
   "source": [
    "## Plot all modules and notif init"
   ]
  },
  {
   "cell_type": "code",
   "execution_count": null,
   "metadata": {},
   "outputs": [],
   "source": [
    "# MAIN CALLS\n",
    "# plot the events\n",
    "\n",
    "note_str = \"The following chart shows the modules and notification init durations and timelines.\\n\\n\"\n",
    "display(Markdown(note_str))\n",
    "\n",
    "threshold_collapse = get_duration_threshold(fun_module_notif_init_df, threshold=0.01)\n",
    "\n",
    "note_str = \"**NOTE**: When the duration is less than a threshold ({} ns), the module duration is depicted as the threshold duration so that it can be seen in the chart.\\n\\n\".format(int(threshold_collapse))\n",
    "\n",
    "display(Markdown(note_str))\n",
    "\n",
    "working_dir = \".\"\n",
    "full_module_notif_chart = os.path.join(working_dir, \"fun_module_notif_init_chart.png\")\n",
    "plot_module_time_chart(fun_module_notif_init_df, disp_granualarity_ms=1000, min_duration=threshold_collapse, debug=False,logger=logger)"
   ]
  },
  {
   "cell_type": "markdown",
   "metadata": {},
   "source": [
    "## Collapsed Plot all modules and notif init"
   ]
  },
  {
   "cell_type": "code",
   "execution_count": null,
   "metadata": {},
   "outputs": [],
   "source": [
    "# MAIN CALLS\n",
    "# plot the events\n",
    "\n",
    "note_str = \"To visualize it better, modules are near each other and shorter than the threshold are collapsed together in the following chart\\n\\n\"\n",
    "display(Markdown(note_str))\n",
    "\n",
    "fun_module_notif_init_df_collapsed, group_table_module_notif = get_collapsed_df(fun_module_notif_init_df, threshold_collapse, debug=False)\n",
    "\n",
    "working_dir = \".\"\n",
    "\n",
    "save_file_name = os.path.join(working_dir, \"fun_module_notif_init_df_collapsed.png\")\n",
    "\n",
    "plot_module_time_chart(fun_module_notif_init_df_collapsed, disp_granualarity_ms=1000, debug=False, group_table=group_table_module_notif, min_duration=threshold_collapse, logger=logger)\n",
    "\n",
    "output = print_group_table(group_table_module_notif, threshold=threshold_collapse, save_file_name=save_file_name)\n",
    "\n",
    "note_str = \"#### Collapsed group description:\\n\\n\"\n",
    "display(Markdown(note_str))\n",
    "\n",
    "note_str = \"- Notificaitons are in bold\\n\\n\"\n",
    "display(Markdown(note_str))\n",
    "\n",
    "note_str = \"- `group_number(number of modules in this group): [modules in this group]`\\n\\n\\n\\n\"\n",
    "display(Markdown(note_str))\n",
    "\n",
    "# replace \\n with \\n\\n to display in markdown\n",
    "output = output.replace(\"\\n\", \"\\n\\n\")\n",
    "display(Markdown(output))"
   ]
  }
 ],
 "metadata": {
  "kernelspec": {
   "display_name": "Python 3.8.12 ('pytorch_env')",
   "language": "python",
   "name": "python3"
  },
  "language_info": {
   "codemirror_mode": {
    "name": "ipython",
    "version": 3
   },
   "file_extension": ".py",
   "mimetype": "text/x-python",
   "name": "python",
   "nbconvert_exporter": "python",
   "pygments_lexer": "ipython3"
  },
  "vscode": {
   "interpreter": {
    "hash": "3fa8f9c45b60853bb3d615f814548b5337da45fc6ea40b493b018f80b808d764"
   }
  }
 },
 "nbformat": 4,
 "nbformat_minor": 2
}
