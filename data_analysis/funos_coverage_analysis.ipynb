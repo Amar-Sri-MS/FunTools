{
 "cells": [
  {
   "cell_type": "markdown",
   "metadata": {},
   "source": [
    "# FunOS coverage analysis\n",
    "\n",
    "This notebook is used to analyze the coverage of FunOS."
   ]
  },
  {
   "cell_type": "code",
   "execution_count": null,
   "metadata": {},
   "outputs": [],
   "source": [
    "import pandas as pd\n",
    "import numpy as np\n",
    "import requests\n",
    "\n",
    "import json"
   ]
  },
  {
   "cell_type": "markdown",
   "metadata": {},
   "source": [
    "## Load coverage json file"
   ]
  },
  {
   "cell_type": "code",
   "execution_count": null,
   "metadata": {},
   "outputs": [],
   "source": [
    "\n",
    "working_dir = \".\"\n",
    "input_url = \"http://jenkins-sw-master.fungible.local/ci/job/scheduled/job/coverage/102/Coverage_20Reports/nucleus/index.functions.html\"\n",
    "# input_url = \"http://jenkins-sw-master.fungible.local/ci/job/scheduled/job/coverage/102/Coverage_20Reports/malloc/index.functions.html\"\n",
    "\n",
    "# input_url = \"http://jenkins-sw-master.fungible.local/ci/job/scheduled/job/coverage/101/execution/node/25/ws/coverage/nucleus/index.functions.html/*view*/\"\n",
    "# input_url = \"http://jenkins-sw-master.fungible.local/ci/job/scheduled/job/coverage/101/execution/node/25/ws/coverage/nucleus/coverage.json\"\n",
    "# input_url = \"http://jenkins-sw-master.fungible.local/ci/job/scheduled/job/coverage/89/execution/node/21/ws/coverage/nucleus/coverage.json\"\n",
    "#input_url = \"http://jenkins-sw-master.fungible.local/ci/job/scheduled/job/coverage/88/execution/node/22/ws/coverage/nucleus/coverage.json/*view*/\"\n",
    "#input_url = \"http://jenkins-sw-master.fungible.local/ci/job/scheduled/job/coverage/80/execution/node/21/ws/coverage/nucleus/coverage.json/*view*/\"\n",
    "# input_url = \"http://jenkins-sw-master.fungible.local/ci/job/scheduled/job/coverage/69/execution/node/22/ws/coverage/nucleus/coverage.json/*view*/\"\n"
   ]
  },
  {
   "cell_type": "code",
   "execution_count": null,
   "metadata": {},
   "outputs": [],
   "source": [
    "from requests.auth import HTTPBasicAuth\n",
    "ID = os.environ[\"JENKINS_ID\"]\n",
    "PASSWD = os.environ[\"JENKINS_PASSWD\"]\n",
    "basic = HTTPBasicAuth(ID, PASSWD)\n",
    "response = requests.get(input_url, auth=basic)\n",
    "lines = response.text"
   ]
  },
  {
   "cell_type": "code",
   "execution_count": null,
   "metadata": {},
   "outputs": [],
   "source": [
    "lines"
   ]
  },
  {
   "cell_type": "code",
   "execution_count": null,
   "metadata": {},
   "outputs": [],
   "source": [
    "ID"
   ]
  },
  {
   "cell_type": "code",
   "execution_count": null,
   "metadata": {},
   "outputs": [],
   "source": [
    "# df = pd.read_json(lines)"
   ]
  },
  {
   "cell_type": "markdown",
   "metadata": {},
   "source": []
  },
  {
   "cell_type": "code",
   "execution_count": null,
   "metadata": {},
   "outputs": [],
   "source": [
    "cov_dict = json.loads(lines)\n",
    "cov_dict.keys()\n",
    "\n",
    "# cov_dict['files']"
   ]
  },
  {
   "cell_type": "code",
   "execution_count": null,
   "metadata": {},
   "outputs": [],
   "source": [
    "# cov_dict['files']"
   ]
  },
  {
   "cell_type": "code",
   "execution_count": null,
   "metadata": {},
   "outputs": [],
   "source": [
    "# data frame from list of dict\n",
    "df = pd.DataFrame(cov_dict['files'])\n",
    "\n",
    "# set filename as index\n",
    "df.set_index('filename', inplace=True)\n",
    "\n",
    "df_org = df.copy()\n",
    "\n",
    "# drop columns\n",
    "# df.drop(['branch_covered', 'branch_total', 'function_covered', 'line_covered', 'line_total'], axis=1, inplace=True)"
   ]
  },
  {
   "cell_type": "code",
   "execution_count": null,
   "metadata": {},
   "outputs": [],
   "source": [
    "# df_org['line_covered'].sum()/ df_org['line_total'].sum()"
   ]
  },
  {
   "cell_type": "code",
   "execution_count": null,
   "metadata": {},
   "outputs": [],
   "source": [
    "# sort df by function_percent\n",
    "# add new column of function_uncovered\n",
    "df['function_uncovered'] = df['function_total'] - df['function_covered']\n",
    "\n",
    "df.sort_values(by=['function_percent', 'line_percent', 'branch_percent'], ascending=True, inplace=True)\n",
    "# show only columns of function_percent\n",
    "\n",
    "df_tmp = df[['function_percent', 'function_total', 'function_uncovered']]\n",
    "display(df_tmp.head(50))"
   ]
  },
  {
   "cell_type": "code",
   "execution_count": null,
   "metadata": {},
   "outputs": [],
   "source": [
    "# sum of all function_total column\n",
    "function_total_sum = df['function_total'].sum()\n",
    "function_covered_sum = df['function_covered'].sum()\n",
    "function_percent_computed = function_covered_sum / function_total_sum\n",
    "\n",
    "print(f' function_total_sum: {function_total_sum}')\n",
    "print(f' function_covered_sum: {function_covered_sum}')\n",
    "print(f' function percentage computed: {function_percent_computed}')"
   ]
  },
  {
   "cell_type": "code",
   "execution_count": null,
   "metadata": {},
   "outputs": [],
   "source": [
    "# compute desired function covered and percentage\n",
    "\n",
    "desired_covered_75 = function_total_sum * 0.75\n",
    "desired_covered_80 = function_total_sum * 0.8\n",
    "desired_covered_90 = function_total_sum * 0.9\n",
    "\n",
    "delta_btwn_now_75 = desired_covered_75 - function_covered_sum\n",
    "delta_btwn_now_80 = desired_covered_80 - function_covered_sum\n",
    "\n",
    "print(f' desired_covered_75: {desired_covered_75}')\n",
    "print(f' desired_covered_80: {desired_covered_80}')\n",
    "print(f' desired_covered_90: {desired_covered_90}')\n",
    "print('')\n",
    "print(f' delta_btwn_now_75: {delta_btwn_now_75}')\n",
    "print(f' delta_btwn_now_80: {delta_btwn_now_80}')"
   ]
  },
  {
   "cell_type": "code",
   "execution_count": null,
   "metadata": {},
   "outputs": [],
   "source": [
    "# display index of df nucleus/trace_record.c\n",
    "\n",
    "# display(df.loc['utils/wu/condvar.c'])"
   ]
  },
  {
   "cell_type": "code",
   "execution_count": null,
   "metadata": {},
   "outputs": [],
   "source": [
    "# average of function_percent\n",
    "# this is not actual summary, since what's been compuated is based on the total functions and covered funtions, not the average of the percentage of each file\n",
    "# df['function_percent'].mean()"
   ]
  },
  {
   "cell_type": "code",
   "execution_count": null,
   "metadata": {},
   "outputs": [],
   "source": [
    "df_t = df[:50]"
   ]
  },
  {
   "cell_type": "code",
   "execution_count": null,
   "metadata": {},
   "outputs": [],
   "source": [
    "# plot dataframe reverse order\n",
    "df_t[::-1].plot(kind='barh', figsize=(10, 20), title='Coverage by file')\n",
    "# df[:30].plot(kind='barh', figsize=(10, 20), title='Function Coverage')"
   ]
  },
  {
   "cell_type": "code",
   "execution_count": null,
   "metadata": {},
   "outputs": [],
   "source": [
    "\n",
    "df.plot(kind='barh', figsize=(10, 20), title='Function Coverage')"
   ]
  },
  {
   "cell_type": "markdown",
   "metadata": {},
   "source": [
    "## Test parsing html\n",
    "\n",
    "To extract per function coverage, we need to parse the html file."
   ]
  },
  {
   "cell_type": "code",
   "execution_count": null,
   "metadata": {},
   "outputs": [],
   "source": [
    "html_doc = \"\"\"<html><head><title>The Dormouse's story</title></head>\n",
    "<body>\n",
    "<p class=\"title\"><b>The Dormouse's story</b></p>\n",
    "\n",
    "<p class=\"story\">Once upon a time there were three little sisters; and their names were\n",
    "<a href=\"http://example.com/elsie\" class=\"sister\" id=\"link1\">Elsie</a>,\n",
    "<a href=\"http://example.com/lacie\" class=\"sister\" id=\"link2\">Lacie</a> and\n",
    "<a href=\"http://example.com/tillie\" class=\"sister\" id=\"link3\">Tillie</a>;\n",
    "and they lived at the bottom of a well.</p>\n",
    "\n",
    "<p class=\"story\">...</p>\n",
    "\"\"\""
   ]
  },
  {
   "cell_type": "code",
   "execution_count": null,
   "metadata": {},
   "outputs": [],
   "source": [
    "html_file = \"/Users/insop/tmp/coverage_mac_11_28/nucleus/index.adi.c.81c7dd8fb7388abe4acd04e2508ff6ee.html\""
   ]
  },
  {
   "cell_type": "code",
   "execution_count": null,
   "metadata": {},
   "outputs": [],
   "source": [
    "from bs4 import BeautifulSoup\n",
    "\n",
    "# with open(\"index.html\") as fp:\n",
    "#     soup = BeautifulSoup(fp, 'html.parser')"
   ]
  },
  {
   "cell_type": "code",
   "execution_count": null,
   "metadata": {},
   "outputs": [],
   "source": [
    "# read text file\n",
    "with open(html_file, \"r\", encoding=\"utf-8\") as f:\n",
    "    # html_doc = f.read()\n",
    "    soup = BeautifulSoup(f, 'html.parser')\n",
    "\n",
    "\n",
    "# read text file\n"
   ]
  },
  {
   "cell_type": "code",
   "execution_count": null,
   "metadata": {},
   "outputs": [],
   "source": [
    "type(lines)"
   ]
  },
  {
   "cell_type": "code",
   "execution_count": null,
   "metadata": {},
   "outputs": [],
   "source": [
    "soup = BeautifulSoup(lines, \"html.parser\")"
   ]
  },
  {
   "cell_type": "code",
   "execution_count": null,
   "metadata": {},
   "outputs": [],
   "source": [
    "# from bs4 import BeautifulSoup\n",
    "# soup = BeautifulSoup(html_doc, 'html.parser')\n",
    "\n",
    "# print(soup.prettify())"
   ]
  },
  {
   "cell_type": "code",
   "execution_count": null,
   "metadata": {},
   "outputs": [],
   "source": [
    "print(soup.a)"
   ]
  },
  {
   "cell_type": "code",
   "execution_count": null,
   "metadata": {},
   "outputs": [],
   "source": [
    "# print(soup.get_text())"
   ]
  },
  {
   "cell_type": "code",
   "execution_count": null,
   "metadata": {},
   "outputs": [],
   "source": [
    "print(soup.find(id=\"nav\"))"
   ]
  },
  {
   "cell_type": "code",
   "execution_count": null,
   "metadata": {},
   "outputs": [],
   "source": [
    "# soup = BeautifulSoup('<b class=\"boldest\">Extremely bold</b>', 'html.parser')\n",
    "tab = soup.find(\"table\",{\"class\":\"listOfFunctions\"})\n",
    "print(tab)\n"
   ]
  },
  {
   "cell_type": "code",
   "execution_count": null,
   "metadata": {},
   "outputs": [],
   "source": [
    "# convert bs4 to string\n",
    "\n",
    "type(str(tab))"
   ]
  },
  {
   "cell_type": "code",
   "execution_count": null,
   "metadata": {},
   "outputs": [],
   "source": [
    "import pandas as pd\n",
    "\n",
    "dfs = pd.read_html(str(tab))\n",
    "display(type(dfs))"
   ]
  },
  {
   "cell_type": "code",
   "execution_count": null,
   "metadata": {},
   "outputs": [],
   "source": [
    "dfs[0]"
   ]
  },
  {
   "cell_type": "code",
   "execution_count": null,
   "metadata": {},
   "outputs": [],
   "source": [
    "dfs[0].describe()"
   ]
  },
  {
   "cell_type": "code",
   "execution_count": null,
   "metadata": {},
   "outputs": [],
   "source": [
    "# glob all html files\n",
    "#\n",
    "# init main_df\n",
    "#\n",
    "# loop:\n",
    "# . read html\n",
    "# . extract tab\n",
    "# . convert to df\n",
    "# . add df to the main_df\n",
    "\n",
    "# save main_df to csv"
   ]
  }
 ],
 "metadata": {
  "kernelspec": {
   "display_name": "Python 3.8.12 ('pytorch_env')",
   "language": "python",
   "name": "python3"
  },
  "language_info": {
   "codemirror_mode": {
    "name": "ipython",
    "version": 3
   },
   "file_extension": ".py",
   "mimetype": "text/x-python",
   "name": "python",
   "nbconvert_exporter": "python",
   "pygments_lexer": "ipython3"
  },
  "vscode": {
   "interpreter": {
    "hash": "3fa8f9c45b60853bb3d615f814548b5337da45fc6ea40b493b018f80b808d764"
   }
  }
 },
 "nbformat": 4,
 "nbformat_minor": 2
}
