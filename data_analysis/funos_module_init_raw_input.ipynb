{
 "cells": [
  {
   "cell_type": "markdown",
   "metadata": {},
   "source": [
    "# FunOS module init analysis using raw log"
   ]
  },
  {
   "cell_type": "code",
   "execution_count": null,
   "metadata": {},
   "outputs": [],
   "source": [
    "\n",
    "# This is a notebook that generates a chart of module init time. \n",
    "# This notebook shows the module init time chart.\n",
    "\n",
    "# Input:\n",
    "#     - raw log file: load through config file\n",
    "\n",
    "# Config file:\n",
    "#    - config file: `funos_module_init_raw_input_config.yml` in the same directory as this notebook"
   ]
  },
  {
   "cell_type": "code",
   "execution_count": null,
   "metadata": {},
   "outputs": [],
   "source": [
    "# Generate html file\n",
    "# $ python ./convert_nb.py --filename ./funos_module_init_raw_input.ipynb --execute"
   ]
  },
  {
   "cell_type": "code",
   "execution_count": null,
   "metadata": {},
   "outputs": [],
   "source": [
    "# *NOTE*: run this command to clean output cell and meta data.\n",
    "# $ nb-clean clean ./funos_module_init_raw_input.ipynb "
   ]
  },
  {
   "cell_type": "code",
   "execution_count": null,
   "metadata": {},
   "outputs": [],
   "source": [
    "import json\n",
    "import matplotlib.pyplot as plt\n",
    "import numpy as np\n",
    "import pandas as pd\n",
    "from typing import Tuple\n",
    "import yaml\n",
    "import json\n",
    "import os\n",
    "import logging\n",
    "\n",
    "%matplotlib inline\n",
    "\n",
    "import matplotlib.pyplot as plt\n",
    "plt.rcParams.update({'font.size': 22})\n",
    "\n",
    "pd.options.display.float_format = '{:,}'.format\n",
    "\n",
    "#https://stackoverflow.com/questions/36288670/how-to-programmatically-generate-markdown-output-in-jupyter-notebooks\n",
    "from IPython.display import display, Markdown, Latex"
   ]
  },
  {
   "cell_type": "code",
   "execution_count": null,
   "metadata": {},
   "outputs": [],
   "source": [
    "try:\n",
    "    from funos_module_init_time import *\n",
    "    from funos_module_init_time import process_module_notif_init_raw_data\n",
    "    from funos_module_init_time_plot import plot_module_time_chart\n",
    "except ImportError as e:\n",
    "    print(\"Import error: {}\".format(e))\n",
    "    print(\"Set this first:\")\n",
    "    print(\"$ export PYTHONPATH=$WORKSPACE/FunTools/data_analysis:$PYTHONPATH\")\n",
    "    assert(False)"
   ]
  },
  {
   "cell_type": "markdown",
   "metadata": {},
   "source": [
    "## Load config"
   ]
  },
  {
   "cell_type": "code",
   "execution_count": null,
   "metadata": {},
   "outputs": [],
   "source": [
    "# load config file: funos_module_init_analysis_config.yml\n",
    "# - config file can be found from either using env var or from the current directory\n",
    "\n",
    "current_path = os.getcwd()\n",
    "\n",
    "if \"FUNOS_MODULE_INIT_ANALYSIS_CONFIG_FILE\" in os.environ:\n",
    "    config_file_name = os.environ[\"FUNOS_MODULE_INIT_ANALYSIS_CONFIG_FILE\"]\n",
    "    print(\"Using env[FUNOS_MODULE_INIT_ANALYSIS_CONFIG_FILE] config file: {}\".format(config_file_name))\n",
    "else:\n",
    "    config_file = \"configs/funos_module_init_raw_input_config.yml\"\n",
    "    config_file_name = os.path.join(current_path, config_file)\n",
    "\n",
    "print(\"current working directory is: \"+current_path)\n",
    "print(\"config file \" + config_file_name)\n",
    "\n",
    "try:\n",
    "    with open (config_file_name, 'r') as c_file:\n",
    "        config = yaml.safe_load(c_file)\n",
    "except Exception as e:\n",
    "    print('Error reading the config file at {} : {}'.format(config_file_name, e))"
   ]
  },
  {
   "cell_type": "code",
   "execution_count": null,
   "metadata": {},
   "outputs": [],
   "source": [
    "# setup the config variables\n",
    "input_file_url = config[\"file_names\"][\"input_file_url\"]\n",
    "input_description = config[\"file_names\"][\"description\"]\n",
    "out_dir = config[\"out_dir\"]"
   ]
  },
  {
   "cell_type": "code",
   "execution_count": null,
   "metadata": {},
   "outputs": [],
   "source": [
    "def printmd(string):  ###\n",
    "    display(Markdown(string))  ###"
   ]
  },
  {
   "cell_type": "markdown",
   "metadata": {},
   "source": [
    "## Notebook summary"
   ]
  },
  {
   "cell_type": "code",
   "execution_count": null,
   "metadata": {},
   "outputs": [],
   "source": [
    "\n",
    "note_str = \"This page summarizes the FunOS modules init time line.\\n\\n\"\n",
    "printmd(note_str)\n"
   ]
  },
  {
   "cell_type": "markdown",
   "metadata": {},
   "source": [
    "## Module init loading"
   ]
  },
  {
   "cell_type": "code",
   "execution_count": null,
   "metadata": {},
   "outputs": [],
   "source": [
    "# A logger for this file\n",
    "logger = logging.getLogger(__name__)\n",
    "# logger.setLevel(logging.DEBUG)\n"
   ]
  },
  {
   "cell_type": "code",
   "execution_count": null,
   "metadata": {},
   "outputs": [],
   "source": [
    "# load config file\n",
    "current_path = os.getcwd()\n",
    "note_str = \"current directory is: {}\\n\\n\".format(current_path)\n",
    "printmd(note_str)\n",
    "\n",
    "note_str = \"INPUT_FILE_URL: [{}]({})\\n\\n\".format(input_file_url, input_file_url)\n",
    "printmd(note_str)\n",
    "\n",
    "fun_module_init_df, result = process_module_notif_init_raw_data(\n",
    "    file_name_url=input_file_url, logger=logger, working_dir=out_dir\n",
    ")\n",
    "\n",
    "note_str = \"### Module init time summary\\n\\n\"\n",
    "printmd(note_str)\n",
    "\n",
    "note_str = \"Description: {}\\n\\n\".format(input_description)\n",
    "printmd(note_str)\n",
    "\n",
    "# tmp_df = pd.DataFrame(result, index=[0])\n",
    "tmp_df = pd.DataFrame(result, index=[\"µsec\"])\n",
    "pd.options.display.float_format = '{:,.0f}'.format\n",
    "\n",
    "# convert to µsec\n",
    "num_cols = [\"longest_duration_ns\", \"longest_gap_ns\", \"total_module_init_time_only_ns\", \"total_duration_ns\"]\n",
    "for col in num_cols: tmp_df[col] /= 1000 # convert to µsec\n",
    "\n",
    "tmp_df.rename(\n",
    "    columns={\n",
    "        \"longest_duration_ns\": \"longest_duration (µsec)\",\n",
    "        \"longest_gap_ns\": \"longest_gap (µsec)\",\n",
    "        \"total_module_init_time_only_ns\": \"total_module_init_time_only (µsec)\",\n",
    "        \"total_duration_ns\": \"total_duration (µsec)\",\n",
    "    },\n",
    "    inplace=True,\n",
    ")\n",
    "display(tmp_df.T.round())\n",
    "\n",
    "top_list = 15\n",
    "note_str = f\"### Top {top_list} module init durations (in µsec)\\n\\n\"\n",
    "printmd(note_str)\n",
    "\n",
    "note_str = \"Description: {}\\n\\n\".format(input_description)\n",
    "printmd(note_str)\n",
    "\n",
    "# sort by module init time\n",
    "fun_module_init_df.sort_values(by=['module_init_duration'], ascending=False, inplace=True)\n",
    "# convert to µsec\n",
    "fun_module_init_df_tmp = fun_module_init_df.copy()\n",
    "fun_module_init_df_tmp[\"module_init_duration\"] /= 1000\n",
    "fun_module_init_df_tmp.rename(\n",
    "    columns={\n",
    "        \"module_init_duration\": \"module_init_duration (µsec)\",\n",
    "    },\n",
    "    inplace=True,\n",
    ")\n",
    "# display module_init_duration only\n",
    "display(fun_module_init_df_tmp.head(top_list)[['module_init_duration (µsec)']].round(1))\n",
    "\n",
    "del tmp_df\n",
    "del fun_module_init_df_tmp\n"
   ]
  },
  {
   "cell_type": "markdown",
   "metadata": {},
   "source": [
    "## Plot all modules and notif init"
   ]
  },
  {
   "cell_type": "code",
   "execution_count": null,
   "metadata": {},
   "outputs": [],
   "source": [
    "# MAIN CALLS\n",
    "# plot the events\n",
    "\n",
    "note_str = \"The following chart shows the modules and notification init durations and timelines.\\n\\n\"\n",
    "printmd(note_str)\n",
    "\n",
    "threshold_collapse = get_duration_threshold(fun_module_init_df, threshold=0.01)\n",
    "\n",
    "note_str = \"**NOTE**: When the duration is less than a threshold ({} ns), the module duration is depicted as the threshold duration so that it can be seen in the chart.\\n\\n\".format(int(threshold_collapse))\n",
    "\n",
    "printmd(note_str)\n",
    "\n",
    "save_file_name = os.path.join(out_dir, \"fun_module_init_chart.png\")\n",
    "plot_module_time_chart(fun_module_init_df,save_file_name=save_file_name, disp_granualarity_ms=1000, min_duration=threshold_collapse, debug=False,logger=logger)"
   ]
  }
 ],
 "metadata": {
  "kernelspec": {
   "display_name": "Python 3.8.12 ('pytorch_env')",
   "language": "python",
   "name": "python3"
  },
  "language_info": {
   "codemirror_mode": {
    "name": "ipython",
    "version": 3
   },
   "file_extension": ".py",
   "mimetype": "text/x-python",
   "name": "python",
   "nbconvert_exporter": "python",
   "pygments_lexer": "ipython3"
  },
  "vscode": {
   "interpreter": {
    "hash": "3fa8f9c45b60853bb3d615f814548b5337da45fc6ea40b493b018f80b808d764"
   }
  }
 },
 "nbformat": 4,
 "nbformat_minor": 2
}
