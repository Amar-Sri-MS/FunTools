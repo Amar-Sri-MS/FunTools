{
 "cells": [
  {
   "cell_type": "markdown",
   "metadata": {},
   "source": [
    "# module init log parsing\n",
    "\n",
    "To parse module init log from time stamp based log\n",
    "\n"
   ]
  },
  {
   "cell_type": "code",
   "execution_count": 1,
   "metadata": {},
   "outputs": [],
   "source": [
    "import re\n",
    "import json\n",
    "import requests\n",
    "import os\n",
    "import errno\n",
    "\n",
    "import logging\n",
    "\n",
    "from funos_module_init_time import _extract_module_init_data\n",
    "\n",
    "# A logger for this file\n",
    "logger = logging.getLogger(__name__)\n",
    "logger.setLevel(logging.DEBUG)"
   ]
  },
  {
   "cell_type": "code",
   "execution_count": 5,
   "metadata": {},
   "outputs": [],
   "source": [
    "# Main call\n",
    "# INPUT_FILE_URL = \"uartout0.0.txt\"\n",
    "INPUT_FILE_URL = \"http://palladium-jobs.fungible.local:8080/job/4297914/raw_file/odp/uartout0.0.txt\"\n",
    "\n",
    "module_init, notif_init = _extract_module_init_data(INPUT_FILE_URL, logger=logger, working_dir=\"/Users/insop/Downloads\")"
   ]
  }
 ],
 "metadata": {
  "kernelspec": {
   "display_name": "Python 3.8.12 ('pytorch_env')",
   "language": "python",
   "name": "python3"
  },
  "language_info": {
   "codemirror_mode": {
    "name": "ipython",
    "version": 3
   },
   "file_extension": ".py",
   "mimetype": "text/x-python",
   "name": "python",
   "nbconvert_exporter": "python",
   "pygments_lexer": "ipython3",
   "version": "3.8.12"
  },
  "orig_nbformat": 4,
  "vscode": {
   "interpreter": {
    "hash": "3fa8f9c45b60853bb3d615f814548b5337da45fc6ea40b493b018f80b808d764"
   }
  }
 },
 "nbformat": 4,
 "nbformat_minor": 2
}
