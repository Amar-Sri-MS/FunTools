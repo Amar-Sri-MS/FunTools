{
 "cells": [
  {
   "cell_type": "markdown",
   "metadata": {},
   "source": [
    "# FunOS module dependency graph generator"
   ]
  },
  {
   "cell_type": "code",
   "execution_count": null,
   "metadata": {},
   "outputs": [],
   "source": [
    "import argparse\n",
    "import json\n",
    "\n",
    "import numpy as np\n",
    "\n",
    "import os\n",
    "import sys\n",
    "\n",
    "%matplotlib inline\n",
    "\n",
    "import matplotlib.pyplot as plt\n",
    "plt.rcParams.update({'font.size': 22})\n",
    "\n",
    "#https://stackoverflow.com/questions/36288670/how-to-programmatically-generate-markdown-output-in-jupyter-notebooks\n",
    "from IPython.display import display, Markdown, Latex"
   ]
  },
  {
   "cell_type": "code",
   "execution_count": null,
   "metadata": {},
   "outputs": [],
   "source": [
    "# module depenency source file can be obtained from dpcsh output\n",
    "# save the output from the following command to 'module_dep.json'\n",
    "# dpcsh > debug module_dep\n",
    "\n",
    "\n",
    "# *NOTE*: generate html with batch method\n",
    "# $ python ./convert_nb.py --filename gen_module_dep.ipynb --execute\n",
    "\n",
    "# *NOTE*: run this command to clean output cell and meta data.\n",
    "# $ nb-clean clean ./gen_module_dep.ipynb\n",
    "\n"
   ]
  },
  {
   "cell_type": "code",
   "execution_count": null,
   "metadata": {},
   "outputs": [],
   "source": [
    "# set this True to generate figures\n",
    "png_gen = True"
   ]
  },
  {
   "cell_type": "code",
   "execution_count": null,
   "metadata": {},
   "outputs": [],
   "source": [
    "try:\n",
    "\t# for table\n",
    "\tfrom tabulate import tabulate\n",
    "\timport networkx as nx\n",
    "\timport pandas as pd\n",
    "except ImportError:\n",
    "\tprint(\"{}: Import failed!\".format(__file__))\n",
    "\tprint(\"Install missing modules\")\n",
    "\tprint(\">>> pip install tabulate pandas\")\n",
    "\tsys.exit()"
   ]
  },
  {
   "cell_type": "code",
   "execution_count": null,
   "metadata": {},
   "outputs": [],
   "source": [
    "# expecting module_dep.json is FunOS directory\n",
    "module_file = \"module_dep.json\""
   ]
  },
  {
   "cell_type": "code",
   "execution_count": null,
   "metadata": {},
   "outputs": [],
   "source": [
    "with open(module_file, 'r') as f:\n",
    "\tmodule_dep = json.load(f)\n",
    "\n",
    "# df = pd.DataFrame.from_dict(module_dep, orient='index')\n",
    "# print(df)"
   ]
  },
  {
   "cell_type": "code",
   "execution_count": null,
   "metadata": {},
   "outputs": [],
   "source": [
    "graph = nx.DiGraph()"
   ]
  },
  {
   "cell_type": "code",
   "execution_count": null,
   "metadata": {},
   "outputs": [],
   "source": [
    "DEBUG = False"
   ]
  },
  {
   "cell_type": "code",
   "execution_count": null,
   "metadata": {},
   "outputs": [],
   "source": [
    "# add module denepdency in graphx format\n",
    "\n",
    "roots = set()\n",
    "for i, (k, v) in enumerate(module_dep.items()):\n",
    "    if DEBUG and i > 3:\n",
    "        break\n",
    "    if len(v) == 0:\n",
    "        roots.add(k)\n",
    "    else:\n",
    "        for el in v:\n",
    "            graph.add_edge(k, el)"
   ]
  },
  {
   "cell_type": "code",
   "execution_count": null,
   "metadata": {},
   "outputs": [],
   "source": [
    "options = {\n",
    "    'node_color': 'orange',\n",
    "    'with_labels': True,\n",
    "    'arrows': True,\n",
    "    'node_size': 10,\n",
    "    'width': 1,\n",
    "}"
   ]
  },
  {
   "cell_type": "markdown",
   "metadata": {},
   "source": [
    "## Dependency summaries"
   ]
  },
  {
   "cell_type": "code",
   "execution_count": null,
   "metadata": {},
   "outputs": [],
   "source": [
    "# show table of modules\n",
    "\n",
    "\n",
    "# table_str = tabulate(ol_sel], headers=headers, tablefmt=\"psql\", floatfmt=\".2f\")\n",
    "# shrink to 10 dependencies\n",
    "# module_dep1 = {k:[v[] for k,v in module_dep.items()}\n",
    "\n",
    "DEP_LIMIT = 5\n",
    "# module_dep1 = {k:[v[:10]] for k,v in module_dep.items()}\n",
    "headers=[\"module\", \"dependencies\", \"no. dep.\", \"truncated\"]\n",
    "\n",
    "module_dep1 = {}\n",
    "for k, v in module_dep.items():\n",
    "\tif len(v) < DEP_LIMIT:\n",
    "\t\tmodule_dep1[k] = [v, \"{}\".format(len(v))]\n",
    "\telse:\n",
    "\t\tmodule_dep1[k] = [v[:DEP_LIMIT], \"{}\".format(len(v)), \"y\"]\n",
    "\n",
    "df1 = pd.DataFrame.from_dict(module_dep1, orient='index')\n",
    "note_str = tabulate(df1, headers=headers, tablefmt='psql')\n",
    "\n",
    "# skip print\n",
    "print(note_str)\n",
    "# display(Markdown(note_str))"
   ]
  },
  {
   "cell_type": "code",
   "execution_count": null,
   "metadata": {},
   "outputs": [],
   "source": [
    "def generate_per_node_depency_graph(graph: nx.DiGraph, path: str, png_gen: bool, reverse: bool=False) -> None:\n",
    "\t\"\"\"Generate node depency graph and anlaysis\n",
    "\n",
    "\tParameters\n",
    "\t----------\n",
    "\tgraph : nx.DiGraph\n",
    "\t\tdependency graph\n",
    "\tpath : str\n",
    "\t\tpath to save the graph\n",
    "\tpng_gen : bool\n",
    "\t\twhether to generate png\n",
    "\treverse : bool, optional\n",
    "\t\twhether to reverse the graph, by default False\n",
    "\n",
    "\tReturns\n",
    "\t-------\n",
    "\tNone\n",
    "\n",
    "\t\"\"\"\n",
    "\n",
    "\tnodes = list(graph.nodes())\n",
    "\t# check dir and create if not exist\n",
    "\tif not os.path.exists(path):\n",
    "\t\tos.makedirs(path)\n",
    "\n",
    "\t# note_str = \"## Module Dependency Graphs per modules\"\n",
    "\t# display(Markdown(note_str))\n",
    "\n",
    "\t# png_gen = False\n",
    "\tfor i, node in enumerate(nodes):\n",
    "\t\tfilename = path + \"/\" + node + \".dot\"\n",
    "\t\tif not reverse:\n",
    "\t\t\tT = nx.dfs_tree(graph, node)\n",
    "\t\telse:\n",
    "\t\t\tT = nx.bfs_tree(graph, node, reverse=reverse)\n",
    "\t\tif png_gen:\n",
    "\t\t\tpos = nx.nx_pydot.pydot_layout(T, prog='dot')\n",
    "\t\t\t# pos = nx.nx_agraph.graphviz_layout(graph, prog='dot')\n",
    "\t\t\t# nx.draw(graph, pos=pos, **options)\n",
    "\t\t\t# nx.write_dot(graph, 'module_dep.dot')\n",
    "\t\t\tnx.nx_pydot.write_dot(T, filename)\n",
    "\t\t\tos.system('dot -T png -O '+ filename)\n",
    "\t\tif not reverse:\n",
    "\t\t\tnote_str = f\"[{node}]({filename}.png): direct dependency {module_dep[node]}. All dependency including transitive: {len(T.nodes())-1}\"\n",
    "\t\telse:\n",
    "\t\t\tnote_str = f\"[{node}]({filename}.png): All dependency including transitive: {len(T.nodes())}\"\n",
    "\t\t\t# note_str = f\"[{node}]({filename}.png): depends on {module_dep[node]}\"\n",
    "\t\tdisplay(Markdown(note_str))"
   ]
  },
  {
   "cell_type": "code",
   "execution_count": null,
   "metadata": {},
   "outputs": [],
   "source": [
    "# test\n",
    "\n",
    "T = nx.bfs_tree(graph, 'notification', reverse=True)\n",
    "t = list(T.nodes())\n",
    "len(t)"
   ]
  },
  {
   "cell_type": "code",
   "execution_count": null,
   "metadata": {},
   "outputs": [],
   "source": [
    "# test\n",
    "\n",
    "T = nx.bfs_tree(graph, 'sw_hu', reverse=True)\n",
    "t2 = list(T.nodes())\n",
    "len(t2)"
   ]
  },
  {
   "cell_type": "code",
   "execution_count": null,
   "metadata": {},
   "outputs": [],
   "source": [
    "t3 = list(set(t) & set(t2))\n",
    "len(t3)"
   ]
  },
  {
   "cell_type": "markdown",
   "metadata": {},
   "source": [
    "## Module Dependency Graphs per modules\n",
    "\n",
    "Click on the module name to see the dependency graph."
   ]
  },
  {
   "cell_type": "code",
   "execution_count": null,
   "metadata": {},
   "outputs": [],
   "source": [
    "path = \"module_dots\"\n",
    "reverse = False\n",
    "generate_per_node_depency_graph(graph, path, png_gen=png_gen, reverse=reverse)\n"
   ]
  },
  {
   "cell_type": "markdown",
   "metadata": {},
   "source": [
    "## Reverse Module Dependency Graphs per modules\n",
    "\n",
    "Click on the module name to see the dependency graph."
   ]
  },
  {
   "cell_type": "code",
   "execution_count": null,
   "metadata": {},
   "outputs": [],
   "source": [
    "path = \"reverse_module_dots\"\n",
    "reverse = True\n",
    "generate_per_node_depency_graph(graph, path, png_gen=png_gen, reverse=reverse)"
   ]
  }
 ],
 "metadata": {
  "kernelspec": {
   "display_name": "Python 3.8.12 ('pytorch_env')",
   "language": "python",
   "name": "python3"
  },
  "language_info": {
   "codemirror_mode": {
    "name": "ipython",
    "version": 3
   },
   "file_extension": ".py",
   "mimetype": "text/x-python",
   "name": "python",
   "nbconvert_exporter": "python",
   "pygments_lexer": "ipython3"
  },
  "vscode": {
   "interpreter": {
    "hash": "3fa8f9c45b60853bb3d615f814548b5337da45fc6ea40b493b018f80b808d764"
   }
  }
 },
 "nbformat": 4,
 "nbformat_minor": 2
}
