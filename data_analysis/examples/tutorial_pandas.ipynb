{
 "cells": [
  {
   "cell_type": "markdown",
   "id": "7789f04d",
   "metadata": {},
   "source": [
    "# Tutorial: Pandas"
   ]
  },
  {
   "cell_type": "markdown",
   "id": "2c5ffc25",
   "metadata": {},
   "source": [
    "[![Open In Colab](https://colab.research.google.com/assets/colab-badge.svg)](https://colab.research.google.com/github/insop/ML_crash_course/blob/main/tutorial_pandas.ipynb)"
   ]
  },
  {
   "cell_type": "markdown",
   "id": "69ada03d",
   "metadata": {},
   "source": [
    "[Pandas](https://pandas.pydata.org/) is python library for handling structured data, such as `csv` file input. We will review some of the basics of Pandas usage in this notebook."
   ]
  },
  {
   "cell_type": "markdown",
   "id": "e333534b",
   "metadata": {},
   "source": [
    "We will use covid case from Italy for this tutorial."
   ]
  },
  {
   "cell_type": "code",
   "execution_count": null,
   "id": "12ef1d95",
   "metadata": {},
   "outputs": [],
   "source": [
    "# load csv file and save locally\n",
    "from urllib.request import urlretrieve\n",
    "\n",
    "italy_covid_url = 'https://gist.githubusercontent.com/aakashns/f6a004fa20c84fec53262f9a8bfee775/raw/f309558b1cf5103424cef58e2ecb8704dcd4d74c/italy-covid-daywise.csv'\n",
    "\n",
    "urlretrieve(italy_covid_url, 'italy-covid-daywise.csv')"
   ]
  },
  {
   "cell_type": "code",
   "execution_count": null,
   "id": "1b8ba632",
   "metadata": {},
   "outputs": [],
   "source": [
    "import pandas as pd\n",
    "\n",
    "# load as pandas 'dataframe'\n",
    "covid_df = pd.read_csv('italy-covid-daywise.csv')"
   ]
  },
  {
   "cell_type": "code",
   "execution_count": null,
   "id": "14c3b8d2",
   "metadata": {},
   "outputs": [],
   "source": [
    "type(covid_df)"
   ]
  },
  {
   "cell_type": "code",
   "execution_count": null,
   "id": "20cb3c21",
   "metadata": {},
   "outputs": [],
   "source": [
    "# check the loaded data\n",
    "\n",
    "covid_df"
   ]
  },
  {
   "cell_type": "code",
   "execution_count": null,
   "id": "eeb5f5d8",
   "metadata": {},
   "outputs": [],
   "source": [
    "covid_df.head()"
   ]
  },
  {
   "cell_type": "markdown",
   "id": "55311343",
   "metadata": {},
   "source": [
    "`.describe()` API shows statistical summary, such as min, max, avg..."
   ]
  },
  {
   "cell_type": "code",
   "execution_count": null,
   "id": "2d0dea04",
   "metadata": {},
   "outputs": [],
   "source": [
    "# check the statistical summary, max, min, average...\n",
    "covid_df.describe()"
   ]
  },
  {
   "cell_type": "code",
   "execution_count": null,
   "id": "f0753182",
   "metadata": {},
   "outputs": [],
   "source": [
    "# show the row with 'new_cases' value of -148\n",
    "covid_df[covid_df['new_cases'] == -148]"
   ]
  },
  {
   "cell_type": "code",
   "execution_count": null,
   "id": "c8bdc146",
   "metadata": {},
   "outputs": [],
   "source": [
    "# handling column\n",
    "covid_df[\"new_cases\"] # or covid_df.new_cases"
   ]
  },
  {
   "cell_type": "code",
   "execution_count": null,
   "id": "afa77798",
   "metadata": {},
   "outputs": [],
   "source": [
    "# handling row\n",
    "covid_df.loc[172]"
   ]
  },
  {
   "cell_type": "code",
   "execution_count": null,
   "id": "83b5dc06",
   "metadata": {},
   "outputs": [],
   "source": [
    "# create a new data frame\n",
    "\n",
    "cases_df = covid_df[['date', 'new_cases']]"
   ]
  },
  {
   "cell_type": "code",
   "execution_count": null,
   "id": "72e3412b",
   "metadata": {},
   "outputs": [],
   "source": [
    "cases_df"
   ]
  },
  {
   "cell_type": "code",
   "execution_count": null,
   "id": "4b0c42a4",
   "metadata": {},
   "outputs": [],
   "source": [
    "# querying\n",
    "\n",
    "high_new_cases = covid_df.new_cases > 1000\n",
    "covid_df[high_new_cases] # or covid_df[covid_df.new_cases > 1000] "
   ]
  },
  {
   "cell_type": "code",
   "execution_count": null,
   "id": "86a4825b",
   "metadata": {},
   "outputs": [],
   "source": [
    "case_gt_1000_df = covid_df[high_new_cases]\n",
    "case_gt_1000_df.describe()"
   ]
  },
  {
   "cell_type": "markdown",
   "id": "356f3c38",
   "metadata": {},
   "source": [
    "## Plotting example"
   ]
  },
  {
   "cell_type": "code",
   "execution_count": null,
   "id": "f1ffc7f1",
   "metadata": {},
   "outputs": [],
   "source": [
    "import matplotlib.pyplot as plt\n",
    "\n",
    "# plot the data\n",
    "plt.plot(cases_df.date, cases_df.new_cases)"
   ]
  },
  {
   "cell_type": "code",
   "execution_count": null,
   "id": "ae3c3ac3",
   "metadata": {},
   "outputs": [],
   "source": [
    "# plot scatter plot\n",
    "plt.scatter(cases_df.date, cases_df.new_cases)\n"
   ]
  },
  {
   "cell_type": "markdown",
   "id": "f7cde082",
   "metadata": {},
   "source": [
    "## Credits\n",
    "\n",
    "This notebook is a condensed version of the excellent Pandas tutorial from Jovian.ai, [Pandas tutorial from Jovian](https://jovian.ai/learn/data-analysis-with-python-zero-to-pandas/lesson/lesson-4-analyzing-tabular-data-with-pandas)."
   ]
  },
  {
   "cell_type": "markdown",
   "id": "3879cc37",
   "metadata": {},
   "source": [
    "## References\n",
    "\n",
    "- [Pandas tutorial from Jovian](https://jovian.ai/learn/data-analysis-with-python-zero-to-pandas/lesson/lesson-4-analyzing-tabular-data-with-pandas)"
   ]
  }
 ],
 "metadata": {
  "kernelspec": {
   "display_name": "Python 3 (ipykernel)",
   "language": "python",
   "name": "python3"
  },
  "language_info": {
   "codemirror_mode": {
    "name": "ipython",
    "version": 3
   },
   "file_extension": ".py",
   "mimetype": "text/x-python",
   "name": "python",
   "nbconvert_exporter": "python",
   "pygments_lexer": "ipython3"
  },
  "vscode": {
   "interpreter": {
    "hash": "3fa8f9c45b60853bb3d615f814548b5337da45fc6ea40b493b018f80b808d764"
   }
  }
 },
 "nbformat": 4,
 "nbformat_minor": 5
}
