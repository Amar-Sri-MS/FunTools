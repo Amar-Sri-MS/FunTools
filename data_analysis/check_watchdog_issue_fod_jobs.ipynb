{
 "cells": [
  {
   "cell_type": "markdown",
   "metadata": {},
   "source": [
    "# Retrieve and check fod jobs"
   ]
  },
  {
   "cell_type": "code",
   "execution_count": null,
   "metadata": {},
   "outputs": [],
   "source": [
    "\"\"\"\n",
    "TODO:\n",
    "\n",
    "- [ ] move functions to library\n",
    "- [ ] collect other stats from test jobs\n",
    "\n",
    "\"\"\""
   ]
  },
  {
   "cell_type": "code",
   "execution_count": null,
   "metadata": {},
   "outputs": [],
   "source": [
    "#    - config file: `check_fod_jobs.yml` in the same directory as this notebook"
   ]
  },
  {
   "cell_type": "code",
   "execution_count": null,
   "metadata": {},
   "outputs": [],
   "source": [
    "# *NOTE*: run this command to clean output cell and meta data.\n",
    "# $ nb-clean clean ./check_fod_jobs.ipynb "
   ]
  },
  {
   "cell_type": "code",
   "execution_count": null,
   "metadata": {},
   "outputs": [],
   "source": [
    "# generate html\n",
    "# $ python ./convert_nb.py --filename ./check_watchdog_issue_fod_jobs.ipynb --execute"
   ]
  },
  {
   "cell_type": "code",
   "execution_count": null,
   "metadata": {},
   "outputs": [],
   "source": [
    "import json\n",
    "import matplotlib.pyplot as plt\n",
    "import numpy as np\n",
    "import pandas as pd\n",
    "from typing import Tuple\n",
    "import yaml\n",
    "import json\n",
    "import os\n",
    "import logging\n",
    "import requests\n",
    "from bs4 import BeautifulSoup\n",
    "import re\n",
    "from collections import Counter\n",
    "\n",
    "from utils import *\n",
    "\n",
    "from typing import Iterable, Any, List, Optional, Union, Callable, TextIO, Dict, Tuple\n",
    "\n",
    "%matplotlib inline\n",
    "\n",
    "import matplotlib.pyplot as plt\n",
    "plt.rcParams.update({'font.size': 22})\n",
    "\n",
    "#https://stackoverflow.com/questions/36288670/how-to-programmatically-generate-markdown-output-in-jupyter-notebooks\n",
    "from IPython.display import display, Markdown, Latex\n",
    "\n",
    "pd.set_option('max_colwidth', 800)"
   ]
  },
  {
   "cell_type": "code",
   "execution_count": null,
   "metadata": {},
   "outputs": [],
   "source": [
    "CONFIG_FILE = \"configs/check_watchdog_issue_fod_jobs.yml\"\n",
    "\n",
    "WDT_LONG_MSG = \"WDT: Long-running WU warning\""
   ]
  },
  {
   "cell_type": "code",
   "execution_count": null,
   "metadata": {},
   "outputs": [],
   "source": [
    "config = read_config(CONFIG_FILE)"
   ]
  },
  {
   "cell_type": "code",
   "execution_count": null,
   "metadata": {},
   "outputs": [],
   "source": [
    "# print(config)"
   ]
  },
  {
   "cell_type": "code",
   "execution_count": null,
   "metadata": {},
   "outputs": [],
   "source": [
    "def printmd(string):  ###\n",
    "    display(Markdown(string))  ###"
   ]
  },
  {
   "cell_type": "code",
   "execution_count": null,
   "metadata": {},
   "outputs": [],
   "source": [
    "# extract information from job and console response\n",
    "# summary_table is list of dict\n",
    "def generagte_summary_table(collected_jobs: List[Dict[str, str]]) -> List[Dict[str, str]]:\n",
    "    \"\"\"Generate summary table\n",
    "\n",
    "    Parameters\n",
    "    ----------\n",
    "    collected_jobs : List[Dict[str, str]]\n",
    "        list of dict of job info\n",
    "\n",
    "    Returns\n",
    "    -------\n",
    "    List[Dict[str, str]]\n",
    "        list of dict of summary\n",
    "    \"\"\"\n",
    "    summary_table = []\n",
    "    for job in collected_jobs:\n",
    "        machine, date_str = fod_extract_machines_from_job(job[\"job_response\"])\n",
    "        vps = fod_extract_vps_from_console(job[\"console_response\"], pattern=WDT_LONG_MSG)\n",
    "\n",
    "        row = {\"job_no\": job[\"job_no\"], \"machine\": machine, \"vps\": vps, \"job_url\": job[\"job_url\"], \"console_url\": job[\"console_url\"], \"date\": date_str}\n",
    "        summary_table.append(row)\n",
    "\n",
    "    return summary_table\n"
   ]
  },
  {
   "cell_type": "code",
   "execution_count": null,
   "metadata": {},
   "outputs": [],
   "source": [
    "def get_vp_freq(df: pd.DataFrame) -> Counter:\n",
    "    \"\"\"Get VP frequency\n",
    "\n",
    "    Parameters\n",
    "    ----------\n",
    "    df : pd.DataFrame\n",
    "        dataframe\n",
    "\n",
    "    Returns\n",
    "    -------\n",
    "    Counter\n",
    "        VP frequency\n",
    "    \"\"\"\n",
    "    vp_freq = Counter()\n",
    "    for vps in df[\"vps\"]:\n",
    "        # print(vps)\n",
    "        vp_freq.update(vps)\n",
    "        # print(vp_freq)\n",
    "    return vp_freq"
   ]
  },
  {
   "cell_type": "code",
   "execution_count": null,
   "metadata": {},
   "outputs": [],
   "source": [
    "def get_cluster_freq(df: pd.DataFrame) -> Counter:\n",
    "    \"\"\"get per cluster frequency\n",
    "    \n",
    "    Parameters\n",
    "    ----------\n",
    "    df: pd.DataFrame\n",
    "        dataframe\n",
    "    \n",
    "    Returns\n",
    "    -------\n",
    "    Counter\n",
    "        per cluster frequency\n",
    "    \"\"\"\n",
    "\n",
    "    # cluster frequency\n",
    "\n",
    "\n",
    "    # df[\"vps\"]\n",
    "\n",
    "    # put all columns to list\n",
    "    vps_list = df[\"vps\"].tolist()\n",
    "\n",
    "    # flatten list\n",
    "    # CCV (\"x.x.x\"), first digit is cluster\n",
    "    cluster_list = [item[0] for sublist in vps_list for item in sublist]\n",
    "    # print(cluster_list)\n",
    "\n",
    "    # frequency of each VP\n",
    "    cluster_freq = Counter(cluster_list)\n",
    "\n",
    "\n",
    "    # vp_freq\n",
    "\n",
    "    # sort by frequency\n",
    "    # cluster_freq.most_common()\n",
    "    return cluster_freq\n"
   ]
  },
  {
   "cell_type": "code",
   "execution_count": null,
   "metadata": {},
   "outputs": [],
   "source": [
    "job_str = \"\"\n",
    "# generate string from list\n",
    "for no in config['job_no']:\n",
    "    job_str += str(no) + \", \"\n",
    "\n",
    "note_str = \"### Loading the following jobs:\\n {}\".format(job_str)\n",
    "printmd(note_str)\n",
    "collected_jobs = fod_extract_pages(config)"
   ]
  },
  {
   "cell_type": "code",
   "execution_count": null,
   "metadata": {},
   "outputs": [],
   "source": [
    "summary_table = generagte_summary_table(collected_jobs)"
   ]
  },
  {
   "cell_type": "code",
   "execution_count": null,
   "metadata": {},
   "outputs": [],
   "source": [
    "note_str = \"### The followings shows the jobs list, machines and VPs that watchdog occured\\n Note: empty VPs is due to missing console log.\"\n",
    "printmd(note_str)\n",
    "\n",
    "# convert list to dataframe\n",
    "df = pd.DataFrame(summary_table)\n",
    "display(df[[\"job_no\", \"machine\", \"vps\", \"date\"]])"
   ]
  },
  {
   "cell_type": "code",
   "execution_count": null,
   "metadata": {},
   "outputs": [],
   "source": [
    "# check if failed jobs occurs on the same machine more frequently\n",
    "\n",
    "note_str = \"### The following shows that frequency of machines that failed jobs occured\"\n",
    "printmd(note_str)\n",
    "df[\"machine\"].value_counts()"
   ]
  },
  {
   "cell_type": "code",
   "execution_count": null,
   "metadata": {},
   "outputs": [],
   "source": [
    "note_str = \"### The following shows that frequency of vps that failed jobs occured\"\n",
    "printmd(note_str)\n",
    "\n",
    "vp_freq = get_vp_freq(df)\n",
    "vp_freq.most_common()\n"
   ]
  },
  {
   "cell_type": "code",
   "execution_count": null,
   "metadata": {},
   "outputs": [],
   "source": [
    "note_str = \"### The following shows that frequency of clusters that failed jobs occured\"\n",
    "printmd(note_str)\n",
    "\n",
    "cluster_freq = get_cluster_freq(df)\n",
    "cluster_freq.most_common()"
   ]
  },
  {
   "cell_type": "code",
   "execution_count": null,
   "metadata": {},
   "outputs": [],
   "source": [
    "# print(df['console_url'])"
   ]
  },
  {
   "cell_type": "code",
   "execution_count": null,
   "metadata": {},
   "outputs": [],
   "source": [
    "# print(df['job_url'])"
   ]
  },
  {
   "cell_type": "code",
   "execution_count": null,
   "metadata": {},
   "outputs": [],
   "source": [
    "assert False\n",
    "\n",
    "# below is test code"
   ]
  },
  {
   "cell_type": "code",
   "execution_count": null,
   "metadata": {},
   "outputs": [],
   "source": [
    "test = collected_jobs[0]\n",
    "console = test[\"console_response\"]\n",
    "\n",
    "# print(console)\n"
   ]
  },
  {
   "cell_type": "code",
   "execution_count": null,
   "metadata": {},
   "outputs": [],
   "source": [
    "test_str = \"\"\"\n",
    "[12.570816 6.1.1] \n",
    "[12.571016 4.5.2] \n",
    "[12.571221 1.1.3] WDT: Long-running WU warning: par_work_wuthread__reactivate\n",
    "[12.572009 0.0.0] WDT: Long-running WU warning: par_work_wuthread__reactivate\n",
    "[12.572797 1.1.3] Possible last WU action: 0x820bc2f000c42586\n",
    "[12.573427 0.0.0] Possible last WU action: 0x8202008000c42586\n",
    "[12.574058 1.1.3] Decode WU32 header: wuid 'par_work_wuthread__reactivate' (0xc42586)\n",
    "[12.574927 1.1.3] \tsrc  FA1:15:0[CCV1.1.3]\n",
    "[12.575367 1.1.3] \tdest FA1:15:0[CCV1.1.3]\n",
    "[12.571221 1.1.4] WDT: Long-running WU warning: par_work_wuthread__reactivate\n",
    "[12.575367 1.1.3] \tdest FA1:15:0[CCV1.1.3]\n",
    "\"\"\""
   ]
  },
  {
   "cell_type": "code",
   "execution_count": null,
   "metadata": {},
   "outputs": [],
   "source": [
    "test_str = console"
   ]
  },
  {
   "cell_type": "code",
   "execution_count": null,
   "metadata": {},
   "outputs": [],
   "source": [
    "assert False"
   ]
  },
  {
   "cell_type": "code",
   "execution_count": null,
   "metadata": {},
   "outputs": [],
   "source": [
    "import re\n",
    "\n",
    "pattern = \"WDT: Long-running WU warning\"\n",
    "# filtered_lines = re.search(pattern, test_str, re.DOTALL)\n",
    "# print(filtered_lines.group(0))\n",
    "\n",
    "# for matches in re.findo\n",
    "\n",
    "# find all lines include \"WDT: Long-running WU warning\"\n",
    "# filtered_lines = re.findall(pattern, test_str, re.DOTALL)\n",
    "\n",
    "# find all lines include \"WDT: Long-running WU warning\" and show full line\n",
    "filtered_lines = re.findall(\".*\"+pattern, test_str)\n",
    "print(filtered_lines)\n",
    "vps = []\n",
    "for line in filtered_lines:\n",
    "    # print(line)\n",
    "    t = line.split(\" \")\n",
    "    # print(t)\n",
    "    vp = t[1][:-1]\n",
    "    vps.append(vp)\n",
    "\n",
    "print(vps)"
   ]
  },
  {
   "cell_type": "code",
   "execution_count": null,
   "metadata": {},
   "outputs": [],
   "source": [
    "df[\"vps\"]\n",
    "\n",
    "# put all columns to list\n",
    "vps_list = df[\"vps\"].tolist()\n",
    "\n",
    "# flatten list\n",
    "vps_list = [item for sublist in vps_list for item in sublist]\n",
    "vps_list\n",
    "\n",
    "# frequency of each VP\n",
    "vp_freq = Counter(vps_list)\n",
    "\n",
    "\n",
    "# vp_freq\n",
    "\n",
    "# sort by frequency\n",
    "vp_freq.most_common()\n"
   ]
  },
  {
   "cell_type": "code",
   "execution_count": null,
   "metadata": {},
   "outputs": [],
   "source": [
    "# cluster frequency\n",
    "\n",
    "\n",
    "df[\"vps\"]\n",
    "\n",
    "# put all columns to list\n",
    "vps_list = df[\"vps\"].tolist()\n",
    "\n",
    "# flatten list\n",
    "cluster_list = [item[0] for sublist in vps_list for item in sublist]\n",
    "print(cluster_list)\n",
    "\n",
    "# frequency of each VP\n",
    "cluster_freq = Counter(cluster_list)\n",
    "\n",
    "\n",
    "# vp_freq\n",
    "\n",
    "# sort by frequency\n",
    "cluster_freq.most_common()\n"
   ]
  }
 ],
 "metadata": {
  "kernelspec": {
   "display_name": "Python 3.8.12 ('pytorch_env')",
   "language": "python",
   "name": "python3"
  },
  "language_info": {
   "codemirror_mode": {
    "name": "ipython",
    "version": 3
   },
   "file_extension": ".py",
   "mimetype": "text/x-python",
   "name": "python",
   "nbconvert_exporter": "python",
   "pygments_lexer": "ipython3"
  },
  "vscode": {
   "interpreter": {
    "hash": "3fa8f9c45b60853bb3d615f814548b5337da45fc6ea40b493b018f80b808d764"
   }
  }
 },
 "nbformat": 4,
 "nbformat_minor": 2
}
